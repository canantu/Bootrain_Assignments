{
 "cells": [
  {
   "cell_type": "markdown",
   "metadata": {},
   "source": [
    "### Assignment"
   ]
  },
  {
   "cell_type": "markdown",
   "metadata": {},
   "source": [
    "Assume that we have a dataset of red wines, white wines, red roses and white roses. If you were to cluster these observations, how would you do that? Would you like to cluster them with respect to their colors or anything else? Discuss the pros and cons of different clustering options. "
   ]
  },
  {
   "cell_type": "markdown",
   "metadata": {},
   "source": [
    "### Answer:"
   ]
  },
  {
   "cell_type": "markdown",
   "metadata": {},
   "source": [
    "I would cluster them with respect to both colors and object types. If we would only cluster them according to colors, the result will not carry much information. The resulting clusters will be composed of different types of objects.  It would be more informative if we would seperate them according to objects, however it is still possible to extract more information. Therefore, the combination of color and object type would be satisfactory. This will result in 4 clusters and a bit more computationally expensive than the case with 2 clusters. "
   ]
  },
  {
   "cell_type": "code",
   "execution_count": null,
   "metadata": {},
   "outputs": [],
   "source": []
  }
 ],
 "metadata": {
  "kernelspec": {
   "display_name": "Python 3",
   "language": "python",
   "name": "python3"
  },
  "language_info": {
   "codemirror_mode": {
    "name": "ipython",
    "version": 3
   },
   "file_extension": ".py",
   "mimetype": "text/x-python",
   "name": "python",
   "nbconvert_exporter": "python",
   "pygments_lexer": "ipython3",
   "version": "3.8.5"
  }
 },
 "nbformat": 4,
 "nbformat_minor": 4
}
