{
 "cells": [
  {
   "cell_type": "markdown",
   "metadata": {},
   "source": [
    "# Assignment\n",
    "\n",
    "To complete this assignment, send the Github link of the Jupyter notebook file containing solutions to the following questions:\n",
    "\n",
    "1. What is the purpose the data exploration?\n",
    "2. Suppose you are working on a dataset containing customer reviews of an e-commerce company's products. Customer reviews collected through the company's website are rated between 1 and 5 depending on whether the content is positive or negative.\n",
    "    - What kind of problems do you expect to encounter in this raw data?\n",
    "    - What kind of problems do you expect to encounter in this raw data?\n",
    "    - If your task is to identify the characteristics that reveal that the customers' comments are positive or negative, how would you do that and what methods would you use for this?\n",
    "    - What are the useful features that can be extracted from raw data? How can you access this data and understand whether it is useful?\n",
    "3. Why do you think missing values should be taking care of?\n",
    "4. Do you think that outliers have an impact on a dataset? If so, how would you explain this impact?\n",
    "5. Please briefly summarize you first actions when you start analyzing the data?"
   ]
  },
  {
   "cell_type": "code",
   "execution_count": null,
   "metadata": {},
   "outputs": [],
   "source": []
  },
  {
   "cell_type": "markdown",
   "metadata": {},
   "source": [
    "# Solutions\n",
    "\n",
    "1. The purpose of data exploration is understanding data in order to make meaningful inferences from it.\n",
    "\n",
    "2. \n",
    "    - There may be outliers in data because of misleading reviews or fraud. Also dublicate values may exist, same customer may enter more than one review. \n",
    "    - Since the ratings are integer and ordered values, I would take averages of all ratings for each product. I would set a threshold and assign each product as positively or negatively rated according to their average rating and this threshold value. If average rating is above this threshold, than the product is positively rated and vice versa.  \n",
    "    - We may obtain 'most liked product', 'less liked product', 'best selling product' or 'least selling product' information from raw data.\n",
    "    \n",
    "3. Missing values can affect the results of many analyzes. It reduces sample size and likewise the power of tests. Also if missing values follow a pattern, then it causes biased estimations. \n",
    "\n",
    "4. Outliers may affect the shape of data. With and without outliers, data may have different distributions. Therefore it completely changes our inferences about data.\n",
    "\n",
    "5. At the very beginning, I try to obtain information about variables, variable types, number of variables, etc. I analyze central tendency measures. Then I search for missing values and outliers and take necessary actions against them. "
   ]
  },
  {
   "cell_type": "code",
   "execution_count": null,
   "metadata": {},
   "outputs": [],
   "source": []
  }
 ],
 "metadata": {
  "kernelspec": {
   "display_name": "Python 3",
   "language": "python",
   "name": "python3"
  },
  "language_info": {
   "codemirror_mode": {
    "name": "ipython",
    "version": 3
   },
   "file_extension": ".py",
   "mimetype": "text/x-python",
   "name": "python",
   "nbconvert_exporter": "python",
   "pygments_lexer": "ipython3",
   "version": "3.7.6"
  }
 },
 "nbformat": 4,
 "nbformat_minor": 4
}
