{
 "cells": [
  {
   "cell_type": "markdown",
   "metadata": {},
   "source": [
    "# Assignments for \"Basic Data Types\" "
   ]
  },
  {
   "cell_type": "markdown",
   "metadata": {},
   "source": [
    "1. Suppose you invested in Bitcoin at the end of 2017 when Bitcoin gained a lot of value. What would be your money at the end of a week if you had invested \\$1000 with an average daily increase of 12\\% ? You can solve the problem using Python."
   ]
  },
  {
   "cell_type": "code",
   "execution_count": 10,
   "metadata": {},
   "outputs": [
    {
     "name": "stdout",
     "output_type": "stream",
     "text": [
      "Final growth is 1210.68\n",
      "Growth rate is 121.07 \n"
     ]
    }
   ],
   "source": [
    "##### Help\n",
    "\n",
    "# Create a variable capital ($1000)\n",
    "\n",
    "# Create a variable for daily growth (12%)\n",
    "\n",
    "# Create a variable for period (7)\n",
    "\n",
    "# Calculate the final growth rate\n",
    "\n",
    "# Calculate result\n",
    "\n",
    "# Print result\n",
    "\n",
    "capital=1000\n",
    "daily_growth=0.12\n",
    "period=7\n",
    "total_earned=1000*((1+daily_growth)**period)\n",
    "final_growth=total_earned-capital\n",
    "print('Final growth is %.2f' %final_growth)\n",
    "growth_rate=(final_growth/capital)*100\n",
    "print(\"Growth rate is %.2f \" %growth_rate)\n"
   ]
  },
  {
   "cell_type": "markdown",
   "metadata": {},
   "source": [
    "2. Print the text in quotes with Python. However, you must get the numbers from variables using `.format()` notation. <br> Because the text is long, you might consider writing in two lines:\n",
    "\n",
    "        `\"When we buy bitcoin with 1000 USD at the beginning of the week, we would earn 1210.68 USD at the end of the week, with an average gain of 12\\%.\"`"
   ]
  },
  {
   "cell_type": "code",
   "execution_count": 14,
   "metadata": {},
   "outputs": [
    {
     "name": "stdout",
     "output_type": "stream",
     "text": [
      "When we buy bitcoin with 1000 USD at the beginning of the week,we would earn 1210.68 USD at the end of the week, with an average gain of 12.0\\%.\n"
     ]
    }
   ],
   "source": [
    "print(\"When we buy bitcoin with {} USD at the beginning of the week,\\\n",
    "we would earn {:.2f} USD at the end of the week, \\\n",
    "with an average gain of {}\\%.\".format(capital,final_growth,daily_growth*100))"
   ]
  },
  {
   "cell_type": "markdown",
   "metadata": {},
   "source": [
    "3. Get the temperature in Fahrenheit from user and write a code to convert it to Celcius. For conversion, you can use this formula: C = (5/9) * (F - 32)\n",
    "\n",
    "        Enter the temperature in Fahrenheit: \n",
    "        user --> 26\n",
    "        output --> Temperature (C) : -3.33"
   ]
  },
  {
   "cell_type": "code",
   "execution_count": 16,
   "metadata": {},
   "outputs": [
    {
     "name": "stdout",
     "output_type": "stream",
     "text": [
      "Enter the temperature in fahrenheit: 26\n",
      "Temperature (C): -3.33\n"
     ]
    }
   ],
   "source": [
    "f_temp=input(\"Enter the temperature in fahrenheit: \")\n",
    "c_temp=(5/9)*(int(f_temp)-32)\n",
    "print(\"Temperature (C): %.2f\" % c_temp)"
   ]
  },
  {
   "cell_type": "markdown",
   "metadata": {},
   "source": [
    "4. Get a three digit number the from user and calculate the sum of the digits in the integer.\n",
    "\n",
    "        user --> 365\n",
    "        output --> \"The sum of digits in the number is 14"
   ]
  },
  {
   "cell_type": "code",
   "execution_count": 2,
   "metadata": {},
   "outputs": [
    {
     "name": "stdout",
     "output_type": "stream",
     "text": [
      "Enter a three digit number: 365\n",
      "The sum of digits in the number is  14\n"
     ]
    }
   ],
   "source": [
    "\n",
    "number=input('Enter a three digit number: ')\n",
    "digit1=int(number[0])\n",
    "digit2=int(number[1])\n",
    "digit3=int(number[2])\n",
    "print('The sum of digits in the number is ', digit1+digit2+digit3)\n"
   ]
  },
  {
   "cell_type": "markdown",
   "metadata": {},
   "source": [
    "5. Write some code to calculate the hypotenuse of a right angled triangle. Get the side lengths from the user.\n",
    "\n",
    "        user --> first side lenth : 6\n",
    "        user --> first side lenth : 8\n",
    "        output --> \"The length of the hypotenuse is 10"
   ]
  },
  {
   "cell_type": "code",
   "execution_count": null,
   "metadata": {},
   "outputs": [],
   "source": [
    "import math\n",
    "first_side=input(\"Enter the first side length: \")\n",
    "second_side=input(\"Enter the second side length: \")\n",
    "hypotenuse=math.sqrt((int(first_side))**2+(int(second_side))**2)\n",
    "print(\"The length of the hypotenuse is: \", hypotenuse)"
   ]
  }
 ],
 "metadata": {
  "kernelspec": {
   "display_name": "Python 3",
   "language": "python",
   "name": "python3"
  },
  "language_info": {
   "codemirror_mode": {
    "name": "ipython",
    "version": 3
   },
   "file_extension": ".py",
   "mimetype": "text/x-python",
   "name": "python",
   "nbconvert_exporter": "python",
   "pygments_lexer": "ipython3",
   "version": "3.7.6"
  }
 },
 "nbformat": 4,
 "nbformat_minor": 4
}
