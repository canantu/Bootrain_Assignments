{
 "cells": [
  {
   "cell_type": "markdown",
   "metadata": {},
   "source": [
    "# Assignments for \"Loops\""
   ]
  },
  {
   "cell_type": "markdown",
   "metadata": {},
   "source": [
    "1. Please form a multiplication table from user input.\n",
    "\n",
    "    Example :\n",
    "\n",
    "        Enter a number : 6\n",
    "        6 x 1 = 6                                                               \n",
    "        6 x 2 = 12                                                              \n",
    "        6 x 3 = 18                                                              \n",
    "        6 x 4 = 24                                                              \n",
    "        6 x 5 = 30                                                              \n",
    "        6 x 6 = 36                                                              \n",
    "        6 x 7 = 42                                                              \n",
    "        6 x 8 = 48                                                              \n",
    "        6 x 9 = 54                                                              \n",
    "        6 x 10 = 60 "
   ]
  },
  {
   "cell_type": "code",
   "execution_count": null,
   "metadata": {},
   "outputs": [],
   "source": [
    "num=int(input(\"Enter a number: \"))\n",
    "\n",
    "for i in range(1,11):\n",
    "    print(\"{} x {} = {}\".format(num, i, num*i))"
   ]
  },
  {
   "cell_type": "markdown",
   "metadata": {},
   "source": [
    "2. Simply by using list compherension, form a list by taking square of odds numbers and by calculating cube of even numbers from 1 to 20. <br><br>\n"
   ]
  },
  {
   "cell_type": "code",
   "execution_count": null,
   "metadata": {},
   "outputs": [],
   "source": [
    "list_of_sqr_cubes=[]\n",
    "\n",
    "list_of_sqr_cubes=[[i**2, i**3] for i in range(1,21)]\n",
    "       \n",
    "print(list_of_sqr_cubes)"
   ]
  },
  {
   "cell_type": "markdown",
   "metadata": {},
   "source": [
    "3. Please type a code that inverts the initial user input.\n",
    "\n",
    "    Example : \"automobile\" --> \"elibomotua\"<br><br>"
   ]
  },
  {
   "cell_type": "code",
   "execution_count": null,
   "metadata": {},
   "outputs": [],
   "source": [
    "inverted=''\n",
    "word=input(\"Enter a word: \")\n",
    "length=len(word)\n",
    "\n",
    "for i in range(length-1,-1,-1):\n",
    "    inverted=inverted+word[i]\n",
    "\n",
    "print(inverted)"
   ]
  },
  {
   "cell_type": "markdown",
   "metadata": {},
   "source": [
    "4. Using `range(1, 201)`, make two lists. One is containing all even numbers and the other containing all odd numbers.<br><br>"
   ]
  },
  {
   "cell_type": "code",
   "execution_count": null,
   "metadata": {},
   "outputs": [],
   "source": [
    "odd_numbers=[]\n",
    "even_numbers=[]\n",
    "\n",
    "for i in range(1,201,2):   \n",
    "    odd_numbers.append(i)\n",
    "    even_numbers.append(int(i)+1)\n",
    "    \n",
    "print(odd_numbers)\n",
    "print(even_numbers)"
   ]
  },
  {
   "cell_type": "markdown",
   "metadata": {},
   "source": [
    "5. Define a function called `count` that has two arguments called `sequence` and `item`. Return the number of times the item occurs in the list.<br>\n",
    "\n",
    "    Example:\n",
    "    ```python\n",
    "    count([1,2,1,1], 1)\n",
    "    ```\n",
    "    It should return 3. Because `1` appears 3 times in the list.<br><br>"
   ]
  },
  {
   "cell_type": "code",
   "execution_count": null,
   "metadata": {},
   "outputs": [],
   "source": [
    "def count(squence, item):\n",
    "    say=0   \n",
    "    for i in squence:\n",
    "        if item==i:\n",
    "            say=say+1\n",
    "\n",
    "    return say\n",
    "\n",
    "count([1,2,3,1,3,4,5,4,3,2],4)"
   ]
  },
  {
   "cell_type": "markdown",
   "metadata": {},
   "source": [
    "6. Write a function called `digit_sum` that takes a positive integer n as input and returns the sum of all that number's digits as a single-digit number.\n",
    "\n",
    "    Example:\n",
    "        27684 --> 2 + 7 + 6 + 8 + 4 = 27 --> 2 + 7 = 9<br>"
   ]
  },
  {
   "cell_type": "code",
   "execution_count": null,
   "metadata": {},
   "outputs": [],
   "source": [
    "def digit_sum(num):\n",
    "            \n",
    "       \n",
    "        num_list=str(num)\n",
    "        \n",
    "        while len(num_list)>1: \n",
    "            sum=0\n",
    "            for i in num_list:\n",
    "                sum=sum+int(i)\n",
    "            num_list=str(sum)    \n",
    "        print(sum)   \n",
    "                        \n",
    "digit_sum(52)"
   ]
  },
  {
   "cell_type": "markdown",
   "metadata": {},
   "source": [
    "7. Write a program to find greatest common divisor (GCD) or highest common factor (HCF) of given two numbers.<br><br>"
   ]
  },
  {
   "cell_type": "code",
   "execution_count": null,
   "metadata": {},
   "outputs": [],
   "source": [
    "a=int(input(\"Enter a number: \"))\n",
    "b=int(input(\"Enter another number: \"))\n",
    "\n",
    "num1=min(a,b)\n",
    "num2=max(a,b)\n",
    "gcd=1\n",
    "\n",
    "for i in range(num1, 1, -1):\n",
    "    if num1 % i == 0 and num2 % i ==0:\n",
    "        gcd=i\n",
    "        break\n",
    "        \n",
    "print(gcd)"
   ]
  },
  {
   "cell_type": "markdown",
   "metadata": {},
   "source": [
    "8. Write a Python program that iterates integers from 1 to 50. For multiples of three print `fizz` instead of the number and for the multiples of five print `buzz`. For numbers which are multiples of both three and five print `fizzbuzz`.\n"
   ]
  },
  {
   "cell_type": "code",
   "execution_count": null,
   "metadata": {},
   "outputs": [],
   "source": [
    "num=list(range(1, 51))\n",
    "new=[]\n",
    "for i in num:\n",
    "    if i % 3 ==0:\n",
    "        if i % 5 ==0:\n",
    "            new=new+['fizzbuzz']\n",
    "        else:    \n",
    "            new=new+['fizz']\n",
    "    \n",
    "    elif i % 5==0:\n",
    "        if i % 3==0:\n",
    "            new=new+['fizzbuzz']\n",
    "        else:\n",
    "            new=new+['buzz']\n",
    "    \n",
    "    else:\n",
    "        new.append(i)\n",
    "        \n",
    "print(new)\n",
    "        "
   ]
  },
  {
   "cell_type": "markdown",
   "metadata": {},
   "source": [
    "9. Please form a list out of Fibonacci numbers from 1 to 50. The first two Fibonacci numbers are 1. The next numbers are the sum of the previous two."
   ]
  },
  {
   "cell_type": "code",
   "execution_count": null,
   "metadata": {},
   "outputs": [],
   "source": [
    "new=[1,1]\n",
    "for i in range(1,49):\n",
    "    new.append(new[i-1]+new[i])\n",
    "    \n",
    "print(new)"
   ]
  }
 ],
 "metadata": {
  "kernelspec": {
   "display_name": "Python 3",
   "language": "python",
   "name": "python3"
  },
  "language_info": {
   "codemirror_mode": {
    "name": "ipython",
    "version": 3
   },
   "file_extension": ".py",
   "mimetype": "text/x-python",
   "name": "python",
   "nbconvert_exporter": "python",
   "pygments_lexer": "ipython3",
   "version": "3.7.6"
  }
 },
 "nbformat": 4,
 "nbformat_minor": 4
}
