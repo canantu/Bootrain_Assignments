{
 "cells": [
  {
   "cell_type": "code",
   "execution_count": 115,
   "metadata": {},
   "outputs": [],
   "source": [
    "from collections import Counter\n",
    "import nltk\n",
    "import spacy\n",
    "import re\n",
    "nlp = spacy.load('en')\n",
    "from nltk.corpus import stopwords\n",
    "from nltk.util import ngrams\n",
    "from sklearn.feature_extraction.text import CountVectorizer, TfidfVectorizer\n",
    "from collections import defaultdict\n",
    "from collections import  Counter\n",
    "stop=set(stopwords.words('english'))\n",
    "from nltk.tokenize import word_tokenize"
   ]
  },
  {
   "cell_type": "code",
   "execution_count": 111,
   "metadata": {},
   "outputs": [],
   "source": [
    "import pandas as pd\n",
    "import seaborn as sns\n",
    "import matplotlib.pyplot as plt"
   ]
  },
  {
   "cell_type": "code",
   "execution_count": 32,
   "metadata": {},
   "outputs": [],
   "source": [
    "data = pd.read_csv('train.csv')"
   ]
  },
  {
   "cell_type": "code",
   "execution_count": 1251,
   "metadata": {},
   "outputs": [
    {
     "name": "stdout",
     "output_type": "stream",
     "text": [
      "<class 'pandas.core.frame.DataFrame'>\n",
      "RangeIndex: 7613 entries, 0 to 7612\n",
      "Data columns (total 2 columns):\n",
      " #   Column  Non-Null Count  Dtype \n",
      "---  ------  --------------  ----- \n",
      " 0   text    7613 non-null   object\n",
      " 1   target  7613 non-null   int64 \n",
      "dtypes: int64(1), object(1)\n",
      "memory usage: 119.1+ KB\n"
     ]
    }
   ],
   "source": [
    "data.info()"
   ]
  },
  {
   "cell_type": "code",
   "execution_count": 33,
   "metadata": {},
   "outputs": [],
   "source": [
    "data.drop(columns=['id', 'keyword', 'location'], inplace=True)"
   ]
  },
  {
   "cell_type": "code",
   "execution_count": 752,
   "metadata": {},
   "outputs": [
    {
     "data": {
      "text/plain": [
       "440    smoke good fuck eat drink drive nice car wear ...\n",
       "441                  kill i got court the day after earl\n",
       "442     @local_arsonist lmao but real live you should go\n",
       "443    Owner of Chicago-Area Gay Bar Admits to Arson ...\n",
       "444    Trusting Iran to stop terrorism is like inviti...\n",
       "445    Big Top Burning The True Story Of An Arsonist ...\n",
       "446    Stay vigilent. Civil liberties are under const...\n",
       "447    Credit to @pfannebeckers for inspiring me to r...\n",
       "448    http://t.co/pTKrXtZjtV  Nashville Theater Atta...\n",
       "449    BREAKING: Terror Attack On\\nPolice Post #Udhampur\n",
       "450    Demi stans really think Heart Attack sold 5/6 ...\n",
       "451    it scares me that there's new versions of nucl...\n",
       "452    ISIL claims suicide bombing at Saudi mosque th...\n",
       "453    @DatTomm the funniest part about that twitter ...\n",
       "454    Horrific attack on wife by muslim in Italy htt...\n",
       "455    Ûª93 blasts accused Yeda Yakub dies in Karach...\n",
       "456    @etribune  US Drone attack kills 4-suspected m...\n",
       "457    Suspect in latest theater attack had psycholog...\n",
       "458    Militants attack police post in Udhampur; 2 SP...\n",
       "459    BREAKING: Obama Officials GAVE Muslim Terroris...\n",
       "460    Delhi Government to Provide Free Treatment to ...\n",
       "461    New post from @darkreading http://t.co/8eIJDXA...\n",
       "462    Israeli forces raid home of alleged car attack...\n",
       "463    Just had a heart attack because I thought my g...\n",
       "464    I'm not gonna lie I'm kinda ready to attack my...\n",
       "465    'Left hand side of a diamond is a graveyard sh...\n",
       "466    #volleyball Attack II Volleyball Training Mach...\n",
       "467    Notley's tactful yet very direct response to H...\n",
       "468    Police: Assailant in latest US movie theatre a...\n",
       "469        @CaIxxum5SOS thanks for the damn heart attack\n",
       "470    Suspect in latest US theatre attack had psycho...\n",
       "471    India shud not give any evidence 2 pak.They wi...\n",
       "472    illegal alien released by Obama/DHS 4 times Ch...\n",
       "473    Strongly condemn attack on ARY news team in Ka...\n",
       "474    Nashville Theater Attack: Will Gun Grabbers No...\n",
       "475    The fact that the atomic bombs were called 'Li...\n",
       "476    @blazerfan not everyone can see ignoranceshe i...\n",
       "477    Heart disease prevention: What about secondhan...\n",
       "478    A Dayton-area org tells me it was hit by a cyb...\n",
       "479    Attack on Titan game on PS Vita yay! Can't wai...\n",
       "480    [infowars]  Nashville Theater Attack: Will Gun...\n",
       "481                                    anxiety attack ??\n",
       "482             My dog attacked me for my food #pugprobs\n",
       "483    Cop injured in gunfight as militants attack Ud...\n",
       "484    @envw98 @NickCoCoFree @JulieDiCaro @jdabe80 I ...\n",
       "485                         @messeymetoo I feel attacked\n",
       "486      I'm feeling so attacked https://t.co/CvkQiGr1AZ\n",
       "487    Once again black men didn't make it that way. ...\n",
       "488    I cant believe a fucking cis female is going t...\n",
       "489    Israeli helicopters that attacked civilians in...\n",
       "490    Christian Attacked by Muslims at the Temple Mo...\n",
       "491    Christian Attacked by Muslims at the Temple Mo...\n",
       "492    Christian Attacked by Muslims at the Temple Mo...\n",
       "493    #PT: The unit attacked by IS was responsible f...\n",
       "494    Telnet attacked from 124.13.172.40 (STREAMYX-H...\n",
       "495    Christian Attacked by Muslims at the Temple Mo...\n",
       "496    #TBT Remember that time Patrick Kane attacked ...\n",
       "497           im feeling attacked http://t.co/91jvYCxXVi\n",
       "498    IK Only Troll His Pol Rivals Never Literally A...\n",
       "499    Christian Attacked by Muslims at the Temple Mo...\n",
       "Name: text, dtype: object"
      ]
     },
     "execution_count": 752,
     "metadata": {},
     "output_type": "execute_result"
    }
   ],
   "source": [
    "data.text[440:500]"
   ]
  },
  {
   "cell_type": "markdown",
   "metadata": {},
   "source": [
    "## 1. Data analysis"
   ]
  },
  {
   "cell_type": "code",
   "execution_count": 524,
   "metadata": {},
   "outputs": [],
   "source": [
    "data_analys = data.copy()"
   ]
  },
  {
   "cell_type": "markdown",
   "metadata": {},
   "source": [
    "We have created dictionary of words (corpus) for disaster and non-disaster tweets seperately. "
   ]
  },
  {
   "cell_type": "code",
   "execution_count": 1048,
   "metadata": {},
   "outputs": [],
   "source": [
    "corpus_analys_neg=[]\n",
    "for sent in data_analys[data_analys['target']==0]['text']:\n",
    "    for word in sent.split():\n",
    "        corpus_analys_neg.append(word)"
   ]
  },
  {
   "cell_type": "code",
   "execution_count": 1103,
   "metadata": {},
   "outputs": [],
   "source": [
    "corpus_analys_pos=[]\n",
    "for sent in data_analys[data_analys['target']==1]['text']:\n",
    "    for word in sent.split():\n",
    "        corpus_analys_pos.append(word)"
   ]
  },
  {
   "cell_type": "markdown",
   "metadata": {},
   "source": [
    "Below is the plot of number of tweets for disaster and non-disaster tweets. "
   ]
  },
  {
   "cell_type": "code",
   "execution_count": 1053,
   "metadata": {},
   "outputs": [
    {
     "data": {
      "image/png": "[encoded data removed]",
      "text/plain": [
       "<Figure size 576x288 with 1 Axes>"
      ]
     },
     "metadata": {
      "needs_background": "light"
     },
     "output_type": "display_data"
    }
   ],
   "source": [
    "plt.figure(figsize=(8,4))\n",
    "sns.countplot(data_analys.target)\n",
    "plt.title('Distribution of disaster and non-disaster tweeets')\n",
    "plt.ylabel('Number of tweets')\n",
    "plt.xlabel('Categories')\n",
    "plt.show()"
   ]
  },
  {
   "cell_type": "markdown",
   "metadata": {},
   "source": [
    "We see from the plot that non-disaster tweets are more then disaster tweeets."
   ]
  },
  {
   "cell_type": "code",
   "execution_count": 1086,
   "metadata": {},
   "outputs": [],
   "source": [
    "data_analys['word_count']=data_analys['text'].apply(lambda x: len(str(x).split(\" \")))"
   ]
  },
  {
   "cell_type": "code",
   "execution_count": 1112,
   "metadata": {},
   "outputs": [
    {
     "data": {
      "text/plain": [
       "<function matplotlib.pyplot.show(close=None, block=None)>"
      ]
     },
     "execution_count": 1112,
     "metadata": {},
     "output_type": "execute_result"
    },
    {
     "data": {
      "image/png": "[encoded data removed]",
      "text/plain": [
       "<Figure size 432x288 with 1 Axes>"
      ]
     },
     "metadata": {
      "needs_background": "light"
     },
     "output_type": "display_data"
    }
   ],
   "source": [
    "sns.barplot(y='word_count', x='target', data=data_analys, orient='v')\n",
    "plt.title('Average number of words for each category')\n",
    "plt.ylabel('Word counts')\n",
    "plt.xlabel('Categories')\n",
    "plt.show"
   ]
  },
  {
   "cell_type": "markdown",
   "metadata": {},
   "source": [
    "We see from the above plot that average number of words of both tweet types are almost equal."
   ]
  },
  {
   "cell_type": "code",
   "execution_count": 533,
   "metadata": {},
   "outputs": [],
   "source": [
    "from nltk.corpus import stopwords\n",
    "stop = stopwords.words('english')"
   ]
  },
  {
   "cell_type": "code",
   "execution_count": 534,
   "metadata": {},
   "outputs": [],
   "source": [
    "data_analys['stopwords'] = data_analys['text'].apply(lambda x: len([x for x in x.split() if x in stop]) )"
   ]
  },
  {
   "cell_type": "code",
   "execution_count": 1111,
   "metadata": {},
   "outputs": [
    {
     "data": {
      "text/plain": [
       "<function matplotlib.pyplot.show(close=None, block=None)>"
      ]
     },
     "execution_count": 1111,
     "metadata": {},
     "output_type": "execute_result"
    },
    {
     "data": {
      "image/png": "[encoded data removed]",
      "text/plain": [
       "<Figure size 432x288 with 1 Axes>"
      ]
     },
     "metadata": {
      "needs_background": "light"
     },
     "output_type": "display_data"
    }
   ],
   "source": [
    "sns.barplot(y='stopwords', x='target', data=data_analys, orient='v')\n",
    "plt.title('Average number of stopwords for each category')\n",
    "plt.ylabel('Word counts')\n",
    "plt.xlabel('Categories')\n",
    "plt.show"
   ]
  },
  {
   "cell_type": "markdown",
   "metadata": {},
   "source": [
    "We see from the above plot that average stopword for both types of tweets are very similar."
   ]
  },
  {
   "cell_type": "code",
   "execution_count": 1122,
   "metadata": {},
   "outputs": [
    {
     "data": {
      "image/png": "[encoded data removed]",
      "text/plain": [
       "<Figure size 720x360 with 1 Axes>"
      ]
     },
     "metadata": {
      "needs_background": "light"
     },
     "output_type": "display_data"
    }
   ],
   "source": [
    "plt.figure(figsize=(10,5))\n",
    "from collections import Counter\n",
    "word_counts1 = Counter(corpus_analys_neg).most_common(10)\n",
    "dict_word1 = dict(word_counts1)\n",
    "plt.bar(dict_word1.keys(), dict_word1.values())\n",
    "plt.title('Common words in non-disaster tweets before cleaning')\n",
    "plt.show()"
   ]
  },
  {
   "cell_type": "code",
   "execution_count": 1121,
   "metadata": {},
   "outputs": [
    {
     "data": {
      "image/png": "[encoded data removed]",
      "text/plain": [
       "<Figure size 720x360 with 1 Axes>"
      ]
     },
     "metadata": {
      "needs_background": "light"
     },
     "output_type": "display_data"
    }
   ],
   "source": [
    "plt.figure(figsize=(10,5))\n",
    "from collections import Counter\n",
    "word_counts2 = Counter(corpus_analys_pos).most_common(10)\n",
    "dict_word2 = dict(word_counts2)\n",
    "plt.bar(dict_word2.keys(), dict_word2.values())\n",
    "plt.title('Common words in disaster tweets before cleaning')\n",
    "plt.show()"
   ]
  },
  {
   "cell_type": "markdown",
   "metadata": {},
   "source": [
    "Common words in both tweets are stopwords and punctuations. So we have to clean them first."
   ]
  },
  {
   "cell_type": "markdown",
   "metadata": {},
   "source": [
    "## 2. Data Cleaning"
   ]
  },
  {
   "cell_type": "code",
   "execution_count": 1124,
   "metadata": {},
   "outputs": [],
   "source": [
    "data1 = data.copy()"
   ]
  },
  {
   "cell_type": "code",
   "execution_count": 1127,
   "metadata": {},
   "outputs": [
    {
     "data": {
      "text/plain": [
       "'M1.94 [01:04 UTC]?5km S of Volcano Hawaii. http://t.co/zDtoyd8EbJ'"
      ]
     },
     "execution_count": 1127,
     "metadata": {},
     "output_type": "execute_result"
    }
   ],
   "source": [
    "data1.text[7610]"
   ]
  },
  {
   "cell_type": "markdown",
   "metadata": {},
   "source": [
    "Below, urls will be removed since they don't contribute to differentiate tweets."
   ]
  },
  {
   "cell_type": "code",
   "execution_count": 1128,
   "metadata": {},
   "outputs": [],
   "source": [
    "def remove_URL(text):\n",
    "    \n",
    "    return re.sub(r'https?://\\S+|www\\.\\S+', r'',text)\n",
    "\n",
    "data1['text']=data1['text'].apply(lambda x : remove_URL(x))"
   ]
  },
  {
   "cell_type": "code",
   "execution_count": 1129,
   "metadata": {},
   "outputs": [
    {
     "data": {
      "text/plain": [
       "'M1.94 [01:04 UTC]?5km S of Volcano Hawaii. '"
      ]
     },
     "execution_count": 1129,
     "metadata": {},
     "output_type": "execute_result"
    }
   ],
   "source": [
    "data1.text[7610]"
   ]
  },
  {
   "cell_type": "markdown",
   "metadata": {},
   "source": [
    "Stopwords are the words that are frequently encountered but hold relatively unimportant meanings, like nouns, pronouns, adjectives, adverbs etc. So, we are going to remove them. "
   ]
  },
  {
   "cell_type": "code",
   "execution_count": 1130,
   "metadata": {},
   "outputs": [],
   "source": [
    "sw = stopwords.words('english')"
   ]
  },
  {
   "cell_type": "code",
   "execution_count": null,
   "metadata": {},
   "outputs": [],
   "source": []
  },
  {
   "cell_type": "markdown",
   "metadata": {},
   "source": [
    "I have also added some stopwords that are not included in the list. "
   ]
  },
  {
   "cell_type": "code",
   "execution_count": 1131,
   "metadata": {},
   "outputs": [],
   "source": [
    "for i in [\"i'm\", \"i'd\", \"i'll\", \"there's\", \"there're\", \"he's\", \"he'd\", \"he'll\", \"she's\", \"she'd\", \"she'll\", \n",
    "          \"they're\", \"they'd\", \"they'll\", \"they've\", \"we're\", \"we've\", \"we'll\", \"it'll\", \"it'd\"]:\n",
    "    sw.append(i)"
   ]
  },
  {
   "cell_type": "code",
   "execution_count": 1133,
   "metadata": {},
   "outputs": [
    {
     "data": {
      "text/plain": [
       "\"All residents asked to 'shelter in place' are being notified by officers. No other evacuation or shelter in place orders are expected\""
      ]
     },
     "execution_count": 1133,
     "metadata": {},
     "output_type": "execute_result"
    }
   ],
   "source": [
    "data1.text[2]"
   ]
  },
  {
   "cell_type": "code",
   "execution_count": 1134,
   "metadata": {},
   "outputs": [],
   "source": [
    "def remove_stop(text):\n",
    "    text = [word.lower() for word in text.split() if word.lower() not in sw]\n",
    "    return \" \".join(text)\n",
    "\n",
    "data1['text'] = data1['text'].apply(remove_stop)"
   ]
  },
  {
   "cell_type": "code",
   "execution_count": 1135,
   "metadata": {},
   "outputs": [
    {
     "data": {
      "text/plain": [
       "\"residents asked 'shelter place' notified officers. evacuation shelter place orders expected\""
      ]
     },
     "execution_count": 1135,
     "metadata": {},
     "output_type": "execute_result"
    }
   ],
   "source": [
    "data1.text[2]"
   ]
  },
  {
   "cell_type": "markdown",
   "metadata": {},
   "source": [
    "There are many words starting with '@' since it is used for mention in tweets. They contain addresses which is useless for our analysis. So we are going to remove them. "
   ]
  },
  {
   "cell_type": "code",
   "execution_count": 1136,
   "metadata": {},
   "outputs": [
    {
     "data": {
      "text/plain": [
       "'@aria_ahrary @thetawniest control wild fires california even northern part state. troubling.'"
      ]
     },
     "execution_count": 1136,
     "metadata": {},
     "output_type": "execute_result"
    }
   ],
   "source": [
    "data1.text[7609]"
   ]
  },
  {
   "cell_type": "code",
   "execution_count": 1137,
   "metadata": {},
   "outputs": [],
   "source": [
    "## removing words start with @\n",
    "def remove_at(text):\n",
    "    at_pattern = re.compile(\"(\\s)@\\w+|@\\w+\")\n",
    "    return at_pattern.sub(r'',text)\n",
    "\n",
    "data1['text']=data1['text'].apply(lambda x: remove_at(x))"
   ]
  },
  {
   "cell_type": "code",
   "execution_count": 1138,
   "metadata": {},
   "outputs": [
    {
     "data": {
      "text/plain": [
       "' control wild fires california even northern part state. troubling.'"
      ]
     },
     "execution_count": 1138,
     "metadata": {},
     "output_type": "execute_result"
    }
   ],
   "source": [
    "data1.text[7609]"
   ]
  },
  {
   "cell_type": "markdown",
   "metadata": {},
   "source": [
    "Emojis will be removed in the following."
   ]
  },
  {
   "cell_type": "code",
   "execution_count": 1149,
   "metadata": {},
   "outputs": [],
   "source": [
    "def remove_emoji(text):\n",
    "    emoji_pattern = re.compile(\"[\"\n",
    "                           u\"\\U0001F600-\\U0001F64F\"  # emoticons\n",
    "                           u\"\\U0001F300-\\U0001F5FF\"  # symbols & pictographs\n",
    "                           u\"\\U0001F680-\\U0001F6FF\"  # transport & map symbols\n",
    "                           u\"\\U0001F1E0-\\U0001F1FF\"  # flags (iOS)\n",
    "                           u\"\\U00002702-\\U000027B0\"\n",
    "                           u\"\\U000024C2-\\U0001F251\"\n",
    "                           \"]+\", flags=re.UNICODE)\n",
    "    return emoji_pattern.sub(r'', text)\n",
    "\n",
    "data1['text']=data1['text'].apply(lambda x: remove_emoji(x))"
   ]
  },
  {
   "cell_type": "markdown",
   "metadata": {},
   "source": [
    "When we analyze the data, there are several repeated symbols like below. We will remove them. "
   ]
  },
  {
   "cell_type": "code",
   "execution_count": 1171,
   "metadata": {},
   "outputs": [],
   "source": [
    "def remove_symbol(text):\n",
    "    return re.sub(\"\\\\x89û\\s|\\\\x89û$|\\\\x89û.*|\\\\x89.*\", r'', text)\n",
    "\n",
    "data1['text']=data1['text'].apply(lambda x: remove_symbol(x))"
   ]
  },
  {
   "cell_type": "markdown",
   "metadata": {},
   "source": [
    "Now it is time for removing punctuation."
   ]
  },
  {
   "cell_type": "code",
   "execution_count": null,
   "metadata": {},
   "outputs": [],
   "source": []
  },
  {
   "cell_type": "code",
   "execution_count": 1173,
   "metadata": {},
   "outputs": [],
   "source": [
    "def remove_punctuation(text):\n",
    "    \n",
    "    import string\n",
    "    translator = str.maketrans('', '', string.punctuation)\n",
    "    return text.translate(translator)\n",
    "\n",
    "data1['text'] = data1['text'].apply(remove_punctuation)"
   ]
  },
  {
   "cell_type": "code",
   "execution_count": 1174,
   "metadata": {},
   "outputs": [
    {
     "data": {
      "text/plain": [
       "0            deeds reason earthquake may allah forgive us\n",
       "1                   forest fire near la ronge sask canada\n",
       "2       residents asked shelter place notified officer...\n",
       "3        people receive wildfires evacuation orders ca...\n",
       "4       got sent photo ruby alaska smoke wildfires pou...\n",
       "                              ...                        \n",
       "7608    two giant cranes holding bridge collapse nearb...\n",
       "7609     control wild fires california even northern p...\n",
       "7610                                       volcano hawaii\n",
       "7611    police investigating ebike collided car little...\n",
       "7612    latest homes razed northern california wildfir...\n",
       "Name: text, Length: 7613, dtype: object"
      ]
     },
     "execution_count": 1174,
     "metadata": {},
     "output_type": "execute_result"
    }
   ],
   "source": [
    "data1.text"
   ]
  },
  {
   "cell_type": "markdown",
   "metadata": {},
   "source": [
    "There remain some words with numbers and extra white spaces. We will remove them in the following."
   ]
  },
  {
   "cell_type": "code",
   "execution_count": 1175,
   "metadata": {},
   "outputs": [],
   "source": [
    "## removing words with numbers\n",
    "def remove_number(text):\n",
    "    number_pattern = re.compile('\\w*\\d\\w*')\n",
    "    return number_pattern.sub(r'',text)\n",
    "\n",
    "data1['text']=data1['text'].apply(lambda x: remove_number(x))"
   ]
  },
  {
   "cell_type": "code",
   "execution_count": 1177,
   "metadata": {},
   "outputs": [],
   "source": [
    "def remove_nonascii(text):\n",
    "    nonascii_pattern = re.compile('[^\\x00-\\x7F]+')\n",
    "    return nonascii_pattern.sub(r'', text)\n",
    "\n",
    "data1['text']=data1['text'].apply(lambda x: remove_nonascii(x))"
   ]
  },
  {
   "cell_type": "code",
   "execution_count": 1178,
   "metadata": {},
   "outputs": [],
   "source": [
    "## removing words starts with aa..\n",
    "def remove_aa(text):\n",
    "    aa_pattern = re.compile('aa\\s|aa$')\n",
    "    return aa_pattern.sub(r'',text)\n",
    "\n",
    "data1['text']=data1['text'].apply(lambda x: remove_aa(x))"
   ]
  },
  {
   "cell_type": "markdown",
   "metadata": {},
   "source": [
    "Below we remove some abbreviations that are mostly used in tweets like 'tbt', 'rt', etc."
   ]
  },
  {
   "cell_type": "code",
   "execution_count": 1179,
   "metadata": {},
   "outputs": [],
   "source": [
    "## removing specific unusefull words...\n",
    "def remove_words(text):\n",
    "    word_pattern = re.compile('pm\\s|pm$|am\\s|am$|tbt\\s|tbt$|rt\\s|rt$|gmt\\s|gmt$|pt\\s|pt$|')\n",
    "    return word_pattern.sub(r'',text)\n",
    "\n",
    "data1['text']=data1['text'].apply(lambda x: remove_words(x))"
   ]
  },
  {
   "cell_type": "markdown",
   "metadata": {},
   "source": [
    "Finally we remove all white spaces."
   ]
  },
  {
   "cell_type": "code",
   "execution_count": 1180,
   "metadata": {},
   "outputs": [],
   "source": [
    "def remove_whites(text):\n",
    "    \n",
    "    return ' '.join(text.split())\n",
    "\n",
    "data1['text']=data1['text'].apply(lambda x: remove_whites(x))"
   ]
  },
  {
   "cell_type": "code",
   "execution_count": 1181,
   "metadata": {},
   "outputs": [
    {
     "data": {
      "text/html": [
       "<div>\n",
       "<style scoped>\n",
       "    .dataframe tbody tr th:only-of-type {\n",
       "        vertical-align: middle;\n",
       "    }\n",
       "\n",
       "    .dataframe tbody tr th {\n",
       "        vertical-align: top;\n",
       "    }\n",
       "\n",
       "    .dataframe thead th {\n",
       "        text-align: right;\n",
       "    }\n",
       "</style>\n",
       "<table border=\"1\" class=\"dataframe\">\n",
       "  <thead>\n",
       "    <tr style=\"text-align: right;\">\n",
       "      <th></th>\n",
       "      <th>text</th>\n",
       "      <th>target</th>\n",
       "    </tr>\n",
       "  </thead>\n",
       "  <tbody>\n",
       "    <tr>\n",
       "      <th>0</th>\n",
       "      <td>deeds reason earthquake may allah forgive us</td>\n",
       "      <td>1</td>\n",
       "    </tr>\n",
       "    <tr>\n",
       "      <th>1</th>\n",
       "      <td>forest fire near la ronge sask canada</td>\n",
       "      <td>1</td>\n",
       "    </tr>\n",
       "    <tr>\n",
       "      <th>2</th>\n",
       "      <td>residents asked shelter place notified officer...</td>\n",
       "      <td>1</td>\n",
       "    </tr>\n",
       "    <tr>\n",
       "      <th>3</th>\n",
       "      <td>people receive wildfires evacuation orders cal...</td>\n",
       "      <td>1</td>\n",
       "    </tr>\n",
       "    <tr>\n",
       "      <th>4</th>\n",
       "      <td>got sent photo ruby alaska smoke wildfires pou...</td>\n",
       "      <td>1</td>\n",
       "    </tr>\n",
       "  </tbody>\n",
       "</table>\n",
       "</div>"
      ],
      "text/plain": [
       "                                                text  target\n",
       "0       deeds reason earthquake may allah forgive us       1\n",
       "1              forest fire near la ronge sask canada       1\n",
       "2  residents asked shelter place notified officer...       1\n",
       "3  people receive wildfires evacuation orders cal...       1\n",
       "4  got sent photo ruby alaska smoke wildfires pou...       1"
      ]
     },
     "execution_count": 1181,
     "metadata": {},
     "output_type": "execute_result"
    }
   ],
   "source": [
    "data1.head()"
   ]
  },
  {
   "cell_type": "code",
   "execution_count": 1183,
   "metadata": {},
   "outputs": [],
   "source": [
    "data1.rename(columns = {'text':'text', 'target':'target_dis'}, inplace=True)"
   ]
  },
  {
   "cell_type": "code",
   "execution_count": 1184,
   "metadata": {},
   "outputs": [
    {
     "data": {
      "text/html": [
       "<div>\n",
       "<style scoped>\n",
       "    .dataframe tbody tr th:only-of-type {\n",
       "        vertical-align: middle;\n",
       "    }\n",
       "\n",
       "    .dataframe tbody tr th {\n",
       "        vertical-align: top;\n",
       "    }\n",
       "\n",
       "    .dataframe thead th {\n",
       "        text-align: right;\n",
       "    }\n",
       "</style>\n",
       "<table border=\"1\" class=\"dataframe\">\n",
       "  <thead>\n",
       "    <tr style=\"text-align: right;\">\n",
       "      <th></th>\n",
       "      <th>text</th>\n",
       "      <th>target_dis</th>\n",
       "    </tr>\n",
       "  </thead>\n",
       "  <tbody>\n",
       "    <tr>\n",
       "      <th>0</th>\n",
       "      <td>deeds reason earthquake may allah forgive us</td>\n",
       "      <td>1</td>\n",
       "    </tr>\n",
       "    <tr>\n",
       "      <th>1</th>\n",
       "      <td>forest fire near la ronge sask canada</td>\n",
       "      <td>1</td>\n",
       "    </tr>\n",
       "    <tr>\n",
       "      <th>2</th>\n",
       "      <td>residents asked shelter place notified officer...</td>\n",
       "      <td>1</td>\n",
       "    </tr>\n",
       "    <tr>\n",
       "      <th>3</th>\n",
       "      <td>people receive wildfires evacuation orders cal...</td>\n",
       "      <td>1</td>\n",
       "    </tr>\n",
       "    <tr>\n",
       "      <th>4</th>\n",
       "      <td>got sent photo ruby alaska smoke wildfires pou...</td>\n",
       "      <td>1</td>\n",
       "    </tr>\n",
       "  </tbody>\n",
       "</table>\n",
       "</div>"
      ],
      "text/plain": [
       "                                                text  target_dis\n",
       "0       deeds reason earthquake may allah forgive us           1\n",
       "1              forest fire near la ronge sask canada           1\n",
       "2  residents asked shelter place notified officer...           1\n",
       "3  people receive wildfires evacuation orders cal...           1\n",
       "4  got sent photo ruby alaska smoke wildfires pou...           1"
      ]
     },
     "execution_count": 1184,
     "metadata": {},
     "output_type": "execute_result"
    }
   ],
   "source": [
    "data1.head()"
   ]
  },
  {
   "cell_type": "code",
   "execution_count": 1185,
   "metadata": {},
   "outputs": [
    {
     "data": {
      "image/png": "[encoded data removed]",
      "text/plain": [
       "<Figure size 720x360 with 1 Axes>"
      ]
     },
     "metadata": {
      "needs_background": "light"
     },
     "output_type": "display_data"
    }
   ],
   "source": [
    "from collections import Counter\n",
    "word_counts = Counter(corpus_neg).most_common(40)\n",
    "dict_word = dict(word_counts)\n",
    "plt.figure(figsize=(10,5))\n",
    "plt.bar(dict_word.keys(), dict_word.values())\n",
    "plt.title('Frequent words in non-disaster tweets')\n",
    "plt.ylabel('Frequency')\n",
    "plt.xticks(rotation=90)\n",
    "plt.show()"
   ]
  },
  {
   "cell_type": "code",
   "execution_count": 1186,
   "metadata": {},
   "outputs": [
    {
     "data": {
      "image/png": "[encoded data removed]",
      "text/plain": [
       "<Figure size 720x360 with 1 Axes>"
      ]
     },
     "metadata": {
      "needs_background": "light"
     },
     "output_type": "display_data"
    }
   ],
   "source": [
    "from collections import Counter\n",
    "word_counts = Counter(corpus_pos).most_common(40)\n",
    "dict_word = dict(word_counts)\n",
    "plt.figure(figsize=(10,5))\n",
    "plt.bar(dict_word.keys(), dict_word.values())\n",
    "plt.title('Frequent words in disaster tweets ')\n",
    "plt.ylabel('Frequency')\n",
    "plt.xticks(rotation=90)\n",
    "plt.show()"
   ]
  },
  {
   "cell_type": "markdown",
   "metadata": {},
   "source": [
    "#### Tokenization and Lemmatization"
   ]
  },
  {
   "cell_type": "code",
   "execution_count": 1213,
   "metadata": {},
   "outputs": [],
   "source": [
    "data2= data1.copy()"
   ]
  },
  {
   "cell_type": "code",
   "execution_count": 1214,
   "metadata": {},
   "outputs": [],
   "source": [
    "nlp = spacy.load('en')\n",
    "doc = data2['text'].apply(nlp)"
   ]
  },
  {
   "cell_type": "markdown",
   "metadata": {},
   "source": [
    "Below, we convert words into lemmas that are basically the dictionary forms of the words. For example, `run`, `runs`, `ran` and `running` are forms of the same lexeme, with `run` as the lemma. "
   ]
  },
  {
   "cell_type": "code",
   "execution_count": 1215,
   "metadata": {},
   "outputs": [
    {
     "data": {
      "text/plain": [
       "'residents asked shelter place notified officers evacuation shelter place orders expected'"
      ]
     },
     "execution_count": 1215,
     "metadata": {},
     "output_type": "execute_result"
    }
   ],
   "source": [
    "data2.text[2]"
   ]
  },
  {
   "cell_type": "code",
   "execution_count": 1216,
   "metadata": {},
   "outputs": [],
   "source": [
    "##lemmatization\n",
    "\n",
    "for i, sent in enumerate(doc):\n",
    "    data2.loc[i, 'lemma']=' '.join([token.lemma_ for token in sent])"
   ]
  },
  {
   "cell_type": "code",
   "execution_count": 1217,
   "metadata": {},
   "outputs": [
    {
     "data": {
      "text/plain": [
       "'resident ask shelter place notify officer evacuation shelter place order expect'"
      ]
     },
     "execution_count": 1217,
     "metadata": {},
     "output_type": "execute_result"
    }
   ],
   "source": [
    "data2.lemma[2]"
   ]
  },
  {
   "cell_type": "markdown",
   "metadata": {},
   "source": [
    "We have finished data cleaning. Data is ready for feature extraction."
   ]
  },
  {
   "cell_type": "markdown",
   "metadata": {},
   "source": [
    "### More cleaning after modelling"
   ]
  },
  {
   "cell_type": "code",
   "execution_count": 1279,
   "metadata": {},
   "outputs": [
    {
     "data": {
      "text/plain": [
       "'deeds reason earthquake may allah forgive '"
      ]
     },
     "execution_count": 1279,
     "metadata": {},
     "output_type": "execute_result"
    }
   ],
   "source": [
    "data2.lemma[0]"
   ]
  },
  {
   "cell_type": "code",
   "execution_count": 1278,
   "metadata": {},
   "outputs": [],
   "source": [
    "data2['lemma']=data2['lemma'].apply(lambda text: re.sub('-PRON-\\s|-PRON-$',r'',text))"
   ]
  },
  {
   "cell_type": "code",
   "execution_count": 1230,
   "metadata": {},
   "outputs": [],
   "source": [
    "data2['lemma']=data2['lemma'].apply(lambda text: re.sub('aaaaaaallll\\s|aaaaaaallll$',r'all',text))"
   ]
  },
  {
   "cell_type": "code",
   "execution_count": 1234,
   "metadata": {},
   "outputs": [],
   "source": [
    "data2['lemma']=data2['lemma'].apply(lambda text: re.sub('aaaaaand\\s|aaaaaand$|aannnnd\\s|aannnnd$',r'and',text))"
   ]
  },
  {
   "cell_type": "code",
   "execution_count": 1280,
   "metadata": {},
   "outputs": [],
   "source": [
    "def remove_whites(text):\n",
    "    \n",
    "    return ' '.join(text.split())\n",
    "\n",
    "data1['text']=data1['text'].apply(lambda x: remove_whites(x))"
   ]
  },
  {
   "cell_type": "markdown",
   "metadata": {},
   "source": [
    "## 3. Feature Extraction"
   ]
  },
  {
   "cell_type": "markdown",
   "metadata": {},
   "source": [
    "### 1. Bag of Words"
   ]
  },
  {
   "cell_type": "code",
   "execution_count": 1281,
   "metadata": {},
   "outputs": [],
   "source": [
    "data_bow= data2.copy()"
   ]
  },
  {
   "cell_type": "code",
   "execution_count": 1236,
   "metadata": {},
   "outputs": [],
   "source": [
    "## bag of words using lemmas \n",
    "\n",
    "from sklearn.feature_extraction.text import CountVectorizer\n",
    "\n",
    "vectorizer = CountVectorizer(analyzer = 'word', lowercase=False)\n",
    "X = vectorizer.fit_transform(data_bow[\"lemma\"])\n",
    "bow_df = pd.DataFrame(X.toarray(), columns=vectorizer.get_feature_names())\n",
    "data_bow = pd.concat([bow_df, data_bow[[\"lemma\", \"target_dis\"]]], axis=1)"
   ]
  },
  {
   "cell_type": "code",
   "execution_count": 1242,
   "metadata": {},
   "outputs": [],
   "source": [
    "data_bow.drop(columns=['PRON'], inplace=True)"
   ]
  },
  {
   "cell_type": "code",
   "execution_count": 1244,
   "metadata": {},
   "outputs": [
    {
     "data": {
      "text/html": [
       "<div>\n",
       "<style scoped>\n",
       "    .dataframe tbody tr th:only-of-type {\n",
       "        vertical-align: middle;\n",
       "    }\n",
       "\n",
       "    .dataframe tbody tr th {\n",
       "        vertical-align: top;\n",
       "    }\n",
       "\n",
       "    .dataframe thead th {\n",
       "        text-align: right;\n",
       "    }\n",
       "</style>\n",
       "<table border=\"1\" class=\"dataframe\">\n",
       "  <thead>\n",
       "    <tr style=\"text-align: right;\">\n",
       "      <th></th>\n",
       "      <th>aaarrrgghhh</th>\n",
       "      <th>aampb</th>\n",
       "      <th>aampw</th>\n",
       "      <th>aan</th>\n",
       "      <th>aaok</th>\n",
       "      <th>aar</th>\n",
       "      <th>aashiqui</th>\n",
       "      <th>ab</th>\n",
       "      <th>aba</th>\n",
       "      <th>abalcony</th>\n",
       "      <th>...</th>\n",
       "      <th>zone</th>\n",
       "      <th>zonesthank</th>\n",
       "      <th>zoom</th>\n",
       "      <th>zouma</th>\n",
       "      <th>zrnf</th>\n",
       "      <th>zss</th>\n",
       "      <th>zurich</th>\n",
       "      <th>zzzz</th>\n",
       "      <th>lemma</th>\n",
       "      <th>target_dis</th>\n",
       "    </tr>\n",
       "  </thead>\n",
       "  <tbody>\n",
       "    <tr>\n",
       "      <th>0</th>\n",
       "      <td>0</td>\n",
       "      <td>0</td>\n",
       "      <td>0</td>\n",
       "      <td>0</td>\n",
       "      <td>0</td>\n",
       "      <td>0</td>\n",
       "      <td>0</td>\n",
       "      <td>0</td>\n",
       "      <td>0</td>\n",
       "      <td>0</td>\n",
       "      <td>...</td>\n",
       "      <td>0</td>\n",
       "      <td>0</td>\n",
       "      <td>0</td>\n",
       "      <td>0</td>\n",
       "      <td>0</td>\n",
       "      <td>0</td>\n",
       "      <td>0</td>\n",
       "      <td>0</td>\n",
       "      <td>deeds reason earthquake may allah forgive -PRON-</td>\n",
       "      <td>1</td>\n",
       "    </tr>\n",
       "    <tr>\n",
       "      <th>1</th>\n",
       "      <td>0</td>\n",
       "      <td>0</td>\n",
       "      <td>0</td>\n",
       "      <td>0</td>\n",
       "      <td>0</td>\n",
       "      <td>0</td>\n",
       "      <td>0</td>\n",
       "      <td>0</td>\n",
       "      <td>0</td>\n",
       "      <td>0</td>\n",
       "      <td>...</td>\n",
       "      <td>0</td>\n",
       "      <td>0</td>\n",
       "      <td>0</td>\n",
       "      <td>0</td>\n",
       "      <td>0</td>\n",
       "      <td>0</td>\n",
       "      <td>0</td>\n",
       "      <td>0</td>\n",
       "      <td>forest fire near la ronge sask canada</td>\n",
       "      <td>1</td>\n",
       "    </tr>\n",
       "    <tr>\n",
       "      <th>2</th>\n",
       "      <td>0</td>\n",
       "      <td>0</td>\n",
       "      <td>0</td>\n",
       "      <td>0</td>\n",
       "      <td>0</td>\n",
       "      <td>0</td>\n",
       "      <td>0</td>\n",
       "      <td>0</td>\n",
       "      <td>0</td>\n",
       "      <td>0</td>\n",
       "      <td>...</td>\n",
       "      <td>0</td>\n",
       "      <td>0</td>\n",
       "      <td>0</td>\n",
       "      <td>0</td>\n",
       "      <td>0</td>\n",
       "      <td>0</td>\n",
       "      <td>0</td>\n",
       "      <td>0</td>\n",
       "      <td>resident ask shelter place notify officer evac...</td>\n",
       "      <td>1</td>\n",
       "    </tr>\n",
       "    <tr>\n",
       "      <th>3</th>\n",
       "      <td>0</td>\n",
       "      <td>0</td>\n",
       "      <td>0</td>\n",
       "      <td>0</td>\n",
       "      <td>0</td>\n",
       "      <td>0</td>\n",
       "      <td>0</td>\n",
       "      <td>0</td>\n",
       "      <td>0</td>\n",
       "      <td>0</td>\n",
       "      <td>...</td>\n",
       "      <td>0</td>\n",
       "      <td>0</td>\n",
       "      <td>0</td>\n",
       "      <td>0</td>\n",
       "      <td>0</td>\n",
       "      <td>0</td>\n",
       "      <td>0</td>\n",
       "      <td>0</td>\n",
       "      <td>people receive wildfire evacuation order calif...</td>\n",
       "      <td>1</td>\n",
       "    </tr>\n",
       "    <tr>\n",
       "      <th>4</th>\n",
       "      <td>0</td>\n",
       "      <td>0</td>\n",
       "      <td>0</td>\n",
       "      <td>0</td>\n",
       "      <td>0</td>\n",
       "      <td>0</td>\n",
       "      <td>0</td>\n",
       "      <td>0</td>\n",
       "      <td>0</td>\n",
       "      <td>0</td>\n",
       "      <td>...</td>\n",
       "      <td>0</td>\n",
       "      <td>0</td>\n",
       "      <td>0</td>\n",
       "      <td>0</td>\n",
       "      <td>0</td>\n",
       "      <td>0</td>\n",
       "      <td>0</td>\n",
       "      <td>0</td>\n",
       "      <td>get send photo ruby alaska smoke wildfire pour...</td>\n",
       "      <td>1</td>\n",
       "    </tr>\n",
       "  </tbody>\n",
       "</table>\n",
       "<p>5 rows × 12675 columns</p>\n",
       "</div>"
      ],
      "text/plain": [
       "   aaarrrgghhh  aampb  aampw  aan  aaok  aar  aashiqui  ab  aba  abalcony  \\\n",
       "0            0      0      0    0     0    0         0   0    0         0   \n",
       "1            0      0      0    0     0    0         0   0    0         0   \n",
       "2            0      0      0    0     0    0         0   0    0         0   \n",
       "3            0      0      0    0     0    0         0   0    0         0   \n",
       "4            0      0      0    0     0    0         0   0    0         0   \n",
       "\n",
       "   ...  zone  zonesthank  zoom  zouma  zrnf  zss  zurich  zzzz  \\\n",
       "0  ...     0           0     0      0     0    0       0     0   \n",
       "1  ...     0           0     0      0     0    0       0     0   \n",
       "2  ...     0           0     0      0     0    0       0     0   \n",
       "3  ...     0           0     0      0     0    0       0     0   \n",
       "4  ...     0           0     0      0     0    0       0     0   \n",
       "\n",
       "                                               lemma  target_dis  \n",
       "0   deeds reason earthquake may allah forgive -PRON-           1  \n",
       "1              forest fire near la ronge sask canada           1  \n",
       "2  resident ask shelter place notify officer evac...           1  \n",
       "3  people receive wildfire evacuation order calif...           1  \n",
       "4  get send photo ruby alaska smoke wildfire pour...           1  \n",
       "\n",
       "[5 rows x 12675 columns]"
      ]
     },
     "execution_count": 1244,
     "metadata": {},
     "output_type": "execute_result"
    }
   ],
   "source": [
    "data_bow.head()"
   ]
  },
  {
   "cell_type": "markdown",
   "metadata": {},
   "source": [
    "#### Logistic Regression Model with BoWs"
   ]
  },
  {
   "cell_type": "code",
   "execution_count": 1245,
   "metadata": {},
   "outputs": [
    {
     "name": "stdout",
     "output_type": "stream",
     "text": [
      "----------------------Logistic Regression Scores----------------------\n",
      "Training set score: 0.9513904094591635\n",
      "\n",
      "Test set score: 0.7908732764281025\n"
     ]
    }
   ],
   "source": [
    "from sklearn.linear_model import LogisticRegression\n",
    "from sklearn.model_selection import train_test_split\n",
    "import numpy as np\n",
    "\n",
    "Y = data_bow['target_dis']\n",
    "X = np.array(data_bow.drop(['lemma','target_dis'], 1))\n",
    "\n",
    "# We split the dataset into train and test sets\n",
    "X_train, X_test, y_train, y_test = train_test_split(X, Y, test_size=0.4, random_state=123)\n",
    "\n",
    "# Models\n",
    "lr = LogisticRegression()\n",
    "\n",
    "\n",
    "lr.fit(X_train, y_train)\n",
    "\n",
    "\n",
    "print(\"----------------------Logistic Regression Scores----------------------\")\n",
    "print('Training set score:', lr.score(X_train, y_train))\n",
    "print('\\nTest set score:', lr.score(X_test, y_test))\n"
   ]
  },
  {
   "cell_type": "markdown",
   "metadata": {},
   "source": [
    "Train set score is very high but test score is much lower than it. This shows overfitting. "
   ]
  },
  {
   "cell_type": "markdown",
   "metadata": {},
   "source": [
    "Now, we will remove words that appear only once and build another model. "
   ]
  },
  {
   "cell_type": "code",
   "execution_count": 1248,
   "metadata": {},
   "outputs": [],
   "source": [
    "data_bow_2 = data2.copy()"
   ]
  },
  {
   "cell_type": "code",
   "execution_count": 1249,
   "metadata": {},
   "outputs": [],
   "source": [
    "## bag of words using lemmas min_df=2\n",
    "\n",
    "from sklearn.feature_extraction.text import CountVectorizer\n",
    "\n",
    "vectorizer = CountVectorizer(analyzer = 'word', lowercase=False, min_df=2)\n",
    "X = vectorizer.fit_transform(data_bow_2[\"lemma\"])\n",
    "bow_df = pd.DataFrame(X.toarray(), columns=vectorizer.get_feature_names())\n",
    "data_bow_2 = pd.concat([bow_df, data_bow_2[[\"lemma\", \"target_dis\"]]], axis=1)"
   ]
  },
  {
   "cell_type": "code",
   "execution_count": 1254,
   "metadata": {},
   "outputs": [],
   "source": [
    "data_bow_2.drop(columns=['PRON'], inplace=True)"
   ]
  },
  {
   "cell_type": "code",
   "execution_count": 1255,
   "metadata": {},
   "outputs": [
    {
     "data": {
      "text/html": [
       "<div>\n",
       "<style scoped>\n",
       "    .dataframe tbody tr th:only-of-type {\n",
       "        vertical-align: middle;\n",
       "    }\n",
       "\n",
       "    .dataframe tbody tr th {\n",
       "        vertical-align: top;\n",
       "    }\n",
       "\n",
       "    .dataframe thead th {\n",
       "        text-align: right;\n",
       "    }\n",
       "</style>\n",
       "<table border=\"1\" class=\"dataframe\">\n",
       "  <thead>\n",
       "    <tr style=\"text-align: right;\">\n",
       "      <th></th>\n",
       "      <th>aba</th>\n",
       "      <th>abandon</th>\n",
       "      <th>abbott</th>\n",
       "      <th>abbswinston</th>\n",
       "      <th>abc</th>\n",
       "      <th>abcnew</th>\n",
       "      <th>abe</th>\n",
       "      <th>abia</th>\n",
       "      <th>ability</th>\n",
       "      <th>ablaze</th>\n",
       "      <th>...</th>\n",
       "      <th>zionism</th>\n",
       "      <th>zionist</th>\n",
       "      <th>zip</th>\n",
       "      <th>zippednews</th>\n",
       "      <th>zombie</th>\n",
       "      <th>zone</th>\n",
       "      <th>zouma</th>\n",
       "      <th>zss</th>\n",
       "      <th>lemma</th>\n",
       "      <th>target_dis</th>\n",
       "    </tr>\n",
       "  </thead>\n",
       "  <tbody>\n",
       "    <tr>\n",
       "      <th>0</th>\n",
       "      <td>0</td>\n",
       "      <td>0</td>\n",
       "      <td>0</td>\n",
       "      <td>0</td>\n",
       "      <td>0</td>\n",
       "      <td>0</td>\n",
       "      <td>0</td>\n",
       "      <td>0</td>\n",
       "      <td>0</td>\n",
       "      <td>0</td>\n",
       "      <td>...</td>\n",
       "      <td>0</td>\n",
       "      <td>0</td>\n",
       "      <td>0</td>\n",
       "      <td>0</td>\n",
       "      <td>0</td>\n",
       "      <td>0</td>\n",
       "      <td>0</td>\n",
       "      <td>0</td>\n",
       "      <td>deeds reason earthquake may allah forgive -PRON-</td>\n",
       "      <td>1</td>\n",
       "    </tr>\n",
       "    <tr>\n",
       "      <th>1</th>\n",
       "      <td>0</td>\n",
       "      <td>0</td>\n",
       "      <td>0</td>\n",
       "      <td>0</td>\n",
       "      <td>0</td>\n",
       "      <td>0</td>\n",
       "      <td>0</td>\n",
       "      <td>0</td>\n",
       "      <td>0</td>\n",
       "      <td>0</td>\n",
       "      <td>...</td>\n",
       "      <td>0</td>\n",
       "      <td>0</td>\n",
       "      <td>0</td>\n",
       "      <td>0</td>\n",
       "      <td>0</td>\n",
       "      <td>0</td>\n",
       "      <td>0</td>\n",
       "      <td>0</td>\n",
       "      <td>forest fire near la ronge sask canada</td>\n",
       "      <td>1</td>\n",
       "    </tr>\n",
       "    <tr>\n",
       "      <th>2</th>\n",
       "      <td>0</td>\n",
       "      <td>0</td>\n",
       "      <td>0</td>\n",
       "      <td>0</td>\n",
       "      <td>0</td>\n",
       "      <td>0</td>\n",
       "      <td>0</td>\n",
       "      <td>0</td>\n",
       "      <td>0</td>\n",
       "      <td>0</td>\n",
       "      <td>...</td>\n",
       "      <td>0</td>\n",
       "      <td>0</td>\n",
       "      <td>0</td>\n",
       "      <td>0</td>\n",
       "      <td>0</td>\n",
       "      <td>0</td>\n",
       "      <td>0</td>\n",
       "      <td>0</td>\n",
       "      <td>resident ask shelter place notify officer evac...</td>\n",
       "      <td>1</td>\n",
       "    </tr>\n",
       "    <tr>\n",
       "      <th>3</th>\n",
       "      <td>0</td>\n",
       "      <td>0</td>\n",
       "      <td>0</td>\n",
       "      <td>0</td>\n",
       "      <td>0</td>\n",
       "      <td>0</td>\n",
       "      <td>0</td>\n",
       "      <td>0</td>\n",
       "      <td>0</td>\n",
       "      <td>0</td>\n",
       "      <td>...</td>\n",
       "      <td>0</td>\n",
       "      <td>0</td>\n",
       "      <td>0</td>\n",
       "      <td>0</td>\n",
       "      <td>0</td>\n",
       "      <td>0</td>\n",
       "      <td>0</td>\n",
       "      <td>0</td>\n",
       "      <td>people receive wildfire evacuation order calif...</td>\n",
       "      <td>1</td>\n",
       "    </tr>\n",
       "    <tr>\n",
       "      <th>4</th>\n",
       "      <td>0</td>\n",
       "      <td>0</td>\n",
       "      <td>0</td>\n",
       "      <td>0</td>\n",
       "      <td>0</td>\n",
       "      <td>0</td>\n",
       "      <td>0</td>\n",
       "      <td>0</td>\n",
       "      <td>0</td>\n",
       "      <td>0</td>\n",
       "      <td>...</td>\n",
       "      <td>0</td>\n",
       "      <td>0</td>\n",
       "      <td>0</td>\n",
       "      <td>0</td>\n",
       "      <td>0</td>\n",
       "      <td>0</td>\n",
       "      <td>0</td>\n",
       "      <td>0</td>\n",
       "      <td>get send photo ruby alaska smoke wildfire pour...</td>\n",
       "      <td>1</td>\n",
       "    </tr>\n",
       "  </tbody>\n",
       "</table>\n",
       "<p>5 rows × 5047 columns</p>\n",
       "</div>"
      ],
      "text/plain": [
       "   aba  abandon  abbott  abbswinston  abc  abcnew  abe  abia  ability  ablaze  \\\n",
       "0    0        0       0            0    0       0    0     0        0       0   \n",
       "1    0        0       0            0    0       0    0     0        0       0   \n",
       "2    0        0       0            0    0       0    0     0        0       0   \n",
       "3    0        0       0            0    0       0    0     0        0       0   \n",
       "4    0        0       0            0    0       0    0     0        0       0   \n",
       "\n",
       "   ...  zionism  zionist  zip  zippednews  zombie  zone  zouma  zss  \\\n",
       "0  ...        0        0    0           0       0     0      0    0   \n",
       "1  ...        0        0    0           0       0     0      0    0   \n",
       "2  ...        0        0    0           0       0     0      0    0   \n",
       "3  ...        0        0    0           0       0     0      0    0   \n",
       "4  ...        0        0    0           0       0     0      0    0   \n",
       "\n",
       "                                               lemma  target_dis  \n",
       "0   deeds reason earthquake may allah forgive -PRON-           1  \n",
       "1              forest fire near la ronge sask canada           1  \n",
       "2  resident ask shelter place notify officer evac...           1  \n",
       "3  people receive wildfire evacuation order calif...           1  \n",
       "4  get send photo ruby alaska smoke wildfire pour...           1  \n",
       "\n",
       "[5 rows x 5047 columns]"
      ]
     },
     "execution_count": 1255,
     "metadata": {},
     "output_type": "execute_result"
    }
   ],
   "source": [
    "data_bow_2.head()"
   ]
  },
  {
   "cell_type": "markdown",
   "metadata": {},
   "source": [
    "Number of columns has been decreased from 12675 to 5047. "
   ]
  },
  {
   "cell_type": "code",
   "execution_count": 1256,
   "metadata": {},
   "outputs": [
    {
     "name": "stdout",
     "output_type": "stream",
     "text": [
      "----------------------Logistic Regression Scores----------------------\n",
      "Training set score: 0.9216115611999124\n",
      "\n",
      "Test set score: 0.7859487852921865\n"
     ]
    }
   ],
   "source": [
    "from sklearn.linear_model import LogisticRegression\n",
    "from sklearn.model_selection import train_test_split\n",
    "import numpy as np\n",
    "\n",
    "Y = data_bow_2['target_dis']\n",
    "X = np.array(data_bow_2.drop(['lemma','target_dis'], 1))\n",
    "\n",
    "# We split the dataset into train and test sets\n",
    "X_train, X_test, y_train, y_test = train_test_split(X, Y, test_size=0.4, random_state=123)\n",
    "\n",
    "# Models\n",
    "lr = LogisticRegression()\n",
    "\n",
    "\n",
    "lr.fit(X_train, y_train)\n",
    "\n",
    "\n",
    "print(\"----------------------Logistic Regression Scores----------------------\")\n",
    "print('Training set score:', lr.score(X_train, y_train))\n",
    "print('\\nTest set score:', lr.score(X_test, y_test))\n",
    "\n"
   ]
  },
  {
   "cell_type": "markdown",
   "metadata": {},
   "source": [
    "This time, training set score is decreased but model is still overfitting. We will set min_df=3 and build a model again."
   ]
  },
  {
   "cell_type": "code",
   "execution_count": 1260,
   "metadata": {},
   "outputs": [],
   "source": [
    "data_bow_3 = data2.copy()"
   ]
  },
  {
   "cell_type": "code",
   "execution_count": 1261,
   "metadata": {},
   "outputs": [],
   "source": [
    "## bag of words using lemmas min_df=3\n",
    "\n",
    "from sklearn.feature_extraction.text import CountVectorizer\n",
    "\n",
    "vectorizer = CountVectorizer(analyzer = 'word', lowercase=False, min_df=3)\n",
    "X = vectorizer.fit_transform(data_bow_3[\"lemma\"])\n",
    "bow_df = pd.DataFrame(X.toarray(), columns=vectorizer.get_feature_names())\n",
    "data_bow_3= pd.concat([bow_df, data_bow_3[[\"lemma\", \"target_dis\"]]], axis=1)"
   ]
  },
  {
   "cell_type": "code",
   "execution_count": 1263,
   "metadata": {},
   "outputs": [],
   "source": [
    "data_bow_3.drop(columns=['PRON'], inplace=True)"
   ]
  },
  {
   "cell_type": "code",
   "execution_count": 1264,
   "metadata": {},
   "outputs": [
    {
     "data": {
      "text/html": [
       "<div>\n",
       "<style scoped>\n",
       "    .dataframe tbody tr th:only-of-type {\n",
       "        vertical-align: middle;\n",
       "    }\n",
       "\n",
       "    .dataframe tbody tr th {\n",
       "        vertical-align: top;\n",
       "    }\n",
       "\n",
       "    .dataframe thead th {\n",
       "        text-align: right;\n",
       "    }\n",
       "</style>\n",
       "<table border=\"1\" class=\"dataframe\">\n",
       "  <thead>\n",
       "    <tr style=\"text-align: right;\">\n",
       "      <th></th>\n",
       "      <th>aba</th>\n",
       "      <th>abandon</th>\n",
       "      <th>abbswinston</th>\n",
       "      <th>abc</th>\n",
       "      <th>abcnew</th>\n",
       "      <th>abe</th>\n",
       "      <th>ability</th>\n",
       "      <th>ablaze</th>\n",
       "      <th>able</th>\n",
       "      <th>abomination</th>\n",
       "      <th>...</th>\n",
       "      <th>yrs</th>\n",
       "      <th>yugvani</th>\n",
       "      <th>yyc</th>\n",
       "      <th>zayn</th>\n",
       "      <th>zionist</th>\n",
       "      <th>zombie</th>\n",
       "      <th>zone</th>\n",
       "      <th>zouma</th>\n",
       "      <th>lemma</th>\n",
       "      <th>target_dis</th>\n",
       "    </tr>\n",
       "  </thead>\n",
       "  <tbody>\n",
       "    <tr>\n",
       "      <th>0</th>\n",
       "      <td>0</td>\n",
       "      <td>0</td>\n",
       "      <td>0</td>\n",
       "      <td>0</td>\n",
       "      <td>0</td>\n",
       "      <td>0</td>\n",
       "      <td>0</td>\n",
       "      <td>0</td>\n",
       "      <td>0</td>\n",
       "      <td>0</td>\n",
       "      <td>...</td>\n",
       "      <td>0</td>\n",
       "      <td>0</td>\n",
       "      <td>0</td>\n",
       "      <td>0</td>\n",
       "      <td>0</td>\n",
       "      <td>0</td>\n",
       "      <td>0</td>\n",
       "      <td>0</td>\n",
       "      <td>deeds reason earthquake may allah forgive -PRON-</td>\n",
       "      <td>1</td>\n",
       "    </tr>\n",
       "    <tr>\n",
       "      <th>1</th>\n",
       "      <td>0</td>\n",
       "      <td>0</td>\n",
       "      <td>0</td>\n",
       "      <td>0</td>\n",
       "      <td>0</td>\n",
       "      <td>0</td>\n",
       "      <td>0</td>\n",
       "      <td>0</td>\n",
       "      <td>0</td>\n",
       "      <td>0</td>\n",
       "      <td>...</td>\n",
       "      <td>0</td>\n",
       "      <td>0</td>\n",
       "      <td>0</td>\n",
       "      <td>0</td>\n",
       "      <td>0</td>\n",
       "      <td>0</td>\n",
       "      <td>0</td>\n",
       "      <td>0</td>\n",
       "      <td>forest fire near la ronge sask canada</td>\n",
       "      <td>1</td>\n",
       "    </tr>\n",
       "    <tr>\n",
       "      <th>2</th>\n",
       "      <td>0</td>\n",
       "      <td>0</td>\n",
       "      <td>0</td>\n",
       "      <td>0</td>\n",
       "      <td>0</td>\n",
       "      <td>0</td>\n",
       "      <td>0</td>\n",
       "      <td>0</td>\n",
       "      <td>0</td>\n",
       "      <td>0</td>\n",
       "      <td>...</td>\n",
       "      <td>0</td>\n",
       "      <td>0</td>\n",
       "      <td>0</td>\n",
       "      <td>0</td>\n",
       "      <td>0</td>\n",
       "      <td>0</td>\n",
       "      <td>0</td>\n",
       "      <td>0</td>\n",
       "      <td>resident ask shelter place notify officer evac...</td>\n",
       "      <td>1</td>\n",
       "    </tr>\n",
       "    <tr>\n",
       "      <th>3</th>\n",
       "      <td>0</td>\n",
       "      <td>0</td>\n",
       "      <td>0</td>\n",
       "      <td>0</td>\n",
       "      <td>0</td>\n",
       "      <td>0</td>\n",
       "      <td>0</td>\n",
       "      <td>0</td>\n",
       "      <td>0</td>\n",
       "      <td>0</td>\n",
       "      <td>...</td>\n",
       "      <td>0</td>\n",
       "      <td>0</td>\n",
       "      <td>0</td>\n",
       "      <td>0</td>\n",
       "      <td>0</td>\n",
       "      <td>0</td>\n",
       "      <td>0</td>\n",
       "      <td>0</td>\n",
       "      <td>people receive wildfire evacuation order calif...</td>\n",
       "      <td>1</td>\n",
       "    </tr>\n",
       "    <tr>\n",
       "      <th>4</th>\n",
       "      <td>0</td>\n",
       "      <td>0</td>\n",
       "      <td>0</td>\n",
       "      <td>0</td>\n",
       "      <td>0</td>\n",
       "      <td>0</td>\n",
       "      <td>0</td>\n",
       "      <td>0</td>\n",
       "      <td>0</td>\n",
       "      <td>0</td>\n",
       "      <td>...</td>\n",
       "      <td>0</td>\n",
       "      <td>0</td>\n",
       "      <td>0</td>\n",
       "      <td>0</td>\n",
       "      <td>0</td>\n",
       "      <td>0</td>\n",
       "      <td>0</td>\n",
       "      <td>0</td>\n",
       "      <td>get send photo ruby alaska smoke wildfire pour...</td>\n",
       "      <td>1</td>\n",
       "    </tr>\n",
       "  </tbody>\n",
       "</table>\n",
       "<p>5 rows × 3441 columns</p>\n",
       "</div>"
      ],
      "text/plain": [
       "   aba  abandon  abbswinston  abc  abcnew  abe  ability  ablaze  able  \\\n",
       "0    0        0            0    0       0    0        0       0     0   \n",
       "1    0        0            0    0       0    0        0       0     0   \n",
       "2    0        0            0    0       0    0        0       0     0   \n",
       "3    0        0            0    0       0    0        0       0     0   \n",
       "4    0        0            0    0       0    0        0       0     0   \n",
       "\n",
       "   abomination  ...  yrs  yugvani  yyc  zayn  zionist  zombie  zone  zouma  \\\n",
       "0            0  ...    0        0    0     0        0       0     0      0   \n",
       "1            0  ...    0        0    0     0        0       0     0      0   \n",
       "2            0  ...    0        0    0     0        0       0     0      0   \n",
       "3            0  ...    0        0    0     0        0       0     0      0   \n",
       "4            0  ...    0        0    0     0        0       0     0      0   \n",
       "\n",
       "                                               lemma  target_dis  \n",
       "0   deeds reason earthquake may allah forgive -PRON-           1  \n",
       "1              forest fire near la ronge sask canada           1  \n",
       "2  resident ask shelter place notify officer evac...           1  \n",
       "3  people receive wildfire evacuation order calif...           1  \n",
       "4  get send photo ruby alaska smoke wildfire pour...           1  \n",
       "\n",
       "[5 rows x 3441 columns]"
      ]
     },
     "execution_count": 1264,
     "metadata": {},
     "output_type": "execute_result"
    }
   ],
   "source": [
    "data_bow_3.head()"
   ]
  },
  {
   "cell_type": "markdown",
   "metadata": {},
   "source": [
    "We have less columns now. "
   ]
  },
  {
   "cell_type": "code",
   "execution_count": 1265,
   "metadata": {},
   "outputs": [
    {
     "name": "stdout",
     "output_type": "stream",
     "text": [
      "----------------------Logistic Regression Scores----------------------\n",
      "Training set score: 0.9108824173417999\n",
      "\n",
      "Test set score: 0.7905449770190414\n"
     ]
    }
   ],
   "source": [
    "from sklearn.linear_model import LogisticRegression\n",
    "from sklearn.model_selection import train_test_split\n",
    "import numpy as np\n",
    "\n",
    "Y = data_bow_3['target_dis']\n",
    "X = np.array(data_bow_3.drop(['lemma','target_dis'], 1))\n",
    "\n",
    "# We split the dataset into train and test sets\n",
    "X_train, X_test, y_train, y_test = train_test_split(X, Y, test_size=0.4, random_state=123)\n",
    "\n",
    "# Models\n",
    "lr = LogisticRegression()\n",
    "\n",
    "\n",
    "lr.fit(X_train, y_train)\n",
    "\n",
    "\n",
    "print(\"----------------------Logistic Regression Scores----------------------\")\n",
    "print('Training set score:', lr.score(X_train, y_train))\n",
    "print('\\nTest set score:', lr.score(X_test, y_test))\n",
    "\n"
   ]
  },
  {
   "cell_type": "markdown",
   "metadata": {},
   "source": [
    "### 2-Grams Approach"
   ]
  },
  {
   "cell_type": "markdown",
   "metadata": {},
   "source": [
    "A different approach to Bag of Words is n-grams method. We will use 2-grams and 3-grams."
   ]
  },
  {
   "cell_type": "code",
   "execution_count": 1282,
   "metadata": {},
   "outputs": [],
   "source": [
    "data_2grams = data2.copy()"
   ]
  },
  {
   "cell_type": "code",
   "execution_count": 1283,
   "metadata": {},
   "outputs": [],
   "source": [
    "from sklearn.feature_extraction.text import CountVectorizer\n",
    "\n",
    "vectorizer = CountVectorizer(analyzer = 'word',  lowercase=False,ngram_range= (2,2))\n",
    "X = vectorizer.fit_transform(data_2grams[\"lemma\"])\n",
    "bow_df = pd.DataFrame(X.toarray(), columns=vectorizer.get_feature_names())\n",
    "data_2grams = pd.concat([bow_df, data_2grams[[\"lemma\", \"target_dis\"]]], axis=1)"
   ]
  },
  {
   "cell_type": "code",
   "execution_count": 1284,
   "metadata": {},
   "outputs": [
    {
     "data": {
      "text/html": [
       "<div>\n",
       "<style scoped>\n",
       "    .dataframe tbody tr th:only-of-type {\n",
       "        vertical-align: middle;\n",
       "    }\n",
       "\n",
       "    .dataframe tbody tr th {\n",
       "        vertical-align: top;\n",
       "    }\n",
       "\n",
       "    .dataframe thead th {\n",
       "        text-align: right;\n",
       "    }\n",
       "</style>\n",
       "<table border=\"1\" class=\"dataframe\">\n",
       "  <thead>\n",
       "    <tr style=\"text-align: right;\">\n",
       "      <th></th>\n",
       "      <th>aampb pipeliner</th>\n",
       "      <th>aampw help</th>\n",
       "      <th>aan den</th>\n",
       "      <th>aaok lemme</th>\n",
       "      <th>aar ambulancewe</th>\n",
       "      <th>aashiqui actress</th>\n",
       "      <th>ab resin</th>\n",
       "      <th>aba woman</th>\n",
       "      <th>abandon aircraft</th>\n",
       "      <th>abandon cabin</th>\n",
       "      <th>...</th>\n",
       "      <th>zone rove</th>\n",
       "      <th>zone war</th>\n",
       "      <th>zonesthank god</th>\n",
       "      <th>zoom one</th>\n",
       "      <th>zouma absolutely</th>\n",
       "      <th>zouma flatten</th>\n",
       "      <th>zss vs</th>\n",
       "      <th>zurich swiss</th>\n",
       "      <th>lemma</th>\n",
       "      <th>target_dis</th>\n",
       "    </tr>\n",
       "  </thead>\n",
       "  <tbody>\n",
       "    <tr>\n",
       "      <th>0</th>\n",
       "      <td>0</td>\n",
       "      <td>0</td>\n",
       "      <td>0</td>\n",
       "      <td>0</td>\n",
       "      <td>0</td>\n",
       "      <td>0</td>\n",
       "      <td>0</td>\n",
       "      <td>0</td>\n",
       "      <td>0</td>\n",
       "      <td>0</td>\n",
       "      <td>...</td>\n",
       "      <td>0</td>\n",
       "      <td>0</td>\n",
       "      <td>0</td>\n",
       "      <td>0</td>\n",
       "      <td>0</td>\n",
       "      <td>0</td>\n",
       "      <td>0</td>\n",
       "      <td>0</td>\n",
       "      <td>deeds reason earthquake may allah forgive</td>\n",
       "      <td>1</td>\n",
       "    </tr>\n",
       "    <tr>\n",
       "      <th>1</th>\n",
       "      <td>0</td>\n",
       "      <td>0</td>\n",
       "      <td>0</td>\n",
       "      <td>0</td>\n",
       "      <td>0</td>\n",
       "      <td>0</td>\n",
       "      <td>0</td>\n",
       "      <td>0</td>\n",
       "      <td>0</td>\n",
       "      <td>0</td>\n",
       "      <td>...</td>\n",
       "      <td>0</td>\n",
       "      <td>0</td>\n",
       "      <td>0</td>\n",
       "      <td>0</td>\n",
       "      <td>0</td>\n",
       "      <td>0</td>\n",
       "      <td>0</td>\n",
       "      <td>0</td>\n",
       "      <td>forest fire near la ronge sask canada</td>\n",
       "      <td>1</td>\n",
       "    </tr>\n",
       "    <tr>\n",
       "      <th>2</th>\n",
       "      <td>0</td>\n",
       "      <td>0</td>\n",
       "      <td>0</td>\n",
       "      <td>0</td>\n",
       "      <td>0</td>\n",
       "      <td>0</td>\n",
       "      <td>0</td>\n",
       "      <td>0</td>\n",
       "      <td>0</td>\n",
       "      <td>0</td>\n",
       "      <td>...</td>\n",
       "      <td>0</td>\n",
       "      <td>0</td>\n",
       "      <td>0</td>\n",
       "      <td>0</td>\n",
       "      <td>0</td>\n",
       "      <td>0</td>\n",
       "      <td>0</td>\n",
       "      <td>0</td>\n",
       "      <td>resident ask shelter place notify officer evac...</td>\n",
       "      <td>1</td>\n",
       "    </tr>\n",
       "    <tr>\n",
       "      <th>3</th>\n",
       "      <td>0</td>\n",
       "      <td>0</td>\n",
       "      <td>0</td>\n",
       "      <td>0</td>\n",
       "      <td>0</td>\n",
       "      <td>0</td>\n",
       "      <td>0</td>\n",
       "      <td>0</td>\n",
       "      <td>0</td>\n",
       "      <td>0</td>\n",
       "      <td>...</td>\n",
       "      <td>0</td>\n",
       "      <td>0</td>\n",
       "      <td>0</td>\n",
       "      <td>0</td>\n",
       "      <td>0</td>\n",
       "      <td>0</td>\n",
       "      <td>0</td>\n",
       "      <td>0</td>\n",
       "      <td>people receive wildfire evacuation order calif...</td>\n",
       "      <td>1</td>\n",
       "    </tr>\n",
       "    <tr>\n",
       "      <th>4</th>\n",
       "      <td>0</td>\n",
       "      <td>0</td>\n",
       "      <td>0</td>\n",
       "      <td>0</td>\n",
       "      <td>0</td>\n",
       "      <td>0</td>\n",
       "      <td>0</td>\n",
       "      <td>0</td>\n",
       "      <td>0</td>\n",
       "      <td>0</td>\n",
       "      <td>...</td>\n",
       "      <td>0</td>\n",
       "      <td>0</td>\n",
       "      <td>0</td>\n",
       "      <td>0</td>\n",
       "      <td>0</td>\n",
       "      <td>0</td>\n",
       "      <td>0</td>\n",
       "      <td>0</td>\n",
       "      <td>get send photo ruby alaska smoke wildfire pour...</td>\n",
       "      <td>1</td>\n",
       "    </tr>\n",
       "  </tbody>\n",
       "</table>\n",
       "<p>5 rows × 41220 columns</p>\n",
       "</div>"
      ],
      "text/plain": [
       "   aampb pipeliner  aampw help  aan den  aaok lemme  aar ambulancewe  \\\n",
       "0                0           0        0           0                0   \n",
       "1                0           0        0           0                0   \n",
       "2                0           0        0           0                0   \n",
       "3                0           0        0           0                0   \n",
       "4                0           0        0           0                0   \n",
       "\n",
       "   aashiqui actress  ab resin  aba woman  abandon aircraft  abandon cabin  \\\n",
       "0                 0         0          0                 0              0   \n",
       "1                 0         0          0                 0              0   \n",
       "2                 0         0          0                 0              0   \n",
       "3                 0         0          0                 0              0   \n",
       "4                 0         0          0                 0              0   \n",
       "\n",
       "   ...  zone rove  zone war  zonesthank god  zoom one  zouma absolutely  \\\n",
       "0  ...          0         0               0         0                 0   \n",
       "1  ...          0         0               0         0                 0   \n",
       "2  ...          0         0               0         0                 0   \n",
       "3  ...          0         0               0         0                 0   \n",
       "4  ...          0         0               0         0                 0   \n",
       "\n",
       "   zouma flatten  zss vs  zurich swiss  \\\n",
       "0              0       0             0   \n",
       "1              0       0             0   \n",
       "2              0       0             0   \n",
       "3              0       0             0   \n",
       "4              0       0             0   \n",
       "\n",
       "                                               lemma  target_dis  \n",
       "0         deeds reason earthquake may allah forgive            1  \n",
       "1              forest fire near la ronge sask canada           1  \n",
       "2  resident ask shelter place notify officer evac...           1  \n",
       "3  people receive wildfire evacuation order calif...           1  \n",
       "4  get send photo ruby alaska smoke wildfire pour...           1  \n",
       "\n",
       "[5 rows x 41220 columns]"
      ]
     },
     "execution_count": 1284,
     "metadata": {},
     "output_type": "execute_result"
    }
   ],
   "source": [
    "data_2grams.head(5)"
   ]
  },
  {
   "cell_type": "code",
   "execution_count": null,
   "metadata": {},
   "outputs": [],
   "source": []
  },
  {
   "cell_type": "markdown",
   "metadata": {},
   "source": [
    "#### Logistic Regression with 2-grams"
   ]
  },
  {
   "cell_type": "code",
   "execution_count": 1285,
   "metadata": {},
   "outputs": [
    {
     "name": "stdout",
     "output_type": "stream",
     "text": [
      "----------------------Logistic Regression Scores----------------------\n",
      "Training set score: 0.9719728486971754\n",
      "\n",
      "Test set score: 0.7344057780695995\n"
     ]
    }
   ],
   "source": [
    "from sklearn.linear_model import LogisticRegression\n",
    "from sklearn.model_selection import train_test_split\n",
    "import numpy as np\n",
    "\n",
    "Y = data_2grams['target_dis']\n",
    "X = np.array(data_2grams.drop(['lemma','target_dis'], 1))\n",
    "\n",
    "# We split the dataset into train and test sets\n",
    "X_train, X_test, y_train, y_test = train_test_split(X, Y, test_size=0.4, random_state=123)\n",
    "\n",
    "# Models\n",
    "lr = LogisticRegression()\n",
    "\n",
    "\n",
    "lr.fit(X_train, y_train)\n",
    "\n",
    "\n",
    "print(\"----------------------Logistic Regression Scores----------------------\")\n",
    "print('Training set score:', lr.score(X_train, y_train))\n",
    "print('\\nTest set score:', lr.score(X_test, y_test))\n",
    "\n"
   ]
  },
  {
   "cell_type": "markdown",
   "metadata": {},
   "source": [
    "This time, we will keep single both single words and 2-grams together. "
   ]
  },
  {
   "cell_type": "code",
   "execution_count": 1286,
   "metadata": {},
   "outputs": [],
   "source": [
    "data_12grams = data2.copy()"
   ]
  },
  {
   "cell_type": "code",
   "execution_count": 1287,
   "metadata": {},
   "outputs": [],
   "source": [
    "from sklearn.feature_extraction.text import CountVectorizer\n",
    "\n",
    "vectorizer = CountVectorizer(analyzer = 'word',  lowercase=False,ngram_range= (1,2))\n",
    "X = vectorizer.fit_transform(data_12grams[\"lemma\"])\n",
    "bow_df = pd.DataFrame(X.toarray(), columns=vectorizer.get_feature_names())\n",
    "data_12grams = pd.concat([bow_df, data_12grams[[\"lemma\", \"target_dis\"]]], axis=1)"
   ]
  },
  {
   "cell_type": "code",
   "execution_count": 1289,
   "metadata": {},
   "outputs": [
    {
     "data": {
      "text/html": [
       "<div>\n",
       "<style scoped>\n",
       "    .dataframe tbody tr th:only-of-type {\n",
       "        vertical-align: middle;\n",
       "    }\n",
       "\n",
       "    .dataframe tbody tr th {\n",
       "        vertical-align: top;\n",
       "    }\n",
       "\n",
       "    .dataframe thead th {\n",
       "        text-align: right;\n",
       "    }\n",
       "</style>\n",
       "<table border=\"1\" class=\"dataframe\">\n",
       "  <thead>\n",
       "    <tr style=\"text-align: right;\">\n",
       "      <th></th>\n",
       "      <th>aaarrrgghhh</th>\n",
       "      <th>aampb</th>\n",
       "      <th>aampb pipeliner</th>\n",
       "      <th>aampw</th>\n",
       "      <th>aampw help</th>\n",
       "      <th>aan</th>\n",
       "      <th>aan den</th>\n",
       "      <th>aaok</th>\n",
       "      <th>aaok lemme</th>\n",
       "      <th>aar</th>\n",
       "      <th>...</th>\n",
       "      <th>zouma absolutely</th>\n",
       "      <th>zouma flatten</th>\n",
       "      <th>zrnf</th>\n",
       "      <th>zss</th>\n",
       "      <th>zss vs</th>\n",
       "      <th>zurich</th>\n",
       "      <th>zurich swiss</th>\n",
       "      <th>zzzz</th>\n",
       "      <th>lemma</th>\n",
       "      <th>target_dis</th>\n",
       "    </tr>\n",
       "  </thead>\n",
       "  <tbody>\n",
       "    <tr>\n",
       "      <th>0</th>\n",
       "      <td>0</td>\n",
       "      <td>0</td>\n",
       "      <td>0</td>\n",
       "      <td>0</td>\n",
       "      <td>0</td>\n",
       "      <td>0</td>\n",
       "      <td>0</td>\n",
       "      <td>0</td>\n",
       "      <td>0</td>\n",
       "      <td>0</td>\n",
       "      <td>...</td>\n",
       "      <td>0</td>\n",
       "      <td>0</td>\n",
       "      <td>0</td>\n",
       "      <td>0</td>\n",
       "      <td>0</td>\n",
       "      <td>0</td>\n",
       "      <td>0</td>\n",
       "      <td>0</td>\n",
       "      <td>deeds reason earthquake may allah forgive</td>\n",
       "      <td>1</td>\n",
       "    </tr>\n",
       "    <tr>\n",
       "      <th>1</th>\n",
       "      <td>0</td>\n",
       "      <td>0</td>\n",
       "      <td>0</td>\n",
       "      <td>0</td>\n",
       "      <td>0</td>\n",
       "      <td>0</td>\n",
       "      <td>0</td>\n",
       "      <td>0</td>\n",
       "      <td>0</td>\n",
       "      <td>0</td>\n",
       "      <td>...</td>\n",
       "      <td>0</td>\n",
       "      <td>0</td>\n",
       "      <td>0</td>\n",
       "      <td>0</td>\n",
       "      <td>0</td>\n",
       "      <td>0</td>\n",
       "      <td>0</td>\n",
       "      <td>0</td>\n",
       "      <td>forest fire near la ronge sask canada</td>\n",
       "      <td>1</td>\n",
       "    </tr>\n",
       "    <tr>\n",
       "      <th>2</th>\n",
       "      <td>0</td>\n",
       "      <td>0</td>\n",
       "      <td>0</td>\n",
       "      <td>0</td>\n",
       "      <td>0</td>\n",
       "      <td>0</td>\n",
       "      <td>0</td>\n",
       "      <td>0</td>\n",
       "      <td>0</td>\n",
       "      <td>0</td>\n",
       "      <td>...</td>\n",
       "      <td>0</td>\n",
       "      <td>0</td>\n",
       "      <td>0</td>\n",
       "      <td>0</td>\n",
       "      <td>0</td>\n",
       "      <td>0</td>\n",
       "      <td>0</td>\n",
       "      <td>0</td>\n",
       "      <td>resident ask shelter place notify officer evac...</td>\n",
       "      <td>1</td>\n",
       "    </tr>\n",
       "    <tr>\n",
       "      <th>3</th>\n",
       "      <td>0</td>\n",
       "      <td>0</td>\n",
       "      <td>0</td>\n",
       "      <td>0</td>\n",
       "      <td>0</td>\n",
       "      <td>0</td>\n",
       "      <td>0</td>\n",
       "      <td>0</td>\n",
       "      <td>0</td>\n",
       "      <td>0</td>\n",
       "      <td>...</td>\n",
       "      <td>0</td>\n",
       "      <td>0</td>\n",
       "      <td>0</td>\n",
       "      <td>0</td>\n",
       "      <td>0</td>\n",
       "      <td>0</td>\n",
       "      <td>0</td>\n",
       "      <td>0</td>\n",
       "      <td>people receive wildfire evacuation order calif...</td>\n",
       "      <td>1</td>\n",
       "    </tr>\n",
       "    <tr>\n",
       "      <th>4</th>\n",
       "      <td>0</td>\n",
       "      <td>0</td>\n",
       "      <td>0</td>\n",
       "      <td>0</td>\n",
       "      <td>0</td>\n",
       "      <td>0</td>\n",
       "      <td>0</td>\n",
       "      <td>0</td>\n",
       "      <td>0</td>\n",
       "      <td>0</td>\n",
       "      <td>...</td>\n",
       "      <td>0</td>\n",
       "      <td>0</td>\n",
       "      <td>0</td>\n",
       "      <td>0</td>\n",
       "      <td>0</td>\n",
       "      <td>0</td>\n",
       "      <td>0</td>\n",
       "      <td>0</td>\n",
       "      <td>get send photo ruby alaska smoke wildfire pour...</td>\n",
       "      <td>1</td>\n",
       "    </tr>\n",
       "  </tbody>\n",
       "</table>\n",
       "<p>5 rows × 53893 columns</p>\n",
       "</div>"
      ],
      "text/plain": [
       "   aaarrrgghhh  aampb  aampb pipeliner  aampw  aampw help  aan  aan den  aaok  \\\n",
       "0            0      0                0      0           0    0        0     0   \n",
       "1            0      0                0      0           0    0        0     0   \n",
       "2            0      0                0      0           0    0        0     0   \n",
       "3            0      0                0      0           0    0        0     0   \n",
       "4            0      0                0      0           0    0        0     0   \n",
       "\n",
       "   aaok lemme  aar  ...  zouma absolutely  zouma flatten  zrnf  zss  zss vs  \\\n",
       "0           0    0  ...                 0              0     0    0       0   \n",
       "1           0    0  ...                 0              0     0    0       0   \n",
       "2           0    0  ...                 0              0     0    0       0   \n",
       "3           0    0  ...                 0              0     0    0       0   \n",
       "4           0    0  ...                 0              0     0    0       0   \n",
       "\n",
       "   zurich  zurich swiss  zzzz  \\\n",
       "0       0             0     0   \n",
       "1       0             0     0   \n",
       "2       0             0     0   \n",
       "3       0             0     0   \n",
       "4       0             0     0   \n",
       "\n",
       "                                               lemma  target_dis  \n",
       "0         deeds reason earthquake may allah forgive            1  \n",
       "1              forest fire near la ronge sask canada           1  \n",
       "2  resident ask shelter place notify officer evac...           1  \n",
       "3  people receive wildfire evacuation order calif...           1  \n",
       "4  get send photo ruby alaska smoke wildfire pour...           1  \n",
       "\n",
       "[5 rows x 53893 columns]"
      ]
     },
     "execution_count": 1289,
     "metadata": {},
     "output_type": "execute_result"
    }
   ],
   "source": [
    "data_12grams.head()"
   ]
  },
  {
   "cell_type": "code",
   "execution_count": 1288,
   "metadata": {},
   "outputs": [
    {
     "name": "stdout",
     "output_type": "stream",
     "text": [
      "----------------------Logistic Regression Scores----------------------\n",
      "Training set score: 0.976571053207795\n",
      "\n",
      "Test set score: 0.7954694681549573\n"
     ]
    }
   ],
   "source": [
    "from sklearn.linear_model import LogisticRegression\n",
    "from sklearn.model_selection import train_test_split\n",
    "import numpy as np\n",
    "\n",
    "Y = data_12grams['target_dis']\n",
    "X = np.array(data_12grams.drop(['lemma','target_dis'], 1))\n",
    "\n",
    "# We split the dataset into train and test sets\n",
    "X_train, X_test, y_train, y_test = train_test_split(X, Y, test_size=0.4, random_state=123)\n",
    "\n",
    "# Models\n",
    "lr = LogisticRegression()\n",
    "\n",
    "\n",
    "lr.fit(X_train, y_train)\n",
    "\n",
    "\n",
    "print(\"----------------------Logistic Regression Scores----------------------\")\n",
    "print('Training set score:', lr.score(X_train, y_train))\n",
    "print('\\nTest set score:', lr.score(X_test, y_test))\n",
    "\n",
    "\n"
   ]
  },
  {
   "cell_type": "markdown",
   "metadata": {},
   "source": [
    "When we keep single words and 2-grams together, we have obtained better results. We will try removing uncommon words and test the same model again. "
   ]
  },
  {
   "cell_type": "code",
   "execution_count": 1291,
   "metadata": {},
   "outputs": [],
   "source": [
    "data_123grams = data2.copy()"
   ]
  },
  {
   "cell_type": "code",
   "execution_count": 1292,
   "metadata": {},
   "outputs": [],
   "source": [
    "## min_df = 3, ngram_range= (1,2)\n",
    "from sklearn.feature_extraction.text import CountVectorizer\n",
    "\n",
    "vectorizer = CountVectorizer(analyzer = 'word',  lowercase=False,ngram_range= (1,2), min_df=3)\n",
    "X = vectorizer.fit_transform(data_123grams[\"lemma\"])\n",
    "bow_df = pd.DataFrame(X.toarray(), columns=vectorizer.get_feature_names())\n",
    "data_123grams = pd.concat([bow_df, data_123grams[[\"lemma\", \"target_dis\"]]], axis=1)"
   ]
  },
  {
   "cell_type": "code",
   "execution_count": 1293,
   "metadata": {},
   "outputs": [
    {
     "name": "stdout",
     "output_type": "stream",
     "text": [
      "----------------------Logistic Regression Scores----------------------\n",
      "Training set score: 0.9213925990803591\n",
      "\n",
      "Test set score: 0.788575180564675\n"
     ]
    }
   ],
   "source": [
    "from sklearn.linear_model import LogisticRegression\n",
    "from sklearn.model_selection import train_test_split\n",
    "import numpy as np\n",
    "\n",
    "Y = data_123grams['target_dis']\n",
    "X = np.array(data_123grams.drop(['lemma','target_dis'], 1))\n",
    "\n",
    "# We split the dataset into train and test sets\n",
    "X_train, X_test, y_train, y_test = train_test_split(X, Y, test_size=0.4, random_state=123)\n",
    "\n",
    "# Models\n",
    "lr = LogisticRegression()\n",
    "\n",
    "\n",
    "lr.fit(X_train, y_train)\n",
    "\n",
    "\n",
    "print(\"----------------------Logistic Regression Scores----------------------\")\n",
    "print('Training set score:', lr.score(X_train, y_train))\n",
    "print('\\nTest set score:', lr.score(X_test, y_test))\n",
    "\n"
   ]
  },
  {
   "cell_type": "markdown",
   "metadata": {},
   "source": [
    "### TF-IDF Approach"
   ]
  },
  {
   "cell_type": "code",
   "execution_count": 1294,
   "metadata": {},
   "outputs": [],
   "source": [
    "data_tfidf= data2.copy()"
   ]
  },
  {
   "cell_type": "code",
   "execution_count": 1307,
   "metadata": {},
   "outputs": [],
   "source": [
    "## min_df=2\n",
    "from sklearn.feature_extraction.text import TfidfVectorizer\n",
    "\n",
    "vectorizer = TfidfVectorizer(\n",
    "    max_df=0.5, min_df=2, use_idf=True, norm=u'l2', smooth_idf=True, lowercase=False)\n",
    "\n",
    "# applying the vectorizer\n",
    "X = vectorizer.fit_transform(data_tfidf[\"lemma\"])\n",
    "\n",
    "tfidf_df = pd.DataFrame(X.toarray(), columns=vectorizer.get_feature_names())\n",
    "data_tfidf = pd.concat([tfidf_df, data_tfidf[[\"lemma\", \"target_dis\"]]], axis=1)"
   ]
  },
  {
   "cell_type": "code",
   "execution_count": 1296,
   "metadata": {},
   "outputs": [
    {
     "data": {
      "text/html": [
       "<div>\n",
       "<style scoped>\n",
       "    .dataframe tbody tr th:only-of-type {\n",
       "        vertical-align: middle;\n",
       "    }\n",
       "\n",
       "    .dataframe tbody tr th {\n",
       "        vertical-align: top;\n",
       "    }\n",
       "\n",
       "    .dataframe thead th {\n",
       "        text-align: right;\n",
       "    }\n",
       "</style>\n",
       "<table border=\"1\" class=\"dataframe\">\n",
       "  <thead>\n",
       "    <tr style=\"text-align: right;\">\n",
       "      <th></th>\n",
       "      <th>aba</th>\n",
       "      <th>abandon</th>\n",
       "      <th>abbott</th>\n",
       "      <th>abbswinston</th>\n",
       "      <th>abc</th>\n",
       "      <th>abcnew</th>\n",
       "      <th>abe</th>\n",
       "      <th>abia</th>\n",
       "      <th>ability</th>\n",
       "      <th>ablaze</th>\n",
       "      <th>...</th>\n",
       "      <th>zionism</th>\n",
       "      <th>zionist</th>\n",
       "      <th>zip</th>\n",
       "      <th>zippednews</th>\n",
       "      <th>zombie</th>\n",
       "      <th>zone</th>\n",
       "      <th>zouma</th>\n",
       "      <th>zss</th>\n",
       "      <th>lemma</th>\n",
       "      <th>target_dis</th>\n",
       "    </tr>\n",
       "  </thead>\n",
       "  <tbody>\n",
       "    <tr>\n",
       "      <th>0</th>\n",
       "      <td>0.0</td>\n",
       "      <td>0.0</td>\n",
       "      <td>0.0</td>\n",
       "      <td>0.0</td>\n",
       "      <td>0.0</td>\n",
       "      <td>0.0</td>\n",
       "      <td>0.0</td>\n",
       "      <td>0.0</td>\n",
       "      <td>0.0</td>\n",
       "      <td>0.0</td>\n",
       "      <td>...</td>\n",
       "      <td>0.0</td>\n",
       "      <td>0.0</td>\n",
       "      <td>0.0</td>\n",
       "      <td>0.0</td>\n",
       "      <td>0.0</td>\n",
       "      <td>0.0</td>\n",
       "      <td>0.0</td>\n",
       "      <td>0.0</td>\n",
       "      <td>deeds reason earthquake may allah forgive</td>\n",
       "      <td>1</td>\n",
       "    </tr>\n",
       "    <tr>\n",
       "      <th>1</th>\n",
       "      <td>0.0</td>\n",
       "      <td>0.0</td>\n",
       "      <td>0.0</td>\n",
       "      <td>0.0</td>\n",
       "      <td>0.0</td>\n",
       "      <td>0.0</td>\n",
       "      <td>0.0</td>\n",
       "      <td>0.0</td>\n",
       "      <td>0.0</td>\n",
       "      <td>0.0</td>\n",
       "      <td>...</td>\n",
       "      <td>0.0</td>\n",
       "      <td>0.0</td>\n",
       "      <td>0.0</td>\n",
       "      <td>0.0</td>\n",
       "      <td>0.0</td>\n",
       "      <td>0.0</td>\n",
       "      <td>0.0</td>\n",
       "      <td>0.0</td>\n",
       "      <td>forest fire near la ronge sask canada</td>\n",
       "      <td>1</td>\n",
       "    </tr>\n",
       "    <tr>\n",
       "      <th>2</th>\n",
       "      <td>0.0</td>\n",
       "      <td>0.0</td>\n",
       "      <td>0.0</td>\n",
       "      <td>0.0</td>\n",
       "      <td>0.0</td>\n",
       "      <td>0.0</td>\n",
       "      <td>0.0</td>\n",
       "      <td>0.0</td>\n",
       "      <td>0.0</td>\n",
       "      <td>0.0</td>\n",
       "      <td>...</td>\n",
       "      <td>0.0</td>\n",
       "      <td>0.0</td>\n",
       "      <td>0.0</td>\n",
       "      <td>0.0</td>\n",
       "      <td>0.0</td>\n",
       "      <td>0.0</td>\n",
       "      <td>0.0</td>\n",
       "      <td>0.0</td>\n",
       "      <td>resident ask shelter place notify officer evac...</td>\n",
       "      <td>1</td>\n",
       "    </tr>\n",
       "    <tr>\n",
       "      <th>3</th>\n",
       "      <td>0.0</td>\n",
       "      <td>0.0</td>\n",
       "      <td>0.0</td>\n",
       "      <td>0.0</td>\n",
       "      <td>0.0</td>\n",
       "      <td>0.0</td>\n",
       "      <td>0.0</td>\n",
       "      <td>0.0</td>\n",
       "      <td>0.0</td>\n",
       "      <td>0.0</td>\n",
       "      <td>...</td>\n",
       "      <td>0.0</td>\n",
       "      <td>0.0</td>\n",
       "      <td>0.0</td>\n",
       "      <td>0.0</td>\n",
       "      <td>0.0</td>\n",
       "      <td>0.0</td>\n",
       "      <td>0.0</td>\n",
       "      <td>0.0</td>\n",
       "      <td>people receive wildfire evacuation order calif...</td>\n",
       "      <td>1</td>\n",
       "    </tr>\n",
       "    <tr>\n",
       "      <th>4</th>\n",
       "      <td>0.0</td>\n",
       "      <td>0.0</td>\n",
       "      <td>0.0</td>\n",
       "      <td>0.0</td>\n",
       "      <td>0.0</td>\n",
       "      <td>0.0</td>\n",
       "      <td>0.0</td>\n",
       "      <td>0.0</td>\n",
       "      <td>0.0</td>\n",
       "      <td>0.0</td>\n",
       "      <td>...</td>\n",
       "      <td>0.0</td>\n",
       "      <td>0.0</td>\n",
       "      <td>0.0</td>\n",
       "      <td>0.0</td>\n",
       "      <td>0.0</td>\n",
       "      <td>0.0</td>\n",
       "      <td>0.0</td>\n",
       "      <td>0.0</td>\n",
       "      <td>get send photo ruby alaska smoke wildfire pour...</td>\n",
       "      <td>1</td>\n",
       "    </tr>\n",
       "  </tbody>\n",
       "</table>\n",
       "<p>5 rows × 5047 columns</p>\n",
       "</div>"
      ],
      "text/plain": [
       "   aba  abandon  abbott  abbswinston  abc  abcnew  abe  abia  ability  ablaze  \\\n",
       "0  0.0      0.0     0.0          0.0  0.0     0.0  0.0   0.0      0.0     0.0   \n",
       "1  0.0      0.0     0.0          0.0  0.0     0.0  0.0   0.0      0.0     0.0   \n",
       "2  0.0      0.0     0.0          0.0  0.0     0.0  0.0   0.0      0.0     0.0   \n",
       "3  0.0      0.0     0.0          0.0  0.0     0.0  0.0   0.0      0.0     0.0   \n",
       "4  0.0      0.0     0.0          0.0  0.0     0.0  0.0   0.0      0.0     0.0   \n",
       "\n",
       "   ...  zionism  zionist  zip  zippednews  zombie  zone  zouma  zss  \\\n",
       "0  ...      0.0      0.0  0.0         0.0     0.0   0.0    0.0  0.0   \n",
       "1  ...      0.0      0.0  0.0         0.0     0.0   0.0    0.0  0.0   \n",
       "2  ...      0.0      0.0  0.0         0.0     0.0   0.0    0.0  0.0   \n",
       "3  ...      0.0      0.0  0.0         0.0     0.0   0.0    0.0  0.0   \n",
       "4  ...      0.0      0.0  0.0         0.0     0.0   0.0    0.0  0.0   \n",
       "\n",
       "                                               lemma  target_dis  \n",
       "0         deeds reason earthquake may allah forgive            1  \n",
       "1              forest fire near la ronge sask canada           1  \n",
       "2  resident ask shelter place notify officer evac...           1  \n",
       "3  people receive wildfire evacuation order calif...           1  \n",
       "4  get send photo ruby alaska smoke wildfire pour...           1  \n",
       "\n",
       "[5 rows x 5047 columns]"
      ]
     },
     "execution_count": 1296,
     "metadata": {},
     "output_type": "execute_result"
    }
   ],
   "source": [
    "data_tfidf.head(5)"
   ]
  },
  {
   "cell_type": "markdown",
   "metadata": {},
   "source": [
    "### Logistic Regression with Tf-Idf"
   ]
  },
  {
   "cell_type": "code",
   "execution_count": 1297,
   "metadata": {},
   "outputs": [
    {
     "name": "stdout",
     "output_type": "stream",
     "text": [
      "----------------------Logistic Regression Scores----------------------\n",
      "Training set score: 0.8743157433763958\n",
      "\n",
      "Test set score: 0.793499671700591\n"
     ]
    }
   ],
   "source": [
    "from sklearn.linear_model import LogisticRegression\n",
    "from sklearn.model_selection import train_test_split\n",
    "import numpy as np\n",
    "\n",
    "Y = data_tfidf['target_dis']\n",
    "X = np.array(data_tfidf.drop(['lemma','target_dis'], 1))\n",
    "\n",
    "# We split the dataset into train and test sets\n",
    "X_train, X_test, y_train, y_test = train_test_split(X, Y, test_size=0.4, random_state=123)\n",
    "\n",
    "# Models\n",
    "lr = LogisticRegression()\n",
    "\n",
    "\n",
    "lr.fit(X_train, y_train)\n",
    "\n",
    "\n",
    "print(\"----------------------Logistic Regression Scores----------------------\")\n",
    "print('Training set score:', lr.score(X_train, y_train))\n",
    "print('\\nTest set score:', lr.score(X_test, y_test))"
   ]
  },
  {
   "cell_type": "markdown",
   "metadata": {},
   "source": [
    "With Tf-Idf, test score improved a little bit but this time model reduced overfitting."
   ]
  },
  {
   "cell_type": "markdown",
   "metadata": {},
   "source": [
    "Now, we will apply 2-grams to tf-idf approach. "
   ]
  },
  {
   "cell_type": "code",
   "execution_count": 1298,
   "metadata": {},
   "outputs": [],
   "source": [
    "data_tfidf_22= data2.copy()"
   ]
  },
  {
   "cell_type": "code",
   "execution_count": null,
   "metadata": {},
   "outputs": [],
   "source": []
  },
  {
   "cell_type": "code",
   "execution_count": 1302,
   "metadata": {},
   "outputs": [],
   "source": [
    "## min_df=2, ngram_range=(2,2)\n",
    "from sklearn.feature_extraction.text import TfidfVectorizer\n",
    "\n",
    "vectorizer = TfidfVectorizer(\n",
    "    max_df=0.5, min_df=2, use_idf=True, norm=u'l2', smooth_idf=True, lowercase=False, ngram_range=(2,2))\n",
    "\n",
    "# applying the vectorizer\n",
    "X = vectorizer.fit_transform(data_tfidf_22[\"lemma\"])\n",
    "\n",
    "tfidf_df = pd.DataFrame(X.toarray(), columns=vectorizer.get_feature_names())\n",
    "data_tfidf_22 = pd.concat([tfidf_df, data_tfidf_22[[\"lemma\", \"target_dis\"]]], axis=1)"
   ]
  },
  {
   "cell_type": "code",
   "execution_count": 1303,
   "metadata": {},
   "outputs": [
    {
     "name": "stdout",
     "output_type": "stream",
     "text": [
      "----------------------Logistic Regression Scores----------------------\n",
      "Training set score: 0.8235165316400263\n",
      "\n",
      "Test set score: 0.7363755745239658\n"
     ]
    }
   ],
   "source": [
    "from sklearn.linear_model import LogisticRegression\n",
    "from sklearn.model_selection import train_test_split\n",
    "import numpy as np\n",
    "\n",
    "Y = data_tfidf_22['target_dis']\n",
    "X = np.array(data_tfidf_22.drop(['lemma','target_dis'], 1))\n",
    "\n",
    "# We split the dataset into train and test sets\n",
    "X_train, X_test, y_train, y_test = train_test_split(X, Y, test_size=0.4, random_state=123)\n",
    "\n",
    "# Models\n",
    "lr = LogisticRegression()\n",
    "\n",
    "\n",
    "lr.fit(X_train, y_train)\n",
    "\n",
    "\n",
    "print(\"----------------------Logistic Regression Scores----------------------\")\n",
    "print('Training set score:', lr.score(X_train, y_train))\n",
    "print('\\nTest set score:', lr.score(X_test, y_test))"
   ]
  },
  {
   "cell_type": "markdown",
   "metadata": {},
   "source": [
    "Inserting 2-grams reduced the performance of the model."
   ]
  },
  {
   "cell_type": "markdown",
   "metadata": {},
   "source": [
    "Instead of 2-grams, we will try removing words that appears less than 3 times in all documents."
   ]
  },
  {
   "cell_type": "code",
   "execution_count": 1304,
   "metadata": {},
   "outputs": [],
   "source": [
    "data_tfidf_3= data2.copy()"
   ]
  },
  {
   "cell_type": "code",
   "execution_count": 1305,
   "metadata": {},
   "outputs": [],
   "source": [
    "## min_df=3\n",
    "from sklearn.feature_extraction.text import TfidfVectorizer\n",
    "\n",
    "vectorizer = TfidfVectorizer(\n",
    "    max_df=0.5, min_df=3, use_idf=True, norm=u'l2', smooth_idf=True, lowercase=False)\n",
    "\n",
    "# applying the vectorizer\n",
    "X = vectorizer.fit_transform(data_tfidf_3[\"lemma\"])\n",
    "\n",
    "tfidf_df = pd.DataFrame(X.toarray(), columns=vectorizer.get_feature_names())\n",
    "data_tfidf_3 = pd.concat([tfidf_df, data_tfidf_3[[\"lemma\", \"target_dis\"]]], axis=1)"
   ]
  },
  {
   "cell_type": "code",
   "execution_count": 1306,
   "metadata": {},
   "outputs": [
    {
     "name": "stdout",
     "output_type": "stream",
     "text": [
      "----------------------Logistic Regression Scores----------------------\n",
      "Training set score: 0.8684037661484563\n",
      "\n",
      "Test set score: 0.7951411687458962\n"
     ]
    }
   ],
   "source": [
    "from sklearn.linear_model import LogisticRegression\n",
    "from sklearn.model_selection import train_test_split\n",
    "import numpy as np\n",
    "\n",
    "Y = data_tfidf_3['target_dis']\n",
    "X = np.array(data_tfidf_3.drop(['lemma','target_dis'], 1))\n",
    "\n",
    "# We split the dataset into train and test sets\n",
    "X_train, X_test, y_train, y_test = train_test_split(X, Y, test_size=0.4, random_state=123)\n",
    "\n",
    "# Models\n",
    "lr = LogisticRegression()\n",
    "\n",
    "\n",
    "lr.fit(X_train, y_train)\n",
    "\n",
    "\n",
    "print(\"----------------------Logistic Regression Scores----------------------\")\n",
    "print('Training set score:', lr.score(X_train, y_train))\n",
    "print('\\nTest set score:', lr.score(X_test, y_test))"
   ]
  },
  {
   "cell_type": "markdown",
   "metadata": {},
   "source": [
    "Model performance increased a bit more than the model with min_df=2."
   ]
  },
  {
   "cell_type": "markdown",
   "metadata": {},
   "source": [
    "### Word2Vec"
   ]
  },
  {
   "cell_type": "markdown",
   "metadata": {},
   "source": [
    "We use a final approach for feature engineering, namely Word2Vec."
   ]
  },
  {
   "cell_type": "code",
   "execution_count": 1335,
   "metadata": {},
   "outputs": [],
   "source": [
    "data_word2vec = data2.copy()"
   ]
  },
  {
   "cell_type": "code",
   "execution_count": 1336,
   "metadata": {},
   "outputs": [],
   "source": [
    "import gensim\n",
    "import warnings\n",
    "warnings.filterwarnings(\"ignore\")\n",
    "\n",
    "\n",
    "model1 = gensim.models.Word2Vec(\n",
    "    data_word2vec[\"lemma\"],\n",
    "    workers=4,\n",
    "    min_count=1,\n",
    "    window=6,\n",
    "    sg=0,\n",
    "    sample=1e-3,\n",
    "    size=100,\n",
    "    hs=1\n",
    ")"
   ]
  },
  {
   "cell_type": "code",
   "execution_count": 1337,
   "metadata": {},
   "outputs": [
    {
     "data": {
      "text/html": [
       "<div>\n",
       "<style scoped>\n",
       "    .dataframe tbody tr th:only-of-type {\n",
       "        vertical-align: middle;\n",
       "    }\n",
       "\n",
       "    .dataframe tbody tr th {\n",
       "        vertical-align: top;\n",
       "    }\n",
       "\n",
       "    .dataframe thead th {\n",
       "        text-align: right;\n",
       "    }\n",
       "</style>\n",
       "<table border=\"1\" class=\"dataframe\">\n",
       "  <thead>\n",
       "    <tr style=\"text-align: right;\">\n",
       "      <th></th>\n",
       "      <th>target_dis</th>\n",
       "      <th>lemma</th>\n",
       "      <th>0</th>\n",
       "      <th>1</th>\n",
       "      <th>2</th>\n",
       "      <th>3</th>\n",
       "      <th>4</th>\n",
       "      <th>5</th>\n",
       "      <th>6</th>\n",
       "      <th>7</th>\n",
       "      <th>...</th>\n",
       "      <th>90</th>\n",
       "      <th>91</th>\n",
       "      <th>92</th>\n",
       "      <th>93</th>\n",
       "      <th>94</th>\n",
       "      <th>95</th>\n",
       "      <th>96</th>\n",
       "      <th>97</th>\n",
       "      <th>98</th>\n",
       "      <th>99</th>\n",
       "    </tr>\n",
       "  </thead>\n",
       "  <tbody>\n",
       "    <tr>\n",
       "      <th>0</th>\n",
       "      <td>1</td>\n",
       "      <td>deeds reason earthquake may allah forgive</td>\n",
       "      <td>0.056922</td>\n",
       "      <td>0.164624</td>\n",
       "      <td>-0.083723</td>\n",
       "      <td>0.089162</td>\n",
       "      <td>-0.006487</td>\n",
       "      <td>0.037945</td>\n",
       "      <td>-0.050944</td>\n",
       "      <td>0.053486</td>\n",
       "      <td>...</td>\n",
       "      <td>0.057478</td>\n",
       "      <td>-0.058441</td>\n",
       "      <td>-0.054603</td>\n",
       "      <td>-0.155688</td>\n",
       "      <td>-0.209076</td>\n",
       "      <td>0.000846</td>\n",
       "      <td>-0.143593</td>\n",
       "      <td>-0.064243</td>\n",
       "      <td>0.185596</td>\n",
       "      <td>0.117643</td>\n",
       "    </tr>\n",
       "    <tr>\n",
       "      <th>1</th>\n",
       "      <td>1</td>\n",
       "      <td>forest fire near la ronge sask canada</td>\n",
       "      <td>0.060277</td>\n",
       "      <td>0.166590</td>\n",
       "      <td>-0.078193</td>\n",
       "      <td>0.073723</td>\n",
       "      <td>0.009763</td>\n",
       "      <td>0.023502</td>\n",
       "      <td>-0.020445</td>\n",
       "      <td>0.049496</td>\n",
       "      <td>...</td>\n",
       "      <td>0.052591</td>\n",
       "      <td>-0.069445</td>\n",
       "      <td>-0.029355</td>\n",
       "      <td>-0.166402</td>\n",
       "      <td>-0.210763</td>\n",
       "      <td>0.023176</td>\n",
       "      <td>-0.138070</td>\n",
       "      <td>-0.083936</td>\n",
       "      <td>0.162599</td>\n",
       "      <td>0.099778</td>\n",
       "    </tr>\n",
       "    <tr>\n",
       "      <th>2</th>\n",
       "      <td>1</td>\n",
       "      <td>resident ask shelter place notify officer evac...</td>\n",
       "      <td>0.066689</td>\n",
       "      <td>0.154519</td>\n",
       "      <td>-0.125050</td>\n",
       "      <td>0.053231</td>\n",
       "      <td>0.002072</td>\n",
       "      <td>0.029694</td>\n",
       "      <td>-0.071555</td>\n",
       "      <td>0.038849</td>\n",
       "      <td>...</td>\n",
       "      <td>0.041421</td>\n",
       "      <td>-0.097197</td>\n",
       "      <td>-0.072598</td>\n",
       "      <td>-0.173655</td>\n",
       "      <td>-0.164762</td>\n",
       "      <td>0.070325</td>\n",
       "      <td>-0.142533</td>\n",
       "      <td>-0.093090</td>\n",
       "      <td>0.132454</td>\n",
       "      <td>0.099096</td>\n",
       "    </tr>\n",
       "    <tr>\n",
       "      <th>3</th>\n",
       "      <td>1</td>\n",
       "      <td>people receive wildfire evacuation order calif...</td>\n",
       "      <td>0.068864</td>\n",
       "      <td>0.181199</td>\n",
       "      <td>-0.092173</td>\n",
       "      <td>0.045284</td>\n",
       "      <td>0.017526</td>\n",
       "      <td>0.018162</td>\n",
       "      <td>-0.043599</td>\n",
       "      <td>0.047741</td>\n",
       "      <td>...</td>\n",
       "      <td>0.070997</td>\n",
       "      <td>-0.082225</td>\n",
       "      <td>-0.077213</td>\n",
       "      <td>-0.190998</td>\n",
       "      <td>-0.150294</td>\n",
       "      <td>0.050184</td>\n",
       "      <td>-0.116984</td>\n",
       "      <td>-0.079039</td>\n",
       "      <td>0.198876</td>\n",
       "      <td>0.125751</td>\n",
       "    </tr>\n",
       "    <tr>\n",
       "      <th>4</th>\n",
       "      <td>1</td>\n",
       "      <td>get send photo ruby alaska smoke wildfire pour...</td>\n",
       "      <td>0.065049</td>\n",
       "      <td>0.108286</td>\n",
       "      <td>-0.097758</td>\n",
       "      <td>0.078894</td>\n",
       "      <td>-0.016895</td>\n",
       "      <td>0.064657</td>\n",
       "      <td>-0.077155</td>\n",
       "      <td>0.036124</td>\n",
       "      <td>...</td>\n",
       "      <td>0.072197</td>\n",
       "      <td>-0.047028</td>\n",
       "      <td>-0.052295</td>\n",
       "      <td>-0.127663</td>\n",
       "      <td>-0.195309</td>\n",
       "      <td>0.023115</td>\n",
       "      <td>-0.123895</td>\n",
       "      <td>-0.044071</td>\n",
       "      <td>0.132321</td>\n",
       "      <td>0.099286</td>\n",
       "    </tr>\n",
       "  </tbody>\n",
       "</table>\n",
       "<p>5 rows × 102 columns</p>\n",
       "</div>"
      ],
      "text/plain": [
       "   target_dis                                              lemma         0  \\\n",
       "0           1         deeds reason earthquake may allah forgive   0.056922   \n",
       "1           1              forest fire near la ronge sask canada  0.060277   \n",
       "2           1  resident ask shelter place notify officer evac...  0.066689   \n",
       "3           1  people receive wildfire evacuation order calif...  0.068864   \n",
       "4           1  get send photo ruby alaska smoke wildfire pour...  0.065049   \n",
       "\n",
       "          1         2         3         4         5         6         7  ...  \\\n",
       "0  0.164624 -0.083723  0.089162 -0.006487  0.037945 -0.050944  0.053486  ...   \n",
       "1  0.166590 -0.078193  0.073723  0.009763  0.023502 -0.020445  0.049496  ...   \n",
       "2  0.154519 -0.125050  0.053231  0.002072  0.029694 -0.071555  0.038849  ...   \n",
       "3  0.181199 -0.092173  0.045284  0.017526  0.018162 -0.043599  0.047741  ...   \n",
       "4  0.108286 -0.097758  0.078894 -0.016895  0.064657 -0.077155  0.036124  ...   \n",
       "\n",
       "         90        91        92        93        94        95        96  \\\n",
       "0  0.057478 -0.058441 -0.054603 -0.155688 -0.209076  0.000846 -0.143593   \n",
       "1  0.052591 -0.069445 -0.029355 -0.166402 -0.210763  0.023176 -0.138070   \n",
       "2  0.041421 -0.097197 -0.072598 -0.173655 -0.164762  0.070325 -0.142533   \n",
       "3  0.070997 -0.082225 -0.077213 -0.190998 -0.150294  0.050184 -0.116984   \n",
       "4  0.072197 -0.047028 -0.052295 -0.127663 -0.195309  0.023115 -0.123895   \n",
       "\n",
       "         97        98        99  \n",
       "0 -0.064243  0.185596  0.117643  \n",
       "1 -0.083936  0.162599  0.099778  \n",
       "2 -0.093090  0.132454  0.099096  \n",
       "3 -0.079039  0.198876  0.125751  \n",
       "4 -0.044071  0.132321  0.099286  \n",
       "\n",
       "[5 rows x 102 columns]"
      ]
     },
     "execution_count": 1337,
     "metadata": {},
     "output_type": "execute_result"
    }
   ],
   "source": [
    "word2vec_arr = np.zeros((data_word2vec.shape[0],100))\n",
    "\n",
    "for i, sentence in enumerate(data_word2vec[\"lemma\"]):\n",
    "    word2vec_arr[i,:] = np.mean([model1[lemma] for lemma in sentence], axis=0)\n",
    "\n",
    "word2vec_arr = pd.DataFrame(word2vec_arr)\n",
    "data_word2vec = pd.concat([data_word2vec[[\"target_dis\", \"lemma\"]],word2vec_arr], axis=1)\n",
    "data_word2vec.dropna(inplace=True)\n",
    "\n",
    "data_word2vec.head()"
   ]
  },
  {
   "cell_type": "code",
   "execution_count": null,
   "metadata": {},
   "outputs": [],
   "source": []
  },
  {
   "cell_type": "code",
   "execution_count": 1338,
   "metadata": {},
   "outputs": [
    {
     "name": "stdout",
     "output_type": "stream",
     "text": [
      "----------------------Logistic Regression Scores----------------------\n",
      "Training set score: 0.6184500220167327\n",
      "\n",
      "Test set score: 0.6251651254953765\n"
     ]
    }
   ],
   "source": [
    "from sklearn.linear_model import LogisticRegression\n",
    "from sklearn.model_selection import train_test_split\n",
    "import numpy as np\n",
    "\n",
    "Y = data_word2vec['target_dis']\n",
    "X = np.array(data_word2vec.drop(['lemma','target_dis'], 1))\n",
    "\n",
    "# We split the dataset into train and test sets\n",
    "X_train, X_test, y_train, y_test = train_test_split(X, Y, test_size=0.4, random_state=123)\n",
    "\n",
    "# Models\n",
    "lr = LogisticRegression()\n",
    "\n",
    "\n",
    "lr.fit(X_train, y_train)\n",
    "\n",
    "\n",
    "print(\"----------------------Logistic Regression Scores----------------------\")\n",
    "print('Training set score:', lr.score(X_train, y_train))\n",
    "print('\\nTest set score:', lr.score(X_test, y_test))\n",
    "\n",
    "\n"
   ]
  },
  {
   "cell_type": "code",
   "execution_count": 1326,
   "metadata": {},
   "outputs": [],
   "source": [
    "data_word2vec_2 = data2.copy()"
   ]
  },
  {
   "cell_type": "code",
   "execution_count": 1327,
   "metadata": {},
   "outputs": [],
   "source": [
    "# min_count=2\n",
    "model2 = gensim.models.Word2Vec(\n",
    "    data_word2vec_2[\"lemma\"],\n",
    "    workers=4,\n",
    "    min_count=2,\n",
    "    window=6,\n",
    "    sg=0,\n",
    "    sample=1e-3,\n",
    "    size=100,\n",
    "    hs=1\n",
    ")"
   ]
  },
  {
   "cell_type": "code",
   "execution_count": 1329,
   "metadata": {},
   "outputs": [
    {
     "data": {
      "text/html": [
       "<div>\n",
       "<style scoped>\n",
       "    .dataframe tbody tr th:only-of-type {\n",
       "        vertical-align: middle;\n",
       "    }\n",
       "\n",
       "    .dataframe tbody tr th {\n",
       "        vertical-align: top;\n",
       "    }\n",
       "\n",
       "    .dataframe thead th {\n",
       "        text-align: right;\n",
       "    }\n",
       "</style>\n",
       "<table border=\"1\" class=\"dataframe\">\n",
       "  <thead>\n",
       "    <tr style=\"text-align: right;\">\n",
       "      <th></th>\n",
       "      <th>target_dis</th>\n",
       "      <th>lemma</th>\n",
       "      <th>0</th>\n",
       "      <th>1</th>\n",
       "      <th>2</th>\n",
       "      <th>3</th>\n",
       "      <th>4</th>\n",
       "      <th>5</th>\n",
       "      <th>6</th>\n",
       "      <th>7</th>\n",
       "      <th>...</th>\n",
       "      <th>90</th>\n",
       "      <th>91</th>\n",
       "      <th>92</th>\n",
       "      <th>93</th>\n",
       "      <th>94</th>\n",
       "      <th>95</th>\n",
       "      <th>96</th>\n",
       "      <th>97</th>\n",
       "      <th>98</th>\n",
       "      <th>99</th>\n",
       "    </tr>\n",
       "  </thead>\n",
       "  <tbody>\n",
       "    <tr>\n",
       "      <th>0</th>\n",
       "      <td>1</td>\n",
       "      <td>deeds reason earthquake may allah forgive</td>\n",
       "      <td>-0.008649</td>\n",
       "      <td>0.095383</td>\n",
       "      <td>-0.053119</td>\n",
       "      <td>0.033385</td>\n",
       "      <td>0.040330</td>\n",
       "      <td>-0.024185</td>\n",
       "      <td>0.019939</td>\n",
       "      <td>0.087634</td>\n",
       "      <td>...</td>\n",
       "      <td>-0.136369</td>\n",
       "      <td>-0.126104</td>\n",
       "      <td>-0.089092</td>\n",
       "      <td>-0.137886</td>\n",
       "      <td>-0.069947</td>\n",
       "      <td>-0.038776</td>\n",
       "      <td>-0.130418</td>\n",
       "      <td>-0.024680</td>\n",
       "      <td>0.360111</td>\n",
       "      <td>0.088754</td>\n",
       "    </tr>\n",
       "    <tr>\n",
       "      <th>1</th>\n",
       "      <td>1</td>\n",
       "      <td>forest fire near la ronge sask canada</td>\n",
       "      <td>-0.025542</td>\n",
       "      <td>0.068482</td>\n",
       "      <td>-0.071577</td>\n",
       "      <td>0.054988</td>\n",
       "      <td>0.021287</td>\n",
       "      <td>0.026424</td>\n",
       "      <td>-0.039528</td>\n",
       "      <td>0.077307</td>\n",
       "      <td>...</td>\n",
       "      <td>-0.121051</td>\n",
       "      <td>-0.128082</td>\n",
       "      <td>-0.092984</td>\n",
       "      <td>-0.136123</td>\n",
       "      <td>-0.067591</td>\n",
       "      <td>-0.004426</td>\n",
       "      <td>-0.093599</td>\n",
       "      <td>0.002128</td>\n",
       "      <td>0.306528</td>\n",
       "      <td>0.073196</td>\n",
       "    </tr>\n",
       "    <tr>\n",
       "      <th>2</th>\n",
       "      <td>1</td>\n",
       "      <td>resident ask shelter place notify officer evac...</td>\n",
       "      <td>-0.009205</td>\n",
       "      <td>0.093215</td>\n",
       "      <td>-0.060614</td>\n",
       "      <td>0.028165</td>\n",
       "      <td>0.060727</td>\n",
       "      <td>-0.019257</td>\n",
       "      <td>0.039136</td>\n",
       "      <td>0.106928</td>\n",
       "      <td>...</td>\n",
       "      <td>-0.123487</td>\n",
       "      <td>-0.114250</td>\n",
       "      <td>-0.056452</td>\n",
       "      <td>-0.176502</td>\n",
       "      <td>-0.107108</td>\n",
       "      <td>-0.050948</td>\n",
       "      <td>-0.096096</td>\n",
       "      <td>0.000268</td>\n",
       "      <td>0.311232</td>\n",
       "      <td>0.088973</td>\n",
       "    </tr>\n",
       "    <tr>\n",
       "      <th>3</th>\n",
       "      <td>1</td>\n",
       "      <td>people receive wildfire evacuation order calif...</td>\n",
       "      <td>-0.015760</td>\n",
       "      <td>0.074498</td>\n",
       "      <td>-0.050888</td>\n",
       "      <td>0.047128</td>\n",
       "      <td>0.028614</td>\n",
       "      <td>-0.007022</td>\n",
       "      <td>0.016933</td>\n",
       "      <td>0.086546</td>\n",
       "      <td>...</td>\n",
       "      <td>-0.106522</td>\n",
       "      <td>-0.117333</td>\n",
       "      <td>-0.034021</td>\n",
       "      <td>-0.176878</td>\n",
       "      <td>-0.105095</td>\n",
       "      <td>-0.079130</td>\n",
       "      <td>-0.112646</td>\n",
       "      <td>0.018051</td>\n",
       "      <td>0.368355</td>\n",
       "      <td>0.117936</td>\n",
       "    </tr>\n",
       "    <tr>\n",
       "      <th>4</th>\n",
       "      <td>1</td>\n",
       "      <td>get send photo ruby alaska smoke wildfire pour...</td>\n",
       "      <td>0.001089</td>\n",
       "      <td>0.104044</td>\n",
       "      <td>-0.050769</td>\n",
       "      <td>0.027997</td>\n",
       "      <td>0.073956</td>\n",
       "      <td>-0.049520</td>\n",
       "      <td>0.061063</td>\n",
       "      <td>0.126301</td>\n",
       "      <td>...</td>\n",
       "      <td>-0.159555</td>\n",
       "      <td>-0.109521</td>\n",
       "      <td>-0.091614</td>\n",
       "      <td>-0.144663</td>\n",
       "      <td>-0.074904</td>\n",
       "      <td>-0.047707</td>\n",
       "      <td>-0.128053</td>\n",
       "      <td>-0.024092</td>\n",
       "      <td>0.311842</td>\n",
       "      <td>0.093999</td>\n",
       "    </tr>\n",
       "  </tbody>\n",
       "</table>\n",
       "<p>5 rows × 102 columns</p>\n",
       "</div>"
      ],
      "text/plain": [
       "   target_dis                                              lemma         0  \\\n",
       "0           1         deeds reason earthquake may allah forgive  -0.008649   \n",
       "1           1              forest fire near la ronge sask canada -0.025542   \n",
       "2           1  resident ask shelter place notify officer evac... -0.009205   \n",
       "3           1  people receive wildfire evacuation order calif... -0.015760   \n",
       "4           1  get send photo ruby alaska smoke wildfire pour...  0.001089   \n",
       "\n",
       "          1         2         3         4         5         6         7  ...  \\\n",
       "0  0.095383 -0.053119  0.033385  0.040330 -0.024185  0.019939  0.087634  ...   \n",
       "1  0.068482 -0.071577  0.054988  0.021287  0.026424 -0.039528  0.077307  ...   \n",
       "2  0.093215 -0.060614  0.028165  0.060727 -0.019257  0.039136  0.106928  ...   \n",
       "3  0.074498 -0.050888  0.047128  0.028614 -0.007022  0.016933  0.086546  ...   \n",
       "4  0.104044 -0.050769  0.027997  0.073956 -0.049520  0.061063  0.126301  ...   \n",
       "\n",
       "         90        91        92        93        94        95        96  \\\n",
       "0 -0.136369 -0.126104 -0.089092 -0.137886 -0.069947 -0.038776 -0.130418   \n",
       "1 -0.121051 -0.128082 -0.092984 -0.136123 -0.067591 -0.004426 -0.093599   \n",
       "2 -0.123487 -0.114250 -0.056452 -0.176502 -0.107108 -0.050948 -0.096096   \n",
       "3 -0.106522 -0.117333 -0.034021 -0.176878 -0.105095 -0.079130 -0.112646   \n",
       "4 -0.159555 -0.109521 -0.091614 -0.144663 -0.074904 -0.047707 -0.128053   \n",
       "\n",
       "         97        98        99  \n",
       "0 -0.024680  0.360111  0.088754  \n",
       "1  0.002128  0.306528  0.073196  \n",
       "2  0.000268  0.311232  0.088973  \n",
       "3  0.018051  0.368355  0.117936  \n",
       "4 -0.024092  0.311842  0.093999  \n",
       "\n",
       "[5 rows x 102 columns]"
      ]
     },
     "execution_count": 1329,
     "metadata": {},
     "output_type": "execute_result"
    }
   ],
   "source": [
    "word2vec_arr_2 = np.zeros((data_word2vec_2.shape[0],100))\n",
    "\n",
    "for i, sentence in enumerate(data_word2vec_2[\"lemma\"]):\n",
    "    word2vec_arr_2[i,:] = np.mean([model2[lemma] for lemma in sentence], axis=0)\n",
    "\n",
    "word2vec_arr_2 = pd.DataFrame(word2vec_arr_2)\n",
    "data_word2vec_2 = pd.concat([data_word2vec_2[[\"target_dis\", \"lemma\"]],word2vec_arr_2], axis=1)\n",
    "data_word2vec_2.dropna(inplace=True)\n",
    "\n",
    "data_word2vec_2.head()"
   ]
  },
  {
   "cell_type": "code",
   "execution_count": 1330,
   "metadata": {},
   "outputs": [
    {
     "name": "stdout",
     "output_type": "stream",
     "text": [
      "----------------------Logistic Regression Scores----------------------\n",
      "Training set score: 0.6213121972699251\n",
      "\n",
      "Test set score: 0.6132760898282695\n"
     ]
    }
   ],
   "source": [
    "from sklearn.linear_model import LogisticRegression\n",
    "from sklearn.model_selection import train_test_split\n",
    "import numpy as np\n",
    "\n",
    "Y = data_word2vec_2['target_dis']\n",
    "X = np.array(data_word2vec_2.drop(['lemma','target_dis'], 1))\n",
    "\n",
    "# We split the dataset into train and test sets\n",
    "X_train, X_test, y_train, y_test = train_test_split(X, Y, test_size=0.4, random_state=123)\n",
    "\n",
    "# Models\n",
    "lr = LogisticRegression()\n",
    "\n",
    "\n",
    "lr.fit(X_train, y_train)\n",
    "\n",
    "\n",
    "print(\"----------------------Logistic Regression Scores----------------------\")\n",
    "print('Training set score:', lr.score(X_train, y_train))\n",
    "print('\\nTest set score:', lr.score(X_test, y_test))\n",
    "\n",
    "\n"
   ]
  },
  {
   "cell_type": "markdown",
   "metadata": {},
   "source": [
    "When we set min_count=2, results did not change much. "
   ]
  },
  {
   "cell_type": "code",
   "execution_count": 1346,
   "metadata": {},
   "outputs": [],
   "source": [
    "data_word2vec_3 = data2.copy()"
   ]
  },
  {
   "cell_type": "code",
   "execution_count": 1347,
   "metadata": {},
   "outputs": [],
   "source": [
    "# min_count=3\n",
    "model3 = gensim.models.Word2Vec(\n",
    "    data_word2vec_3[\"lemma\"],\n",
    "    workers=4,\n",
    "    min_count=3,\n",
    "    window=6,\n",
    "    sg=0,\n",
    "    sample=1e-3,\n",
    "    size=100,\n",
    "    hs=1\n",
    ")"
   ]
  },
  {
   "cell_type": "code",
   "execution_count": 1348,
   "metadata": {},
   "outputs": [
    {
     "data": {
      "text/html": [
       "<div>\n",
       "<style scoped>\n",
       "    .dataframe tbody tr th:only-of-type {\n",
       "        vertical-align: middle;\n",
       "    }\n",
       "\n",
       "    .dataframe tbody tr th {\n",
       "        vertical-align: top;\n",
       "    }\n",
       "\n",
       "    .dataframe thead th {\n",
       "        text-align: right;\n",
       "    }\n",
       "</style>\n",
       "<table border=\"1\" class=\"dataframe\">\n",
       "  <thead>\n",
       "    <tr style=\"text-align: right;\">\n",
       "      <th></th>\n",
       "      <th>target_dis</th>\n",
       "      <th>lemma</th>\n",
       "      <th>0</th>\n",
       "      <th>1</th>\n",
       "      <th>2</th>\n",
       "      <th>3</th>\n",
       "      <th>4</th>\n",
       "      <th>5</th>\n",
       "      <th>6</th>\n",
       "      <th>7</th>\n",
       "      <th>...</th>\n",
       "      <th>90</th>\n",
       "      <th>91</th>\n",
       "      <th>92</th>\n",
       "      <th>93</th>\n",
       "      <th>94</th>\n",
       "      <th>95</th>\n",
       "      <th>96</th>\n",
       "      <th>97</th>\n",
       "      <th>98</th>\n",
       "      <th>99</th>\n",
       "    </tr>\n",
       "  </thead>\n",
       "  <tbody>\n",
       "    <tr>\n",
       "      <th>0</th>\n",
       "      <td>1</td>\n",
       "      <td>deeds reason earthquake may allah forgive</td>\n",
       "      <td>0.060970</td>\n",
       "      <td>0.137000</td>\n",
       "      <td>-0.118488</td>\n",
       "      <td>0.130242</td>\n",
       "      <td>-0.028307</td>\n",
       "      <td>0.081751</td>\n",
       "      <td>-0.092812</td>\n",
       "      <td>0.031848</td>\n",
       "      <td>...</td>\n",
       "      <td>-0.117149</td>\n",
       "      <td>-0.138275</td>\n",
       "      <td>-0.122775</td>\n",
       "      <td>-0.095185</td>\n",
       "      <td>-0.018489</td>\n",
       "      <td>0.093556</td>\n",
       "      <td>-0.010661</td>\n",
       "      <td>0.037169</td>\n",
       "      <td>-0.266809</td>\n",
       "      <td>0.118480</td>\n",
       "    </tr>\n",
       "    <tr>\n",
       "      <th>1</th>\n",
       "      <td>1</td>\n",
       "      <td>forest fire near la ronge sask canada</td>\n",
       "      <td>0.066594</td>\n",
       "      <td>0.129053</td>\n",
       "      <td>-0.139471</td>\n",
       "      <td>0.136685</td>\n",
       "      <td>-0.038301</td>\n",
       "      <td>0.093921</td>\n",
       "      <td>-0.097479</td>\n",
       "      <td>0.038164</td>\n",
       "      <td>...</td>\n",
       "      <td>-0.120564</td>\n",
       "      <td>-0.152344</td>\n",
       "      <td>-0.104213</td>\n",
       "      <td>-0.104963</td>\n",
       "      <td>-0.031330</td>\n",
       "      <td>0.098762</td>\n",
       "      <td>-0.019124</td>\n",
       "      <td>0.035583</td>\n",
       "      <td>-0.257894</td>\n",
       "      <td>0.103572</td>\n",
       "    </tr>\n",
       "    <tr>\n",
       "      <th>2</th>\n",
       "      <td>1</td>\n",
       "      <td>resident ask shelter place notify officer evac...</td>\n",
       "      <td>0.073378</td>\n",
       "      <td>0.103560</td>\n",
       "      <td>-0.141146</td>\n",
       "      <td>0.170336</td>\n",
       "      <td>-0.037539</td>\n",
       "      <td>0.140125</td>\n",
       "      <td>-0.115132</td>\n",
       "      <td>0.015263</td>\n",
       "      <td>...</td>\n",
       "      <td>-0.077485</td>\n",
       "      <td>-0.165908</td>\n",
       "      <td>-0.091411</td>\n",
       "      <td>-0.105902</td>\n",
       "      <td>-0.032027</td>\n",
       "      <td>0.094961</td>\n",
       "      <td>0.033982</td>\n",
       "      <td>0.070668</td>\n",
       "      <td>-0.334213</td>\n",
       "      <td>0.137750</td>\n",
       "    </tr>\n",
       "    <tr>\n",
       "      <th>3</th>\n",
       "      <td>1</td>\n",
       "      <td>people receive wildfire evacuation order calif...</td>\n",
       "      <td>0.072482</td>\n",
       "      <td>0.092884</td>\n",
       "      <td>-0.128559</td>\n",
       "      <td>0.186121</td>\n",
       "      <td>-0.042536</td>\n",
       "      <td>0.163026</td>\n",
       "      <td>-0.120862</td>\n",
       "      <td>0.014906</td>\n",
       "      <td>...</td>\n",
       "      <td>-0.058199</td>\n",
       "      <td>-0.179048</td>\n",
       "      <td>-0.056946</td>\n",
       "      <td>-0.116232</td>\n",
       "      <td>-0.055621</td>\n",
       "      <td>0.083055</td>\n",
       "      <td>0.045940</td>\n",
       "      <td>0.060849</td>\n",
       "      <td>-0.300160</td>\n",
       "      <td>0.120516</td>\n",
       "    </tr>\n",
       "    <tr>\n",
       "      <th>4</th>\n",
       "      <td>1</td>\n",
       "      <td>get send photo ruby alaska smoke wildfire pour...</td>\n",
       "      <td>0.063520</td>\n",
       "      <td>0.115670</td>\n",
       "      <td>-0.135426</td>\n",
       "      <td>0.158166</td>\n",
       "      <td>-0.054061</td>\n",
       "      <td>0.114481</td>\n",
       "      <td>-0.108338</td>\n",
       "      <td>0.009744</td>\n",
       "      <td>...</td>\n",
       "      <td>-0.095599</td>\n",
       "      <td>-0.131670</td>\n",
       "      <td>-0.115167</td>\n",
       "      <td>-0.093277</td>\n",
       "      <td>-0.009134</td>\n",
       "      <td>0.074206</td>\n",
       "      <td>-0.003439</td>\n",
       "      <td>0.078870</td>\n",
       "      <td>-0.274760</td>\n",
       "      <td>0.130878</td>\n",
       "    </tr>\n",
       "  </tbody>\n",
       "</table>\n",
       "<p>5 rows × 102 columns</p>\n",
       "</div>"
      ],
      "text/plain": [
       "   target_dis                                              lemma         0  \\\n",
       "0           1         deeds reason earthquake may allah forgive   0.060970   \n",
       "1           1              forest fire near la ronge sask canada  0.066594   \n",
       "2           1  resident ask shelter place notify officer evac...  0.073378   \n",
       "3           1  people receive wildfire evacuation order calif...  0.072482   \n",
       "4           1  get send photo ruby alaska smoke wildfire pour...  0.063520   \n",
       "\n",
       "          1         2         3         4         5         6         7  ...  \\\n",
       "0  0.137000 -0.118488  0.130242 -0.028307  0.081751 -0.092812  0.031848  ...   \n",
       "1  0.129053 -0.139471  0.136685 -0.038301  0.093921 -0.097479  0.038164  ...   \n",
       "2  0.103560 -0.141146  0.170336 -0.037539  0.140125 -0.115132  0.015263  ...   \n",
       "3  0.092884 -0.128559  0.186121 -0.042536  0.163026 -0.120862  0.014906  ...   \n",
       "4  0.115670 -0.135426  0.158166 -0.054061  0.114481 -0.108338  0.009744  ...   \n",
       "\n",
       "         90        91        92        93        94        95        96  \\\n",
       "0 -0.117149 -0.138275 -0.122775 -0.095185 -0.018489  0.093556 -0.010661   \n",
       "1 -0.120564 -0.152344 -0.104213 -0.104963 -0.031330  0.098762 -0.019124   \n",
       "2 -0.077485 -0.165908 -0.091411 -0.105902 -0.032027  0.094961  0.033982   \n",
       "3 -0.058199 -0.179048 -0.056946 -0.116232 -0.055621  0.083055  0.045940   \n",
       "4 -0.095599 -0.131670 -0.115167 -0.093277 -0.009134  0.074206 -0.003439   \n",
       "\n",
       "         97        98        99  \n",
       "0  0.037169 -0.266809  0.118480  \n",
       "1  0.035583 -0.257894  0.103572  \n",
       "2  0.070668 -0.334213  0.137750  \n",
       "3  0.060849 -0.300160  0.120516  \n",
       "4  0.078870 -0.274760  0.130878  \n",
       "\n",
       "[5 rows x 102 columns]"
      ]
     },
     "execution_count": 1348,
     "metadata": {},
     "output_type": "execute_result"
    }
   ],
   "source": [
    "word2vec_arr_3 = np.zeros((data_word2vec_3.shape[0],100))\n",
    "\n",
    "for i, sentence in enumerate(data_word2vec_3[\"lemma\"]):\n",
    "    word2vec_arr_3[i,:] = np.mean([model3[lemma] for lemma in sentence], axis=0)\n",
    "\n",
    "word2vec_arr_3 = pd.DataFrame(word2vec_arr_3)\n",
    "data_word2vec_3 = pd.concat([data_word2vec_3[[\"target_dis\", \"lemma\"]],word2vec_arr_3], axis=1)\n",
    "data_word2vec_3.dropna(inplace=True)\n",
    "\n",
    "data_word2vec_3.head()"
   ]
  },
  {
   "cell_type": "code",
   "execution_count": 1349,
   "metadata": {},
   "outputs": [
    {
     "name": "stdout",
     "output_type": "stream",
     "text": [
      "----------------------Logistic Regression Scores----------------------\n",
      "Training set score: 0.6043593130779392\n",
      "\n",
      "Test set score: 0.6083223249669749\n"
     ]
    }
   ],
   "source": [
    "from sklearn.linear_model import LogisticRegression\n",
    "from sklearn.model_selection import train_test_split\n",
    "import numpy as np\n",
    "\n",
    "Y = data_word2vec_3['target_dis']\n",
    "X = np.array(data_word2vec_3.drop(['lemma','target_dis'], 1))\n",
    "\n",
    "# We split the dataset into train and test sets\n",
    "X_train, X_test, y_train, y_test = train_test_split(X, Y, test_size=0.4, random_state=123)\n",
    "\n",
    "# Models\n",
    "lr = LogisticRegression()\n",
    "\n",
    "\n",
    "lr.fit(X_train, y_train)\n",
    "\n",
    "\n",
    "print(\"----------------------Logistic Regression Scores----------------------\")\n",
    "print('Training set score:', lr.score(X_train, y_train))\n",
    "print('\\nTest set score:', lr.score(X_test, y_test))\n",
    "\n",
    "\n",
    "\n"
   ]
  },
  {
   "cell_type": "markdown",
   "metadata": {},
   "source": [
    "## Cross Validation"
   ]
  },
  {
   "cell_type": "code",
   "execution_count": null,
   "metadata": {},
   "outputs": [],
   "source": []
  },
  {
   "cell_type": "code",
   "execution_count": null,
   "metadata": {},
   "outputs": [],
   "source": []
  },
  {
   "cell_type": "code",
   "execution_count": 1331,
   "metadata": {},
   "outputs": [],
   "source": [
    "from sklearn.model_selection import KFold\n",
    "from sklearn.model_selection import cross_validate, cross_val_score\n",
    "from sklearn.model_selection import GridSearchCV"
   ]
  },
  {
   "cell_type": "code",
   "execution_count": 1339,
   "metadata": {},
   "outputs": [],
   "source": [
    "## word2vec model\n",
    "y = data_word2vec['target_dis']\n",
    "X = np.array(data_word2vec.drop(['lemma','target_dis'], 1))"
   ]
  },
  {
   "cell_type": "code",
   "execution_count": 1340,
   "metadata": {},
   "outputs": [
    {
     "data": {
      "text/plain": [
       "GridSearchCV(cv=10, estimator=LogisticRegression(),\n",
       "             param_grid={'C': [1e-05, 0.0001, 0.001, 0.01, 0.1, 1, 10, 100,\n",
       "                               1000, 10000],\n",
       "                         'penalty': ['l1', 'l2']})"
      ]
     },
     "execution_count": 1340,
     "metadata": {},
     "output_type": "execute_result"
    }
   ],
   "source": [
    "log_reg = LogisticRegression()\n",
    "\n",
    "\n",
    "parameters = {\"C\": [10 ** x for x in range (-5, 5, 1)],\n",
    "              \"penalty\": ['l1', 'l2']\n",
    "             }\n",
    "grid_cv = GridSearchCV(estimator=log_reg,\n",
    "                       param_grid = parameters,\n",
    "                       cv = 10\n",
    "                      )\n",
    "grid_cv.fit(X, y)"
   ]
  },
  {
   "cell_type": "code",
   "execution_count": 1341,
   "metadata": {},
   "outputs": [
    {
     "name": "stdout",
     "output_type": "stream",
     "text": [
      "Best Parameters :  {'C': 10, 'penalty': 'l2'}\n",
      "Best Score      :  0.6060766182298547\n"
     ]
    }
   ],
   "source": [
    "print(\"Best Parameters : \", grid_cv.best_params_)\n",
    "print(\"Best Score      : \", grid_cv.best_score_)"
   ]
  },
  {
   "cell_type": "code",
   "execution_count": 1350,
   "metadata": {},
   "outputs": [
    {
     "name": "stdout",
     "output_type": "stream",
     "text": [
      "----------------------Logistic Regression Scores----------------------\n",
      "Training set score: 0.6296785557023338\n",
      "\n",
      "Test set score: 0.6225231175693527\n"
     ]
    }
   ],
   "source": [
    "#using best parameters\n",
    "from sklearn.linear_model import LogisticRegression\n",
    "from sklearn.model_selection import train_test_split\n",
    "import numpy as np\n",
    "\n",
    "Y = data_word2vec['target_dis']\n",
    "X = np.array(data_word2vec.drop(['lemma','target_dis'], 1))\n",
    "\n",
    "# We split the dataset into train and test sets\n",
    "X_train, X_test, y_train, y_test = train_test_split(X, Y, test_size=0.4, random_state=123)\n",
    "\n",
    "# Models\n",
    "lr = LogisticRegression(C=10)\n",
    "\n",
    "\n",
    "lr.fit(X_train, y_train)\n",
    "\n",
    "\n",
    "print(\"----------------------Logistic Regression Scores----------------------\")\n",
    "print('Training set score:', lr.score(X_train, y_train))\n",
    "print('\\nTest set score:', lr.score(X_test, y_test))\n",
    "\n",
    "\n",
    "\n"
   ]
  },
  {
   "cell_type": "code",
   "execution_count": 1342,
   "metadata": {},
   "outputs": [
    {
     "data": {
      "text/plain": [
       "GridSearchCV(cv=10, estimator=LogisticRegression(),\n",
       "             param_grid={'C': [1e-05, 0.0001, 0.001, 0.01, 0.1, 1, 10, 100,\n",
       "                               1000, 10000],\n",
       "                         'penalty': ['l1', 'l2']})"
      ]
     },
     "execution_count": 1342,
     "metadata": {},
     "output_type": "execute_result"
    }
   ],
   "source": [
    "## tf-idf model data_tfidf_3\n",
    "\n",
    "y = data_tfidf_3['target_dis']\n",
    "X = np.array(data_tfidf_3.drop(['lemma','target_dis'], 1))\n",
    "\n",
    "log_reg = LogisticRegression()\n",
    "\n",
    "\n",
    "parameters = {\"C\": [10 ** x for x in range (-5, 5, 1)],\n",
    "              \"penalty\": ['l1', 'l2']\n",
    "             }\n",
    "grid_cv = GridSearchCV(estimator=log_reg,\n",
    "                       param_grid = parameters,\n",
    "                       cv = 10\n",
    "                      )\n",
    "grid_cv.fit(X, y)"
   ]
  },
  {
   "cell_type": "code",
   "execution_count": 1343,
   "metadata": {},
   "outputs": [
    {
     "name": "stdout",
     "output_type": "stream",
     "text": [
      "Best Parameters :  {'C': 1, 'penalty': 'l2'}\n",
      "Best Score      :  0.6663640188866011\n"
     ]
    }
   ],
   "source": [
    "print(\"Best Parameters : \", grid_cv.best_params_)\n",
    "print(\"Best Score      : \", grid_cv.best_score_)"
   ]
  },
  {
   "cell_type": "code",
   "execution_count": 1344,
   "metadata": {},
   "outputs": [
    {
     "name": "stdout",
     "output_type": "stream",
     "text": [
      "Best Index :  11\n",
      "Best Estimator      :  LogisticRegression(C=1)\n"
     ]
    }
   ],
   "source": [
    "print(\"Best Index : \", grid_cv.best_index_)\n",
    "print(\"Best Estimator      : \", grid_cv.best_estimator_)"
   ]
  },
  {
   "cell_type": "code",
   "execution_count": 1351,
   "metadata": {},
   "outputs": [
    {
     "name": "stdout",
     "output_type": "stream",
     "text": [
      "----------------------Logistic Regression Scores----------------------\n",
      "Training set score: 0.8684037661484563\n",
      "\n",
      "Test set score: 0.7951411687458962\n"
     ]
    }
   ],
   "source": [
    "## using best parameters\n",
    "\n",
    "from sklearn.linear_model import LogisticRegression\n",
    "from sklearn.model_selection import train_test_split\n",
    "import numpy as np\n",
    "\n",
    "Y = data_tfidf_3['target_dis']\n",
    "X = np.array(data_tfidf_3.drop(['lemma','target_dis'], 1))\n",
    "\n",
    "# We split the dataset into train and test sets\n",
    "X_train, X_test, y_train, y_test = train_test_split(X, Y, test_size=0.4, random_state=123)\n",
    "\n",
    "# Models\n",
    "lr = LogisticRegression()\n",
    "\n",
    "\n",
    "lr.fit(X_train, y_train)\n",
    "\n",
    "\n",
    "print(\"----------------------Logistic Regression Scores----------------------\")\n",
    "print('Training set score:', lr.score(X_train, y_train))\n",
    "print('\\nTest set score:', lr.score(X_test, y_test))"
   ]
  },
  {
   "cell_type": "code",
   "execution_count": 1356,
   "metadata": {},
   "outputs": [
    {
     "data": {
      "text/plain": [
       "GridSearchCV(cv=10, estimator=LogisticRegression(),\n",
       "             param_grid={'C': [1e-05, 0.0001, 0.001, 0.01, 0.1, 1, 10, 100,\n",
       "                               1000, 10000],\n",
       "                         'penalty': ['l2']})"
      ]
     },
     "execution_count": 1356,
     "metadata": {},
     "output_type": "execute_result"
    }
   ],
   "source": [
    "## bag of words \n",
    "\n",
    "y = data_bow_3['target_dis']\n",
    "X = np.array(data_bow_3.drop(['lemma','target_dis'], 1))\n",
    "\n",
    "log_reg = LogisticRegression()\n",
    "\n",
    "\n",
    "parameters = {\"C\": [10 ** x for x in range (-5, 5, 1)],\n",
    "              \"penalty\": ['l2']\n",
    "             }\n",
    "grid_cv = GridSearchCV(estimator=log_reg,\n",
    "                       param_grid = parameters,\n",
    "                       cv = 10\n",
    "                      )\n",
    "grid_cv.fit(X, y)"
   ]
  },
  {
   "cell_type": "code",
   "execution_count": 1357,
   "metadata": {},
   "outputs": [
    {
     "name": "stdout",
     "output_type": "stream",
     "text": [
      "Best Parameters :  {'C': 0.1, 'penalty': 'l2'}\n",
      "Best Score      :  0.681467781376211\n"
     ]
    }
   ],
   "source": [
    "print(\"Best Parameters : \", grid_cv.best_params_)\n",
    "print(\"Best Score      : \", grid_cv.best_score_)"
   ]
  },
  {
   "cell_type": "code",
   "execution_count": 1358,
   "metadata": {},
   "outputs": [
    {
     "name": "stdout",
     "output_type": "stream",
     "text": [
      "----------------------Logistic Regression Scores----------------------\n",
      "Training set score: 0.8401576527260783\n",
      "\n",
      "Test set score: 0.7902166776099803\n"
     ]
    }
   ],
   "source": [
    "from sklearn.linear_model import LogisticRegression\n",
    "from sklearn.model_selection import train_test_split\n",
    "import numpy as np\n",
    "\n",
    "Y = data_bow_3['target_dis']\n",
    "X = np.array(data_bow_3.drop(['lemma','target_dis'], 1))\n",
    "\n",
    "# We split the dataset into train and test sets\n",
    "X_train, X_test, y_train, y_test = train_test_split(X, Y, test_size=0.4, random_state=123)\n",
    "\n",
    "# Models\n",
    "lr = LogisticRegression(C=0.1)\n",
    "\n",
    "\n",
    "lr.fit(X_train, y_train)\n",
    "\n",
    "\n",
    "print(\"----------------------Logistic Regression Scores----------------------\")\n",
    "print('Training set score:', lr.score(X_train, y_train))\n",
    "print('\\nTest set score:', lr.score(X_test, y_test))\n",
    "\n",
    "\n"
   ]
  },
  {
   "cell_type": "code",
   "execution_count": null,
   "metadata": {},
   "outputs": [],
   "source": []
  }
 ],
 "metadata": {
  "kernelspec": {
   "display_name": "Python 3",
   "language": "python",
   "name": "python3"
  },
  "language_info": {
   "codemirror_mode": {
    "name": "ipython",
    "version": 3
   },
   "file_extension": ".py",
   "mimetype": "text/x-python",
   "name": "python",
   "nbconvert_exporter": "python",
   "pygments_lexer": "ipython3",
   "version": "3.8.5"
  }
 },
 "nbformat": 4,
 "nbformat_minor": 4
}
