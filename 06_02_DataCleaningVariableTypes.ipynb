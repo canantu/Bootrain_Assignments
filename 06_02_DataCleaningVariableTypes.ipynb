{
 "cells": [
  {
   "cell_type": "markdown",
   "metadata": {},
   "source": [
    "# Assignment\n",
    "\n",
    "1. Determine the types of the below-given variables:\n",
    "    * Age\n",
    "    * Salary\n",
    "    * Income\n",
    "    * Customer type\n",
    "    * Stock price \n",
    "\n",
    "2. Using the `movie` data, we have studied in this lesson. Complete the following tasks:\n",
    "    * Select a variable from the `movie` dataset and discuss the variable type of this variable\n",
    "    * Categorize a variable of your choice and assign a name to it\n",
    "    * Count the number of rows for each category\n",
    "\n",
    "3. Is it possible to convert categorical variable into numerical one? If so, how can you make that?\n",
    "\n",
    "4. While continuous data is generally preferred over discrete data, please indicate circumstances where discrete is the preferred data type although continuous data is available for the same characteristic.\n",
    "\n",
    "5. While continuous data is measured and attribute data is counted, there is sometimes confusion if some specific dataset should be considered continuous or attribute. Provide some examples of confusing datasets and your inference. "
   ]
  },
  {
   "cell_type": "markdown",
   "metadata": {},
   "source": [
    "## Solutions"
   ]
  },
  {
   "cell_type": "markdown",
   "metadata": {},
   "source": [
    "1.  \n",
    "    - Age: Discrete\n",
    "    - Salary: Discrete or Continuous\n",
    "    - Income: Discrete or Continuous\n",
    "    - Customer Type: Nominal\n",
    "    - Stock Price: Continuous"
   ]
  },
  {
   "cell_type": "markdown",
   "metadata": {},
   "source": [
    "2.  "
   ]
  },
  {
   "cell_type": "code",
   "execution_count": 1,
   "metadata": {},
   "outputs": [],
   "source": [
    "import pandas as pd\n",
    "import numpy as np\n",
    "import matplotlib.pyplot as plt\n",
    "movie = pd.read_csv(\"https://bootrain-lms-assets.s3.eu-central-1.amazonaws.com/bootrain-lms-static/datasets/movie.csv\")"
   ]
  },
  {
   "cell_type": "code",
   "execution_count": 2,
   "metadata": {},
   "outputs": [
    {
     "data": {
      "text/plain": [
       "dtype('O')"
      ]
     },
     "execution_count": 2,
     "metadata": {},
     "output_type": "execute_result"
    }
   ],
   "source": [
    "np.dtype(movie.director_name)"
   ]
  },
  {
   "cell_type": "markdown",
   "metadata": {},
   "source": [
    "`director_name` is an object type variable. It is a string value. We can categorize it in `Nominal Variables` since it has no ranking sequence or order. "
   ]
  },
  {
   "cell_type": "code",
   "execution_count": 6,
   "metadata": {},
   "outputs": [
    {
     "data": {
      "text/plain": [
       "duration_group\n",
       "1    1145\n",
       "2    2930\n",
       "3     953\n",
       "Name: duration, dtype: int64"
      ]
     },
     "execution_count": 6,
     "metadata": {},
     "output_type": "execute_result"
    }
   ],
   "source": [
    "##categorization\n",
    "\n",
    "def categorize(duration):  ##burda missing valuelari da 3'e atiyor\n",
    "    if duration>=120:\n",
    "        return 1\n",
    "    elif (duration<120) and (duration>90):\n",
    "        return 2\n",
    "    else:\n",
    "        return 3\n",
    "    \n",
    "    \n",
    "movie['duration_group']=movie['duration'].apply(categorize)\n",
    "movie.groupby(\"duration_group\")[\"duration\"].count()"
   ]
  },
  {
   "cell_type": "markdown",
   "metadata": {},
   "source": [
    "3. We can convert a categorical variable into a numerical one. To do so, we define a function that assigns an integer value for each category of the variable. Moreover we can use dummies() function to obtain dummy columns each consists of 0 and 1 according to the the existence of related category level."
   ]
  },
  {
   "cell_type": "markdown",
   "metadata": {},
   "source": [
    "4.  `Age` is generally considered as a discrete variable. However we may take `Age` as a continuous variable since it is possible to calculate someone's age  in years, months, weeks, days, hours, minutes, seconds, nanoseconds, milliseconds etc. But it is practically useless and does not make much sense. So we mostly use it as a discrete variable."
   ]
  },
  {
   "cell_type": "markdown",
   "metadata": {},
   "source": [
    "5.  `Money` is a countable data since it has a minimum unit, etc. cent for dollar. However, variables like `income` or `revenue` can actually take infinitely many numbers. So they are considered continuous in some cases.  \n",
    "    `Time` is also a controversial variable. When we consider the time where we see on the watch, it is actually a discrete variable since we can count every second of it. However in physics, when we increase the resolution of time, it goes to infinity. "
   ]
  },
  {
   "cell_type": "code",
   "execution_count": null,
   "metadata": {},
   "outputs": [],
   "source": []
  }
 ],
 "metadata": {
  "kernelspec": {
   "display_name": "Python 3",
   "language": "python",
   "name": "python3"
  },
  "language_info": {
   "codemirror_mode": {
    "name": "ipython",
    "version": 3
   },
   "file_extension": ".py",
   "mimetype": "text/x-python",
   "name": "python",
   "nbconvert_exporter": "python",
   "pygments_lexer": "ipython3",
   "version": "3.7.6"
  }
 },
 "nbformat": 4,
 "nbformat_minor": 4
}
