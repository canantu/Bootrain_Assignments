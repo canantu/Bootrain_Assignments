{
 "cells": [
  {
   "cell_type": "markdown",
   "metadata": {},
   "source": [
    "# Assignment\n",
    "\n",
    "1. Let's assume that you have World Bank data on financial, economic and social indicators for several countries. You want to measure the factors that affect the level of development in these countries. To this end, you decide to use per capita income as a proxy for the development level, which is defined as the national income divided by the population. You want to use some features in your dataset to predict per capita income. Is this task a classification or a regression task? Why? \n",
    "\n"
   ]
  },
  {
   "cell_type": "markdown",
   "metadata": {},
   "source": [
    "Making a prediction about per capita income is a regression problem since per capita income is a continuous variable and it is better to use regression with continuous variables. However, predicting development level based on per capita income may be constructed as a classification problem. Because this time based on a continuous variable(per capita income), we try to put countries into several groups(development levels like developed, developing, underdeveloped etc.)"
   ]
  },
  {
   "cell_type": "markdown",
   "metadata": {},
   "source": [
    "2. Which of the following arguments are false and why?\n",
    "    - OLS is a special type of linear regression models. \n",
    "    - Regression models become useless if they don’t meet the assumptions of linear regression. \n",
    "    - Estimation and prediction are the same thing in the context of linear regression models.\n",
    "    - Linear regression model is only one kind of regression models. Regression problems can also be solved with other kind of models like Support Vector Machines or Random Forests.\n",
    "\n"
   ]
  },
  {
   "cell_type": "markdown",
   "metadata": {},
   "source": [
    "  a. False. OLS is not a type of model, it is the parameter estimation method for linear regression.   \n",
    "    b. False. There are some methods to use regression models even if they do not meet the assumptions.  \n",
    "    c. False. Estimation is about estimating the value of parameters, but Prediction is predicting the response value with a given observed feature.   \n",
    "    d. True.  "
   ]
  },
  {
   "cell_type": "markdown",
   "metadata": {},
   "source": [
    "3. Assume that your project manager wants you to discover which free services your company offers make your customers buy more of your paid services. Formulate this task as a regression problem and write down the potential outcome and features that you’d like to work on."
   ]
  },
  {
   "cell_type": "markdown",
   "metadata": {},
   "source": [
    "Response Variable: Number of paid services bought by the customer who uses several free services  \n",
    "Features: Free services used by the customer (free_service_1, free_service_2, free_service_3)\n",
    "    \n",
    "   Features are binary variables which show a specific free service is used by customer1 or not.\n",
    "   Response is an integer valued variable that shows number of paid services that the related customer buy."
   ]
  },
  {
   "cell_type": "code",
   "execution_count": null,
   "metadata": {},
   "outputs": [],
   "source": []
  }
 ],
 "metadata": {
  "kernelspec": {
   "display_name": "Python 3",
   "language": "python",
   "name": "python3"
  },
  "language_info": {
   "codemirror_mode": {
    "name": "ipython",
    "version": 3
   },
   "file_extension": ".py",
   "mimetype": "text/x-python",
   "name": "python",
   "nbconvert_exporter": "python",
   "pygments_lexer": "ipython3",
   "version": "3.7.6"
  }
 },
 "nbformat": 4,
 "nbformat_minor": 4
}
