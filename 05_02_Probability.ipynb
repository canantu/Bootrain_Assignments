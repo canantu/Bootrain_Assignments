{
 "cells": [
  {
   "cell_type": "markdown",
   "metadata": {},
   "source": [
    "# Assignment"
   ]
  },
  {
   "cell_type": "markdown",
   "metadata": {},
   "source": [
    "Please upload your solutions to the following assignments as Jupyter Notebook to your GitHub account and share the GitHub link with the button below. You can talk to your mentor about the issues you have in mind or ask Slack at office time."
   ]
  },
  {
   "cell_type": "markdown",
   "metadata": {},
   "source": [
    "It has been found that some of the computers sold by Company A are defective. Assuming that there are 3 computer-producing companies (A, B, and C), the amount of computer production of these companies and the probabilities of defective production are as follows:\n",
    "\n",
    "Total production percentage : <br>\n",
    "$P(A)=0.40$<br>\n",
    "$P(B)=0.40$ <br>\n",
    "$P(C)=0.20$<br>\n",
    "\n",
    "Possibility of defective production :<br>\n",
    "$P(D|A)=0.015$<br>\n",
    "$P(D|B)=0.020$<br>\n",
    "$P(D|C)=0.010$\n",
    "\n",
    "What is the probability that a randomly selected defective computer will be produced by company B?"
   ]
  },
  {
   "cell_type": "markdown",
   "metadata": {},
   "source": [
    "# Answer"
   ]
  },
  {
   "cell_type": "markdown",
   "metadata": {},
   "source": [
    "The question is about the probability of selecting the computer produced by company B given that the computer is defective. So the formula for conditional probability is:<br>\n",
    "\n",
    "$P(B|D) = P(D|B)*P(B)/P(D)$<br>\n",
    "\n",
    "We know following quantities:<br>\n",
    "\n",
    "$P(D|B)=0.020$<br>\n",
    "\n",
    "$P(B)=0.40$\n",
    "\n",
    "$P(D)$ is sum of $P(D|A)+ P(D|B) + P(D|C)$\n",
    "    "
   ]
  },
  {
   "cell_type": "code",
   "execution_count": 3,
   "metadata": {},
   "outputs": [
    {
     "name": "stdout",
     "output_type": "stream",
     "text": [
      "Probability of selecting the computer produced by Company B given that it is defective is : 0.18 \n"
     ]
    }
   ],
   "source": [
    "prob_DgivenA = 0.015\n",
    "prob_DgivenB= 0.020\n",
    "prob_DgivenC = 0.010\n",
    "\n",
    "prob_D= prob_DgivenA + prob_DgivenB + prob_DgivenC\n",
    "\n",
    "prob_B = 0.4\n",
    "\n",
    "prob_BgivenD = (prob_DgivenB*prob_B)/prob_D\n",
    "print('Probability of selecting the computer produced by Company B given that it is defective is : {:.2f} '\\\n",
    "      .format(prob_BgivenD))"
   ]
  },
  {
   "cell_type": "code",
   "execution_count": null,
   "metadata": {},
   "outputs": [],
   "source": []
  }
 ],
 "metadata": {
  "kernelspec": {
   "display_name": "Python 3",
   "language": "python",
   "name": "python3"
  },
  "language_info": {
   "codemirror_mode": {
    "name": "ipython",
    "version": 3
   },
   "file_extension": ".py",
   "mimetype": "text/x-python",
   "name": "python",
   "nbconvert_exporter": "python",
   "pygments_lexer": "ipython3",
   "version": "3.7.6"
  }
 },
 "nbformat": 4,
 "nbformat_minor": 4
}
