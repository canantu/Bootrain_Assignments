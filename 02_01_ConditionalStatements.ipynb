{
 "cells": [
  {
   "cell_type": "markdown",
   "metadata": {},
   "source": [
    "# Assignments for \"Conditional Statements\""
   ]
  },
  {
   "cell_type": "markdown",
   "metadata": {},
   "source": [
    "1. Please get Celcius or Fahrenheit degrees from users and type a code to convert these heat units to each other.  \n",
    "    For conversion, please use this formula: C = (5/9) * (F - 32)\n",
    "    \n",
    "        Example : \"40C\" --> \"104F\"\n",
    "                  \"52F\" --> \"11.1C\""
   ]
  },
  {
   "cell_type": "code",
   "execution_count": null,
   "metadata": {},
   "outputs": [],
   "source": [
    "temp_input=input('Enter a Celcius or Fahrenheit degree: ')\n",
    "if 'C' in temp_input:\n",
    "    celcius=int(temp_input[0:-1])\n",
    "    \n",
    "    fahrenheit=celcius*(9/5)+32\n",
    "    print('Temperature in fahrenheit is: {}'.format(fahrenheit))\n",
    "\n",
    "elif 'F' in temp_input:\n",
    "    fahrenheit=int(temp_input[0:-1])\n",
    "    \n",
    "    celcius=(fahrenheit-32)*(5/9)\n",
    "    print('Temperature in celcius is: {}'.format(celcius))\n",
    "\n",
    "else :\n",
    "    print('Enter a valid temperature value')"
   ]
  },
  {
   "cell_type": "markdown",
   "metadata": {},
   "source": [
    "2. A company decided to give a bonus of 5% to the employees if his/her year of service is more than 5 years.\n",
    "Ask the user for their salary and year of service and print the net bonus amount."
   ]
  },
  {
   "cell_type": "code",
   "execution_count": null,
   "metadata": {},
   "outputs": [],
   "source": [
    "salary=int(input(\"Enter your salary: \"))\n",
    "year_of_service=int(input(\"Enter your year of service: \"))\n",
    "if year_of_service > 5:\n",
    "    print(\"Total bonus amount is \", int(salary)*0.05)\n",
    "else: \n",
    "    print(\"Total bonus amount is 0.\")"
   ]
  },
  {
   "cell_type": "markdown",
   "metadata": {},
   "source": [
    "3. Take input of ages of 3 people by the user and determine the oldest and youngest among them."
   ]
  },
  {
   "cell_type": "code",
   "execution_count": null,
   "metadata": {},
   "outputs": [],
   "source": [
    "a=int(input(\"Enter your age: \"))\n",
    "b=int(input(\"Enter your age: \"))\n",
    "c=int(input(\"Enter your age: \"))\n",
    "\n",
    "max=a\n",
    "\n",
    "if b>a:\n",
    "    max=b\n",
    "    if c>b:\n",
    "        max=c\n",
    "\n",
    "elif c>a:\n",
    "    max=c\n",
    "       \n",
    "    \n",
    "print(\"Oldest person is {} years old.\".format(max))\n",
    "\n",
    "min=a\n",
    "if b<a:\n",
    "    min=b\n",
    "    if c<b:\n",
    "        min=c\n",
    "        \n",
    "elif c<a:\n",
    "    min=c\n",
    "    \n",
    "print(\"Youngest person is {} years old.\".format(min))"
   ]
  },
  {
   "cell_type": "markdown",
   "metadata": {},
   "source": [
    "4. A student will not be allowed to attend to the exam if his / her attendance to classes is less than 75%. Take followings input from the user:\n",
    "    - Number of classes held,\n",
    "    - Number of classes attended.\n",
    "   \n",
    "    Then, print the percentage of classes attended and whether the student is allowed to attend in an exam or not."
   ]
  },
  {
   "cell_type": "code",
   "execution_count": null,
   "metadata": {},
   "outputs": [],
   "source": [
    "classes_held=int(input(\"Enter the number of classes held: \"))\n",
    "classes_attended=int(input(\"Enter the number of classes attended: \"))\n",
    "\n",
    "attendance_ratio=classes_attended/classes_held\n",
    "\n",
    "if attendance_ratio>=0.75:\n",
    "    print(\"Attendance ratio is {} and eligible for the exam.\".format(attendance_ratio))\n",
    "else: \n",
    "    print(\"Attendance ratio is {} and not eligible for the exam.\".format(attendance_ratio))"
   ]
  },
  {
   "cell_type": "markdown",
   "metadata": {},
   "source": [
    "5. In this exercise, you will create a program that reads a letter of the alphabet from the user. According to the answer:\n",
    "\n",
    "    - If the user enters `a, e, i, o, u`, then your program should display a message indicating that the entered letter is a vowel.\n",
    "    - If the user enters `y`, then your program should display a message indicating that y is sometimes a vowel and sometimes a consonant.\n",
    "    - Otherwise, your program should display a message indicating that the letter is a consonant."
   ]
  },
  {
   "cell_type": "code",
   "execution_count": null,
   "metadata": {},
   "outputs": [],
   "source": [
    "letter=input(\"Enter a letter: \")\n",
    "if letter in ['a', 'e','o', 'u', 'i']:\n",
    "    print(\"The letter entered is vowel.\")\n",
    "    \n",
    "elif letter=='y':\n",
    "    print(\"The letter entered is sometimes vowel and sometimes consonant.\")\n",
    "    \n",
    "else:\n",
    "    print(\"The letter entered is consonant.\")"
   ]
  }
 ],
 "metadata": {
  "kernelspec": {
   "display_name": "Python 3",
   "language": "python",
   "name": "python3"
  },
  "language_info": {
   "codemirror_mode": {
    "name": "ipython",
    "version": 3
   },
   "file_extension": ".py",
   "mimetype": "text/x-python",
   "name": "python",
   "nbconvert_exporter": "python",
   "pygments_lexer": "ipython3",
   "version": "3.7.6"
  }
 },
 "nbformat": 4,
 "nbformat_minor": 4
}
