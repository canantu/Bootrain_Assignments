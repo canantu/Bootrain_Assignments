{
 "cells": [
  {
   "cell_type": "markdown",
   "metadata": {},
   "source": [
    "# Assignment"
   ]
  },
  {
   "cell_type": "markdown",
   "metadata": {},
   "source": [
    "1. Find a data set and build a KNN Regression and an OLS regression. Compare the two. How similar are they? Do they miss in different ways?\n",
    "2. What are potential problems with implementing kNN on a very large dataset?\n",
    "3. Describe the training set and test set accuracy as the value of K increases?<\n",
    "4. Which one of the statements are true:\n",
    "    * KNN performs much better if all of the data have the same scale\n",
    "    * KNN works well with a small number of input variables (p), but struggles when the number of inputs is very large\n",
    "    * KNN makes no assumptions about the functional form of the problem being solved\n",
    "5. Calculate the distance between A(1,3) and B(2,3) based on Euclidean and Manhattan"
   ]
  },
  {
   "cell_type": "markdown",
   "metadata": {},
   "source": [
    "# Solutions"
   ]
  },
  {
   "cell_type": "markdown",
   "metadata": {},
   "source": [
    "1. "
   ]
  },
  {
   "cell_type": "code",
   "execution_count": null,
   "metadata": {},
   "outputs": [],
   "source": [
    "import pandas as pd\n",
    "import matplotlib.pyplot as plt\n",
    "from sklearn.model_selection import train_test_split\n",
    "from sklearn.metrics import classification_report\n",
    "from sklearn.neighbors import KNeighborsClassifier"
   ]
  },
  {
   "cell_type": "code",
   "execution_count": 2,
   "metadata": {},
   "outputs": [],
   "source": [
    "data = pd.read_csv('model.csv')"
   ]
  },
  {
   "cell_type": "code",
   "execution_count": 12,
   "metadata": {},
   "outputs": [],
   "source": [
    "data.drop(columns=['Unnamed: 0', 'lemma'], inplace=True)"
   ]
  },
  {
   "cell_type": "code",
   "execution_count": 55,
   "metadata": {},
   "outputs": [
    {
     "data": {
      "text/html": [
       "<div>\n",
       "<style scoped>\n",
       "    .dataframe tbody tr th:only-of-type {\n",
       "        vertical-align: middle;\n",
       "    }\n",
       "\n",
       "    .dataframe tbody tr th {\n",
       "        vertical-align: top;\n",
       "    }\n",
       "\n",
       "    .dataframe thead th {\n",
       "        text-align: right;\n",
       "    }\n",
       "</style>\n",
       "<table border=\"1\" class=\"dataframe\">\n",
       "  <thead>\n",
       "    <tr style=\"text-align: right;\">\n",
       "      <th></th>\n",
       "      <th>target_dis</th>\n",
       "      <th>0</th>\n",
       "      <th>1</th>\n",
       "      <th>2</th>\n",
       "      <th>3</th>\n",
       "      <th>4</th>\n",
       "      <th>5</th>\n",
       "      <th>6</th>\n",
       "      <th>7</th>\n",
       "      <th>8</th>\n",
       "      <th>...</th>\n",
       "      <th>90</th>\n",
       "      <th>91</th>\n",
       "      <th>92</th>\n",
       "      <th>93</th>\n",
       "      <th>94</th>\n",
       "      <th>95</th>\n",
       "      <th>96</th>\n",
       "      <th>97</th>\n",
       "      <th>98</th>\n",
       "      <th>99</th>\n",
       "    </tr>\n",
       "  </thead>\n",
       "  <tbody>\n",
       "    <tr>\n",
       "      <th>0</th>\n",
       "      <td>1.0</td>\n",
       "      <td>0.056922</td>\n",
       "      <td>0.164624</td>\n",
       "      <td>-0.083723</td>\n",
       "      <td>0.089162</td>\n",
       "      <td>-0.006487</td>\n",
       "      <td>0.037945</td>\n",
       "      <td>-0.050944</td>\n",
       "      <td>0.053486</td>\n",
       "      <td>0.033037</td>\n",
       "      <td>...</td>\n",
       "      <td>0.057478</td>\n",
       "      <td>-0.058441</td>\n",
       "      <td>-0.054603</td>\n",
       "      <td>-0.155688</td>\n",
       "      <td>-0.209076</td>\n",
       "      <td>0.000846</td>\n",
       "      <td>-0.143593</td>\n",
       "      <td>-0.064243</td>\n",
       "      <td>0.185596</td>\n",
       "      <td>0.117643</td>\n",
       "    </tr>\n",
       "    <tr>\n",
       "      <th>1</th>\n",
       "      <td>1.0</td>\n",
       "      <td>0.060277</td>\n",
       "      <td>0.166590</td>\n",
       "      <td>-0.078193</td>\n",
       "      <td>0.073723</td>\n",
       "      <td>0.009763</td>\n",
       "      <td>0.023502</td>\n",
       "      <td>-0.020445</td>\n",
       "      <td>0.049496</td>\n",
       "      <td>0.031500</td>\n",
       "      <td>...</td>\n",
       "      <td>0.052591</td>\n",
       "      <td>-0.069445</td>\n",
       "      <td>-0.029355</td>\n",
       "      <td>-0.166402</td>\n",
       "      <td>-0.210763</td>\n",
       "      <td>0.023176</td>\n",
       "      <td>-0.138070</td>\n",
       "      <td>-0.083936</td>\n",
       "      <td>0.162599</td>\n",
       "      <td>0.099778</td>\n",
       "    </tr>\n",
       "    <tr>\n",
       "      <th>2</th>\n",
       "      <td>1.0</td>\n",
       "      <td>0.066689</td>\n",
       "      <td>0.154519</td>\n",
       "      <td>-0.125050</td>\n",
       "      <td>0.053231</td>\n",
       "      <td>0.002072</td>\n",
       "      <td>0.029694</td>\n",
       "      <td>-0.071555</td>\n",
       "      <td>0.038849</td>\n",
       "      <td>0.042394</td>\n",
       "      <td>...</td>\n",
       "      <td>0.041421</td>\n",
       "      <td>-0.097197</td>\n",
       "      <td>-0.072598</td>\n",
       "      <td>-0.173655</td>\n",
       "      <td>-0.164762</td>\n",
       "      <td>0.070325</td>\n",
       "      <td>-0.142533</td>\n",
       "      <td>-0.093090</td>\n",
       "      <td>0.132454</td>\n",
       "      <td>0.099096</td>\n",
       "    </tr>\n",
       "    <tr>\n",
       "      <th>3</th>\n",
       "      <td>1.0</td>\n",
       "      <td>0.068864</td>\n",
       "      <td>0.181199</td>\n",
       "      <td>-0.092173</td>\n",
       "      <td>0.045284</td>\n",
       "      <td>0.017526</td>\n",
       "      <td>0.018162</td>\n",
       "      <td>-0.043599</td>\n",
       "      <td>0.047741</td>\n",
       "      <td>0.040678</td>\n",
       "      <td>...</td>\n",
       "      <td>0.070997</td>\n",
       "      <td>-0.082225</td>\n",
       "      <td>-0.077213</td>\n",
       "      <td>-0.190998</td>\n",
       "      <td>-0.150294</td>\n",
       "      <td>0.050184</td>\n",
       "      <td>-0.116984</td>\n",
       "      <td>-0.079039</td>\n",
       "      <td>0.198876</td>\n",
       "      <td>0.125751</td>\n",
       "    </tr>\n",
       "    <tr>\n",
       "      <th>4</th>\n",
       "      <td>1.0</td>\n",
       "      <td>0.065049</td>\n",
       "      <td>0.108286</td>\n",
       "      <td>-0.097758</td>\n",
       "      <td>0.078894</td>\n",
       "      <td>-0.016895</td>\n",
       "      <td>0.064657</td>\n",
       "      <td>-0.077155</td>\n",
       "      <td>0.036124</td>\n",
       "      <td>0.007987</td>\n",
       "      <td>...</td>\n",
       "      <td>0.072197</td>\n",
       "      <td>-0.047028</td>\n",
       "      <td>-0.052295</td>\n",
       "      <td>-0.127663</td>\n",
       "      <td>-0.195309</td>\n",
       "      <td>0.023115</td>\n",
       "      <td>-0.123895</td>\n",
       "      <td>-0.044071</td>\n",
       "      <td>0.132321</td>\n",
       "      <td>0.099286</td>\n",
       "    </tr>\n",
       "  </tbody>\n",
       "</table>\n",
       "<p>5 rows × 101 columns</p>\n",
       "</div>"
      ],
      "text/plain": [
       "   target_dis         0         1         2         3         4         5  \\\n",
       "0         1.0  0.056922  0.164624 -0.083723  0.089162 -0.006487  0.037945   \n",
       "1         1.0  0.060277  0.166590 -0.078193  0.073723  0.009763  0.023502   \n",
       "2         1.0  0.066689  0.154519 -0.125050  0.053231  0.002072  0.029694   \n",
       "3         1.0  0.068864  0.181199 -0.092173  0.045284  0.017526  0.018162   \n",
       "4         1.0  0.065049  0.108286 -0.097758  0.078894 -0.016895  0.064657   \n",
       "\n",
       "          6         7         8  ...        90        91        92        93  \\\n",
       "0 -0.050944  0.053486  0.033037  ...  0.057478 -0.058441 -0.054603 -0.155688   \n",
       "1 -0.020445  0.049496  0.031500  ...  0.052591 -0.069445 -0.029355 -0.166402   \n",
       "2 -0.071555  0.038849  0.042394  ...  0.041421 -0.097197 -0.072598 -0.173655   \n",
       "3 -0.043599  0.047741  0.040678  ...  0.070997 -0.082225 -0.077213 -0.190998   \n",
       "4 -0.077155  0.036124  0.007987  ...  0.072197 -0.047028 -0.052295 -0.127663   \n",
       "\n",
       "         94        95        96        97        98        99  \n",
       "0 -0.209076  0.000846 -0.143593 -0.064243  0.185596  0.117643  \n",
       "1 -0.210763  0.023176 -0.138070 -0.083936  0.162599  0.099778  \n",
       "2 -0.164762  0.070325 -0.142533 -0.093090  0.132454  0.099096  \n",
       "3 -0.150294  0.050184 -0.116984 -0.079039  0.198876  0.125751  \n",
       "4 -0.195309  0.023115 -0.123895 -0.044071  0.132321  0.099286  \n",
       "\n",
       "[5 rows x 101 columns]"
      ]
     },
     "execution_count": 55,
     "metadata": {},
     "output_type": "execute_result"
    }
   ],
   "source": [
    "data.head()"
   ]
  },
  {
   "cell_type": "code",
   "execution_count": 54,
   "metadata": {},
   "outputs": [
    {
     "name": "stdout",
     "output_type": "stream",
     "text": [
      "<class 'pandas.core.frame.DataFrame'>\n",
      "RangeIndex: 7527 entries, 0 to 7526\n",
      "Columns: 101 entries, target_dis to 99\n",
      "dtypes: float64(101)\n",
      "memory usage: 5.8 MB\n"
     ]
    }
   ],
   "source": [
    "data.info()"
   ]
  },
  {
   "cell_type": "markdown",
   "metadata": {},
   "source": [
    "### K-Nearest Neighbor Classification"
   ]
  },
  {
   "cell_type": "code",
   "execution_count": 110,
   "metadata": {},
   "outputs": [
    {
     "name": "stdout",
     "output_type": "stream",
     "text": [
      "              precision    recall  f1-score   support\n",
      "\n",
      "         0.0       0.70      0.76      0.73      1291\n",
      "         1.0       0.64      0.57      0.60       968\n",
      "\n",
      "    accuracy                           0.68      2259\n",
      "   macro avg       0.67      0.67      0.67      2259\n",
      "weighted avg       0.68      0.68      0.68      2259\n",
      "\n"
     ]
    }
   ],
   "source": [
    "neighbors = KNeighborsClassifier(n_neighbors=7)\n",
    "X = data.iloc[:,1:]\n",
    "Y = data['target_dis']\n",
    "neighbors.fit(X, Y)\n",
    "\n",
    "X_train, X_test, y_train, y_test = train_test_split(X, Y, test_size=0.3, random_state = 42 )\n",
    "predictions = neighbors.predict(X_test)\n",
    "\n",
    "cr = classification_report(y_test, predictions)\n",
    "print(cr)"
   ]
  },
  {
   "cell_type": "code",
   "execution_count": 111,
   "metadata": {},
   "outputs": [
    {
     "data": {
      "text/plain": [
       "0.6852695520121488"
      ]
     },
     "execution_count": 111,
     "metadata": {},
     "output_type": "execute_result"
    }
   ],
   "source": [
    "neighbors.score(X_train, y_train)"
   ]
  },
  {
   "cell_type": "markdown",
   "metadata": {},
   "source": [
    "### KNN Regression"
   ]
  },
  {
   "cell_type": "code",
   "execution_count": 33,
   "metadata": {},
   "outputs": [],
   "source": [
    "from sklearn import neighbors"
   ]
  },
  {
   "cell_type": "code",
   "execution_count": 34,
   "metadata": {},
   "outputs": [],
   "source": [
    "knn = neighbors.KNeighborsRegressor(n_neighbors=10)"
   ]
  },
  {
   "cell_type": "code",
   "execution_count": 81,
   "metadata": {},
   "outputs": [],
   "source": [
    "X = data.iloc[:,1:]\n",
    "Y = data['target_dis']\n",
    "\n",
    "X_train, X_test, y_train, y_test = train_test_split(X, Y, test_size=0.3, random_state = 42 )\n",
    "\n",
    "knn.fit(X_train, y_train)\n",
    "\n",
    "knn_Y_ = knn.predict(X_test)"
   ]
  },
  {
   "cell_type": "markdown",
   "metadata": {},
   "source": [
    "### OLS Regression"
   ]
  },
  {
   "cell_type": "code",
   "execution_count": 60,
   "metadata": {},
   "outputs": [],
   "source": [
    "from sklearn.linear_model import LogisticRegression"
   ]
  },
  {
   "cell_type": "code",
   "execution_count": 82,
   "metadata": {},
   "outputs": [],
   "source": [
    "X = data.iloc[:,1:]\n",
    "Y = data['target_dis']\n",
    "X_train, X_test, y_train, y_test = train_test_split(X, Y, test_size=0.3, random_state = 42 )\n",
    "\n",
    "log_reg = LogisticRegression()\n",
    "\n",
    "log_reg.fit(X_train, y_train)\n",
    "\n",
    "OLS_Y_ = log_reg.predict(X_test)"
   ]
  },
  {
   "cell_type": "code",
   "execution_count": 97,
   "metadata": {},
   "outputs": [
    {
     "name": "stdout",
     "output_type": "stream",
     "text": [
      "0.7281983178397521\n"
     ]
    }
   ],
   "source": [
    "for i, j in enumerate(knn_Y_):\n",
    "    if j<=0.5:\n",
    "        knn_Y_[i]=0\n",
    "    else:\n",
    "        knn_Y_[i]=1\n",
    "        \n",
    "count = 0\n",
    "for i, j in enumerate(knn_Y_):\n",
    "    if j==OLS_Y_[i]:\n",
    "        count = count+1\n",
    "        \n",
    "similarity_ratio= count/len(knn_Y_)\n",
    "print(similarity_ratio)"
   ]
  },
  {
   "cell_type": "code",
   "execution_count": 92,
   "metadata": {},
   "outputs": [],
   "source": []
  },
  {
   "cell_type": "markdown",
   "metadata": {},
   "source": [
    "2. KNN is computationally inefficient because for every point, it processes all points in the set in order to calculate the distances. Also after calculating all distances, it goes through all points to find the nearest point. Its order of complexity is n-squared."
   ]
  },
  {
   "cell_type": "markdown",
   "metadata": {},
   "source": [
    "3. As we increase the k value (number of neighbors), accuracy decreases. Because, as we increase k value, we also increase search space. We search the nearest points in a larger space and it is possible to find different categories in a bigger search space. So, the accuracy decreases."
   ]
  },
  {
   "cell_type": "markdown",
   "metadata": {},
   "source": [
    "4. a. True  \n",
    "   b. True  \n",
    "   c. True  "
   ]
  },
  {
   "cell_type": "code",
   "execution_count": 128,
   "metadata": {},
   "outputs": [
    {
     "name": "stdout",
     "output_type": "stream",
     "text": [
      "Euclidean: 1.0 \n",
      "Manhattan: 1\n"
     ]
    }
   ],
   "source": [
    "from scipy.spatial import distance\n",
    "A = (1,3)\n",
    "B = (2,3)\n",
    "dist1 = distance.euclidean(A, B)\n",
    "dist2 = distance.cityblock(A, B)\n",
    "\n",
    "print('Euclidean:',dist1, '\\nManhattan:',dist2)"
   ]
  },
  {
   "cell_type": "code",
   "execution_count": null,
   "metadata": {},
   "outputs": [],
   "source": []
  },
  {
   "cell_type": "code",
   "execution_count": 120,
   "metadata": {},
   "outputs": [],
   "source": []
  }
 ],
 "metadata": {
  "kernelspec": {
   "display_name": "Python 3",
   "language": "python",
   "name": "python3"
  },
  "language_info": {
   "codemirror_mode": {
    "name": "ipython",
    "version": 3
   },
   "file_extension": ".py",
   "mimetype": "text/x-python",
   "name": "python",
   "nbconvert_exporter": "python",
   "pygments_lexer": "ipython3",
   "version": "3.8.5"
  }
 },
 "nbformat": 4,
 "nbformat_minor": 4
}
