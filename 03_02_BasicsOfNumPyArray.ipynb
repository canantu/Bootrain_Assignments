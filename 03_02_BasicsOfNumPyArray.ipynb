{
 "cells": [
  {
   "cell_type": "markdown",
   "metadata": {},
   "source": [
    "# <font color=blue>Assignments for \"basics of NumPy Array\"</font>"
   ]
  },
  {
   "cell_type": "markdown",
   "metadata": {},
   "source": [
    "1. Create 3 lists representing house features, each list containing 10 values. First one for squaremeter of house, second one for rooms and last one for price. Then, create an array combining these lists."
   ]
  },
  {
   "cell_type": "code",
   "execution_count": 2,
   "metadata": {},
   "outputs": [],
   "source": [
    "import numpy as np\n",
    "sqrmtr=[50, 55, 60, 65, 70, 75, 80, 85, 90, 95]\n",
    "rooms=[2, 2, 3, 2, 3, 3, 3, 4, 2, 4]\n",
    "price=[400, 450, 550, 640, 430, 560, 700, 670, 900, 800]\n",
    "houses= np.array([sqrmtr, rooms, price])"
   ]
  },
  {
   "cell_type": "markdown",
   "metadata": {},
   "source": [
    "2. Transpose the array you have created, so that every line can represent features of one house."
   ]
  },
  {
   "cell_type": "code",
   "execution_count": 6,
   "metadata": {},
   "outputs": [],
   "source": [
    "new_houses=houses.T"
   ]
  },
  {
   "cell_type": "markdown",
   "metadata": {},
   "source": [
    "3. Display the shape of the array and explain what it means."
   ]
  },
  {
   "cell_type": "code",
   "execution_count": 7,
   "metadata": {},
   "outputs": [
    {
     "name": "stdout",
     "output_type": "stream",
     "text": [
      "[[ 50   2 400]\n",
      " [ 55   2 450]\n",
      " [ 60   3 550]\n",
      " [ 65   2 640]\n",
      " [ 70   3 430]\n",
      " [ 75   3 560]\n",
      " [ 80   3 700]\n",
      " [ 85   4 670]\n",
      " [ 90   2 900]\n",
      " [ 95   4 800]]\n"
     ]
    }
   ],
   "source": [
    "print(new_houses)"
   ]
  },
  {
   "cell_type": "markdown",
   "metadata": {},
   "source": [
    "Every row of the array represents a house with several properties. These properties are displayed with columns as square meter, number of rooms and price respectively. "
   ]
  },
  {
   "cell_type": "markdown",
   "metadata": {},
   "source": [
    "4. Write a function that returns an array of ones with zeros where both row and column numbers are even. Sample array is below. Number of rows and columns will be entered as parameters.\n",
    "\n",
    "```python\n",
    "    shape(6 x 5) --> [[1   1   1   1   1]\n",
    "                      [1   0   1   0   1]\n",
    "                      [1   1   1   1   1]\n",
    "                      [1   0   1   0   1]\n",
    "                      [1   1   1   1   1]\n",
    "                      [1   0   1   0   1]]\n",
    "```"
   ]
  },
  {
   "cell_type": "code",
   "execution_count": 8,
   "metadata": {},
   "outputs": [
    {
     "data": {
      "text/plain": [
       "array([[0., 1., 0., 1., 0., 1., 0., 1., 0., 1.],\n",
       "       [1., 1., 1., 1., 1., 1., 1., 1., 1., 1.],\n",
       "       [0., 1., 0., 1., 0., 1., 0., 1., 0., 1.],\n",
       "       [1., 1., 1., 1., 1., 1., 1., 1., 1., 1.],\n",
       "       [0., 1., 0., 1., 0., 1., 0., 1., 0., 1.],\n",
       "       [1., 1., 1., 1., 1., 1., 1., 1., 1., 1.],\n",
       "       [0., 1., 0., 1., 0., 1., 0., 1., 0., 1.],\n",
       "       [1., 1., 1., 1., 1., 1., 1., 1., 1., 1.],\n",
       "       [0., 1., 0., 1., 0., 1., 0., 1., 0., 1.],\n",
       "       [1., 1., 1., 1., 1., 1., 1., 1., 1., 1.]])"
      ]
     },
     "execution_count": 8,
     "metadata": {},
     "output_type": "execute_result"
    }
   ],
   "source": [
    "def array_zeros_ones(x,y):\n",
    "    \n",
    "    array_ones = np.ones((x,y))\n",
    "    len_rows = len(array_ones)\n",
    "    len_cols = len(array_ones[0])\n",
    "    for i in range(len_rows):\n",
    "        for j in range(len_cols):\n",
    "            if i % 2 ==0 and j % 2 == 0:\n",
    "                array_ones[i,j] = 0\n",
    "    return array_ones\n",
    "\n",
    "array_zeros_ones(10,10)"
   ]
  },
  {
   "cell_type": "code",
   "execution_count": null,
   "metadata": {},
   "outputs": [],
   "source": []
  }
 ],
 "metadata": {
  "kernelspec": {
   "display_name": "Python 3",
   "language": "python",
   "name": "python3"
  },
  "language_info": {
   "codemirror_mode": {
    "name": "ipython",
    "version": 3
   },
   "file_extension": ".py",
   "mimetype": "text/x-python",
   "name": "python",
   "nbconvert_exporter": "python",
   "pygments_lexer": "ipython3",
   "version": "3.7.6"
  }
 },
 "nbformat": 4,
 "nbformat_minor": 4
}
