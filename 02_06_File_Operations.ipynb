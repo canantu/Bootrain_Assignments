{
 "cells": [
  {
   "cell_type": "markdown",
   "metadata": {},
   "source": [
    "# Assignments for \"File Operations\""
   ]
  },
  {
   "cell_type": "markdown",
   "metadata": {},
   "source": [
    "1. Please write a poem you wanted in a `.txt` file and save it to the disk."
   ]
  },
  {
   "cell_type": "code",
   "execution_count": null,
   "metadata": {},
   "outputs": [],
   "source": []
  },
  {
   "cell_type": "markdown",
   "metadata": {},
   "source": [
    "2. Append a new poem into the file you have created."
   ]
  },
  {
   "cell_type": "code",
   "execution_count": 1,
   "metadata": {},
   "outputs": [
    {
     "name": "stdout",
     "output_type": "stream",
     "text": [
      "gelecegim bekle dedi gitti\n",
      "ben beklemedim, o da gelmedi\n",
      "olum gibi bir sey oldu\n",
      "ama kimse olmedi\n",
      "\n"
     ]
    }
   ],
   "source": [
    "with open(\"poem.txt\",'a') as f:\n",
    "    f.write=(\"\\nbir marti gögü ikiye boluyor\\n\")## yakinlarda deniz olmali diyorum\\n sonra gozlerin aklima geliyor.\\n\")\n",
    "    \n",
    "with open(\"poem.txt\", \"r\") as f:\n",
    "    lines=f.read()\n",
    "\n",
    "print (lines)"
   ]
  },
  {
   "cell_type": "markdown",
   "metadata": {},
   "source": [
    "3. Read and print all poems."
   ]
  },
  {
   "cell_type": "code",
   "execution_count": 2,
   "metadata": {},
   "outputs": [
    {
     "name": "stdout",
     "output_type": "stream",
     "text": [
      "gelecegim bekle dedi gitti\n",
      "ben beklemedim, o da gelmedi\n",
      "olum gibi bir sey oldu\n",
      "ama kimse olmedi\n",
      "\n",
      "bir marti gögü ikiye boluyor\n",
      "yakinlarda deniz olmali diyorum\n",
      "sonra gozlerin aklima geliyor.\n",
      "\n"
     ]
    }
   ],
   "source": [
    "with open(\"poem.txt\",'a') as f:   ## sonuna satir eklemek icin 'a' komutu ile aciyoruz\n",
    "    f.write(\"\\nbir marti gögü ikiye boluyor\\nyakinlarda deniz olmali diyorum\\nsonra gozlerin aklima geliyor.\\n\")\n",
    "\n",
    "with open(\"poem.txt\", \"r\") as f:\n",
    "    lines=f.read()\n",
    "\n",
    "print (lines)"
   ]
  },
  {
   "cell_type": "code",
   "execution_count": null,
   "metadata": {},
   "outputs": [],
   "source": []
  }
 ],
 "metadata": {
  "kernelspec": {
   "display_name": "Python 3",
   "language": "python",
   "name": "python3"
  },
  "language_info": {
   "codemirror_mode": {
    "name": "ipython",
    "version": 3
   },
   "file_extension": ".py",
   "mimetype": "text/x-python",
   "name": "python",
   "nbconvert_exporter": "python",
   "pygments_lexer": "ipython3",
   "version": "3.7.6"
  }
 },
 "nbformat": 4,
 "nbformat_minor": 4
}
